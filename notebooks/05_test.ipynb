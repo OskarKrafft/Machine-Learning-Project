{
  "nbformat": 4,
  "nbformat_minor": 0,
  "metadata": {
    "colab": {
      "provenance": [],
      "authorship_tag": "ABX9TyMuZ8e419FK5YtXRqoGILNO",
      "include_colab_link": true
    },
    "kernelspec": {
      "name": "python3",
      "display_name": "Python 3"
    },
    "language_info": {
      "name": "python"
    }
  },
  "cells": [
    {
      "cell_type": "markdown",
      "metadata": {
        "id": "view-in-github",
        "colab_type": "text"
      },
      "source": [
        "<a href=\"https://colab.research.google.com/github/OskarKrafft/Machine-Learning-Project/blob/main/notebooks/05_test.ipynb\" target=\"_parent\"><img src=\"https://colab.research.google.com/assets/colab-badge.svg\" alt=\"Open In Colab\"/></a>"
      ]
    },
    {
      "cell_type": "markdown",
      "source": [
        "# ADMIN"
      ],
      "metadata": {
        "id": "yecBZnDaXg47"
      }
    },
    {
      "cell_type": "code",
      "source": [
        "# Mount GDrive to facilitate data import\n",
        "from google.colab import drive\n",
        "drive.mount('/content/drive')"
      ],
      "metadata": {
        "id": "DxdMfoKRXj59"
      },
      "execution_count": null,
      "outputs": []
    },
    {
      "cell_type": "code",
      "source": [
        "# Change working directory to project folder\n",
        "%cd /content/drive/MyDrive/Colab Notebooks/Machine-Learning-Project"
      ],
      "metadata": {
        "id": "KHvnNZ7bXvV5"
      },
      "execution_count": null,
      "outputs": []
    },
    {
      "cell_type": "markdown",
      "source": [
        "# Import Test Data"
      ],
      "metadata": {
        "id": "wI1rXN4JXbf1"
      }
    },
    {
      "cell_type": "code",
      "execution_count": null,
      "metadata": {
        "id": "7orlbUp3XUpS"
      },
      "outputs": [],
      "source": [
        "# Importing the data\n",
        "import pandas as pd\n",
        "eppes_cleaned = pd.read_csv('./data/processed/eppes_cleaned.csv')\n",
        "eppes_cleaned = eppes_cleaned.drop(eppes_cleaned.columns[0], axis = 1)\n",
        "\n",
        "# Import Excel sheet containing column indeces to be dropped\n",
        "columns_analysis = pd.read_excel('./data/interim/Drop_Columns_categorical.xlsx')\n",
        "columns_analysis = columns_analysis.drop(columns_analysis.columns[[0]], axis = 1)\n",
        "\n",
        "# Create list of names of categorical columns \n",
        "col_names_categorical = []\n",
        "for i in range(872):\n",
        "  if columns_analysis.iloc[i, 3] == 'categorical':\n",
        "    col_names_categorical.append(columns_analysis.iloc[i, 1])\n",
        "\n",
        "# Change datatype of categorical variables to object\n",
        "eppes_cleaned[col_names_categorical] = eppes_cleaned[col_names_categorical].astype('object')\n",
        "\n",
        "# Define X and y\n",
        "print(eppes_cleaned.head())\n",
        "X = eppes_cleaned.drop(columns='qg1') # reference variable which contains voted y/n\n",
        "y = eppes_cleaned['qg1'] # reference variable which contains voted y/n\n",
        "\n",
        "# 80/20 train-test split\n",
        "from sklearn.model_selection import train_test_split\n",
        "X_train, X_test, y_train, y_test = train_test_split(X,y,test_size = 0.20, random_state=123)"
      ]
    },
    {
      "cell_type": "markdown",
      "source": [
        "# Import Models"
      ],
      "metadata": {
        "id": "ERkzPAR8Yj1R"
      }
    },
    {
      "cell_type": "code",
      "source": [
        "best_lg = joblib.load('./models/best-logistic-regression-model.joblib')\n",
        "best_nb = joblib.load('./models/best-nb-model.joblib')\n",
        "best_svm = joblib.load('./models/best-svm-model.joblib')\n",
        "best_rf = joblib.load('./models/best-rf-model.joblib')"
      ],
      "metadata": {
        "id": "J2wAuVP7Yips"
      },
      "execution_count": null,
      "outputs": []
    },
    {
      "cell_type": "markdown",
      "source": [
        "# Test"
      ],
      "metadata": {
        "id": "V0iqQI6BZGNd"
      }
    },
    {
      "cell_type": "code",
      "source": [
        "# fit all the models to the test data\n",
        "best_lg.fit(X_test, y_test)\n",
        "best_nb.fit(X_test, y_test)\n",
        "best_svm.fit(X_test, y_test)\n",
        "best_rf.fit(X_test, y_test)"
      ],
      "metadata": {
        "id": "KLsnTTKIZEDT"
      },
      "execution_count": null,
      "outputs": []
    },
    {
      "cell_type": "code",
      "source": [
        "# predict\n",
        "y_pred_lg = best_lg.predict(X_test)\n",
        "y_pred_nb = best_nb.predict(X_test)\n",
        "y_pred_svm = best_svm.predict(X_test)\n",
        "y_pred_rf = best_rf.predict(X_test)"
      ],
      "metadata": {
        "id": "l0e9QE75Y-J7"
      },
      "execution_count": null,
      "outputs": []
    },
    {
      "cell_type": "code",
      "source": [
        "# report f1 and mcc\n",
        "\n",
        "from sklearn.metrics import matthews_corrcoef, f1_score\n",
        "\n",
        "# f1 scores\n",
        "f1 = []\n",
        "f1.append((f1_score(y, y_pred_lg)))\n",
        "f1.append((f1_score(y, y_pred_nb)))\n",
        "f1.append((f1_score(y, y_pred_svm)))\n",
        "f1.append((f1_score(y, y_pred_rf)))\n",
        "\n",
        "# mcc scores\n",
        "mcc = []\n",
        "mmc.append((matthews_corrcoef(y, y_pred_lg)))\n",
        "mmc.append((matthews_corrcoef(y, y_pred_nb)))\n",
        "mmc.append((matthews_corrcoef(y, y_pred_svm)))\n",
        "mmc.append((matthews_corrcoef(y, y_pred_rf)))\n",
        "\n",
        "# define model names\n",
        "model = ['Logistic Regression', 'Naive Bayes', 'Support Vector Machine', 'Random Forest']\n",
        "\n",
        "# create data frame\n",
        "test_results = pd.DataFrame({'model': model, 'f1': f1, 'mcc': mcc})\n",
        "\n",
        "print(test_results)"
      ],
      "metadata": {
        "id": "GlkarkCQbji6"
      },
      "execution_count": null,
      "outputs": []
    },
    {
      "cell_type": "code",
      "source": [],
      "metadata": {
        "id": "q94o69uKeC5Y"
      },
      "execution_count": null,
      "outputs": []
    }
  ]
}