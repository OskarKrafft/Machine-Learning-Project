{
  "nbformat": 4,
  "nbformat_minor": 0,
  "metadata": {
    "colab": {
      "provenance": [],
      "include_colab_link": true
    },
    "kernelspec": {
      "name": "python3",
      "display_name": "Python 3"
    },
    "language_info": {
      "name": "python"
    }
  },
  "cells": [
    {
      "cell_type": "markdown",
      "metadata": {
        "id": "view-in-github",
        "colab_type": "text"
      },
      "source": [
        "<a href=\"https://colab.research.google.com/github/OskarKrafft/Machine-Learning-Project/blob/main/notebooks/07_SHAP_presentation_blogpost.ipynb\" target=\"_parent\"><img src=\"https://colab.research.google.com/assets/colab-badge.svg\" alt=\"Open In Colab\"/></a>"
      ]
    },
    {
      "cell_type": "code",
      "execution_count": 1,
      "metadata": {
        "colab": {
          "base_uri": "https://localhost:8080/"
        },
        "id": "Hgsf3tlRE_Z7",
        "outputId": "5579f73c-0a59-42ee-94f8-08872d2fc828"
      },
      "outputs": [
        {
          "output_type": "stream",
          "name": "stdout",
          "text": [
            "Drive already mounted at /content/drive; to attempt to forcibly remount, call drive.mount(\"/content/drive\", force_remount=True).\n",
            "/content/drive/MyDrive/Colab Notebooks/Machine-Learning-Project\n"
          ]
        }
      ],
      "source": [
        "# Mounting to Google Drive\n",
        "from google.colab import drive\n",
        "drive.mount('/content/drive')\n",
        "\n",
        "%cd /content/drive/MyDrive/Colab Notebooks/Machine-Learning-Project"
      ]
    },
    {
      "cell_type": "code",
      "source": [
        "# Change working directory to project folder\n",
        "%cd /content/drive/MyDrive/Colab Notebooks/Machine-Learning-Project"
      ],
      "metadata": {
        "colab": {
          "base_uri": "https://localhost:8080/"
        },
        "id": "nTmh44O0FPfv",
        "outputId": "557025b2-2f71-422f-acb3-5965d74e6deb"
      },
      "execution_count": 2,
      "outputs": [
        {
          "output_type": "stream",
          "name": "stdout",
          "text": [
            "/content/drive/MyDrive/Colab Notebooks/Machine-Learning-Project\n"
          ]
        }
      ]
    },
    {
      "cell_type": "markdown",
      "source": [
        "## Import Test Data"
      ],
      "metadata": {
        "id": "Adpkt_WHFiJz"
      }
    },
    {
      "cell_type": "code",
      "source": [
        "# Importing the data\n",
        "import pandas as pd\n",
        "eppes_cleaned = pd.read_csv('./data/processed/eppes_cleaned.csv')\n",
        "eppes_cleaned = eppes_cleaned.drop(eppes_cleaned.columns[0], axis = 1)\n",
        "\n",
        "# Import Excel sheet containing column indeces to be dropped\n",
        "columns_analysis = pd.read_excel('./data/interim/Drop_Columns_categorical.xlsx')\n",
        "columns_analysis = columns_analysis.drop(columns_analysis.columns[[0]], axis = 1)\n",
        "\n",
        "# Create list of names of categorical columns \n",
        "col_names_categorical = []\n",
        "for i in range(872):\n",
        "  if columns_analysis.iloc[i, 3] == 'categorical':\n",
        "    col_names_categorical.append(columns_analysis.iloc[i, 1])\n",
        "\n",
        "# Change datatype of categorical variables to object\n",
        "eppes_cleaned[col_names_categorical] = eppes_cleaned[col_names_categorical].astype('object')"
      ],
      "metadata": {
        "id": "UyKFRo8yFfvy"
      },
      "execution_count": 3,
      "outputs": []
    },
    {
      "cell_type": "code",
      "source": [
        "eppes_cleaned.rename(columns={'qg15': 'Voted in national elections', \n",
        "                              'd1': 'Political left-right scale', \n",
        "                              'd72_1': 'Voice counts in the EU', \n",
        "                              'd72_2': 'Voice counts in country', \n",
        "                              'd11': 'Age', \n",
        "                              'd71a_2': 'Discuss European politics', \n",
        "                              'd71a_1': 'Discuss national politics', \n",
        "                              'qg13_3': 'Read written press', \n",
        "                              'qf1': 'Opinion EU membership',\n",
        "                              'd71a_3': 'Discuss local politics'}, inplace=True)"
      ],
      "metadata": {
        "id": "r1EKU6YhObET"
      },
      "execution_count": 4,
      "outputs": []
    },
    {
      "cell_type": "code",
      "source": [
        "# Define X and y\n",
        "print(eppes_cleaned.head())\n",
        "X = eppes_cleaned.drop(columns='qg1') # reference variable which contains voted y/n\n",
        "y = eppes_cleaned['qg1'] # reference variable which contains voted y/n\n",
        "\n",
        "# 80/20 train-test split\n",
        "from sklearn.model_selection import train_test_split\n",
        "X_train, X_test, y_train, y_test = train_test_split(X,y,test_size = 0.20, random_state=123)\n",
        "\n",
        "from sklearn.preprocessing import LabelEncoder\n",
        "\n",
        "label_encoder = LabelEncoder()\n",
        "y_test = label_encoder.fit_transform(y_test)\n",
        "\n",
        "y_test_df = pd.DataFrame(data=y_test)\n",
        "y_test_df.value_counts(normalize=True)\n",
        "\n",
        "label_encoder = LabelEncoder()\n",
        "y_train = label_encoder.fit_transform(y_train)\n",
        "\n",
        "y_train_df = pd.DataFrame(data=y_train)\n",
        "y_train_df.value_counts(normalize=True)\n",
        "\n",
        "# Setting up pre-processing pipeline\n",
        "from sklearn.pipeline import Pipeline\n",
        "from sklearn.compose import ColumnTransformer\n",
        "from sklearn.preprocessing import StandardScaler, OneHotEncoder\n",
        "\n",
        "# Identify all categorical variables by data type\n",
        "categorical_X_features = X_test.select_dtypes(include=['object', 'bool']).columns\n",
        "\n",
        "# OneHotEncode all categorical variables\n",
        "categorical_transformer = OneHotEncoder(handle_unknown=\"error\")\n",
        "\n",
        "preprocessor = ColumnTransformer(remainder = 'passthrough', # remainder = passthrough for numerical variables to be kept unchanged\n",
        "    transformers=[\n",
        "        (\"cat\", categorical_transformer, categorical_X_features)]\n",
        ")\n",
        "# Inspect the number of variables after pre-processing\n",
        "\n",
        "# Fit the pipeline to the testing data\n",
        "preprocessor.fit(X_test)\n",
        "X_test_ = preprocessor.transform(X_test)\n",
        "\n",
        "# Fit the pipeline to the training data\n",
        "preprocessor.fit(X_train)\n",
        "X_train_ = preprocessor.transform(X_train)"
      ],
      "metadata": {
        "id": "FdF6eTywOZ9l",
        "outputId": "4c712114-6c34-4c0a-94ad-8c186eca6ee3",
        "colab": {
          "base_uri": "https://localhost:8080/"
        }
      },
      "execution_count": 5,
      "outputs": [
        {
          "output_type": "stream",
          "name": "stdout",
          "text": [
            "   q1.1  q1.2  q1.3  q1.4  q1.5  q1.6  q1.7  q1.8  q1.9  q1.10  ...  d43a  \\\n",
            "0   1.0   0.0   0.0   0.0   0.0   0.0   0.0   0.0   0.0    0.0  ...   2.0   \n",
            "1   0.0   0.0   0.0   1.0   0.0   0.0   0.0   0.0   0.0    0.0  ...   2.0   \n",
            "2   1.0   0.0   0.0   0.0   0.0   0.0   0.0   0.0   0.0    0.0  ...   2.0   \n",
            "3   0.0   0.0   0.0   0.0   0.0   0.0   0.0   0.0   0.0    0.0  ...   1.0   \n",
            "4   0.0   0.0   0.0   0.0   0.0   0.0   0.0   1.0   0.0    0.0  ...   2.0   \n",
            "\n",
            "   d43b  d46.8  d60  d62_1  d62_2  d63  Voice counts in the EU  \\\n",
            "0   1.0    1.0  1.0    3.0    6.0  1.0                     3.0   \n",
            "1   1.0    1.0  3.0    2.0    6.0  3.0                     2.0   \n",
            "2   2.0    1.0  1.0    1.0    5.0  2.0                     2.0   \n",
            "3   1.0    1.0  2.0    1.0    1.0  3.0                     2.0   \n",
            "4   1.0    1.0  1.0    1.0    5.0  2.0                     2.0   \n",
            "\n",
            "   Voice counts in country  d77  \n",
            "0                      3.0  2.0  \n",
            "1                      2.0  3.0  \n",
            "2                      2.0  1.0  \n",
            "3                      2.0  1.0  \n",
            "4                      2.0  3.0  \n",
            "\n",
            "[5 rows x 311 columns]\n"
          ]
        }
      ]
    },
    {
      "cell_type": "code",
      "source": [
        "y_test[421]"
      ],
      "metadata": {
        "id": "q77VPvdLK5V-"
      },
      "execution_count": null,
      "outputs": []
    },
    {
      "cell_type": "markdown",
      "source": [
        "## Import Models"
      ],
      "metadata": {
        "id": "WCxZFl8lFux8"
      }
    },
    {
      "cell_type": "code",
      "source": [
        "from sklearn.ensemble import RandomForestClassifier\n",
        "\n",
        "best_rf = RandomForestClassifier(max_depth = 30, n_estimators = 300, min_samples_split = 5, min_samples_leaf = 1, max_features = \"sqrt\", random_state = 123)"
      ],
      "metadata": {
        "id": "uaKvPmHoFx0w"
      },
      "execution_count": 6,
      "outputs": []
    },
    {
      "cell_type": "code",
      "source": [
        "best_rf.fit(X_train, y_train)"
      ],
      "metadata": {
        "colab": {
          "base_uri": "https://localhost:8080/"
        },
        "id": "vJP9q9wOGEpd",
        "outputId": "fd94c331-ad03-4bf4-be88-2e19a3cf67aa"
      },
      "execution_count": 7,
      "outputs": [
        {
          "output_type": "execute_result",
          "data": {
            "text/plain": [
              "RandomForestClassifier(max_depth=30, max_features='sqrt', min_samples_split=5,\n",
              "                       n_estimators=300, random_state=123)"
            ]
          },
          "metadata": {},
          "execution_count": 7
        }
      ]
    },
    {
      "cell_type": "code",
      "source": [
        "y_pred_rf = best_rf.predict(X_test)"
      ],
      "metadata": {
        "id": "h6KHPaiXib4Z"
      },
      "execution_count": 8,
      "outputs": []
    },
    {
      "cell_type": "code",
      "source": [
        "from sklearn.metrics import matthews_corrcoef, f1_score, accuracy_score, precision_score, recall_score\n",
        "mcc = []\n",
        "f1 = []\n",
        "\n",
        "mcc.append((matthews_corrcoef(y_test, y_pred_rf)))\n",
        "f1.append((f1_score(y_test, y_pred_rf)))"
      ],
      "metadata": {
        "id": "bS5es02eij0t"
      },
      "execution_count": 9,
      "outputs": []
    },
    {
      "cell_type": "code",
      "source": [
        "f1"
      ],
      "metadata": {
        "colab": {
          "base_uri": "https://localhost:8080/"
        },
        "id": "pHdI-iFrixjE",
        "outputId": "1c7ef4fb-7054-4819-8559-9aae5a0eb9f8"
      },
      "execution_count": 10,
      "outputs": [
        {
          "output_type": "execute_result",
          "data": {
            "text/plain": [
              "[0.8014513202983271]"
            ]
          },
          "metadata": {},
          "execution_count": 10
        }
      ]
    },
    {
      "cell_type": "code",
      "source": [
        "mcc"
      ],
      "metadata": {
        "colab": {
          "base_uri": "https://localhost:8080/"
        },
        "id": "OhqSB79PjP5-",
        "outputId": "549f3448-6483-4a42-e228-4130d176e1d5"
      },
      "execution_count": 11,
      "outputs": [
        {
          "output_type": "execute_result",
          "data": {
            "text/plain": [
              "[0.638276425325481]"
            ]
          },
          "metadata": {},
          "execution_count": 11
        }
      ]
    },
    {
      "cell_type": "markdown",
      "source": [
        "## TreeSHAP: Global feature importance"
      ],
      "metadata": {
        "id": "2Y4eWERT7guB"
      }
    },
    {
      "cell_type": "code",
      "source": [
        "pip install shap"
      ],
      "metadata": {
        "colab": {
          "base_uri": "https://localhost:8080/"
        },
        "id": "ByIBHymSHJeO",
        "outputId": "5eade104-1641-43be-c43d-1d2b254176e8"
      },
      "execution_count": 12,
      "outputs": [
        {
          "output_type": "stream",
          "name": "stdout",
          "text": [
            "Looking in indexes: https://pypi.org/simple, https://us-python.pkg.dev/colab-wheels/public/simple/\n",
            "Requirement already satisfied: shap in /usr/local/lib/python3.8/dist-packages (0.41.0)\n",
            "Requirement already satisfied: slicer==0.0.7 in /usr/local/lib/python3.8/dist-packages (from shap) (0.0.7)\n",
            "Requirement already satisfied: numpy in /usr/local/lib/python3.8/dist-packages (from shap) (1.21.6)\n",
            "Requirement already satisfied: scipy in /usr/local/lib/python3.8/dist-packages (from shap) (1.7.3)\n",
            "Requirement already satisfied: tqdm>4.25.0 in /usr/local/lib/python3.8/dist-packages (from shap) (4.64.1)\n",
            "Requirement already satisfied: pandas in /usr/local/lib/python3.8/dist-packages (from shap) (1.3.5)\n",
            "Requirement already satisfied: packaging>20.9 in /usr/local/lib/python3.8/dist-packages (from shap) (21.3)\n",
            "Requirement already satisfied: cloudpickle in /usr/local/lib/python3.8/dist-packages (from shap) (1.5.0)\n",
            "Requirement already satisfied: scikit-learn in /usr/local/lib/python3.8/dist-packages (from shap) (1.0.2)\n",
            "Requirement already satisfied: numba in /usr/local/lib/python3.8/dist-packages (from shap) (0.56.4)\n",
            "Requirement already satisfied: pyparsing!=3.0.5,>=2.0.2 in /usr/local/lib/python3.8/dist-packages (from packaging>20.9->shap) (3.0.9)\n",
            "Requirement already satisfied: setuptools in /usr/local/lib/python3.8/dist-packages (from numba->shap) (57.4.0)\n",
            "Requirement already satisfied: importlib-metadata in /usr/local/lib/python3.8/dist-packages (from numba->shap) (4.13.0)\n",
            "Requirement already satisfied: llvmlite<0.40,>=0.39.0dev0 in /usr/local/lib/python3.8/dist-packages (from numba->shap) (0.39.1)\n",
            "Requirement already satisfied: zipp>=0.5 in /usr/local/lib/python3.8/dist-packages (from importlib-metadata->numba->shap) (3.10.0)\n",
            "Requirement already satisfied: python-dateutil>=2.7.3 in /usr/local/lib/python3.8/dist-packages (from pandas->shap) (2.8.2)\n",
            "Requirement already satisfied: pytz>=2017.3 in /usr/local/lib/python3.8/dist-packages (from pandas->shap) (2022.6)\n",
            "Requirement already satisfied: six>=1.5 in /usr/local/lib/python3.8/dist-packages (from python-dateutil>=2.7.3->pandas->shap) (1.15.0)\n",
            "Requirement already satisfied: threadpoolctl>=2.0.0 in /usr/local/lib/python3.8/dist-packages (from scikit-learn->shap) (3.1.0)\n",
            "Requirement already satisfied: joblib>=0.11 in /usr/local/lib/python3.8/dist-packages (from scikit-learn->shap) (1.2.0)\n"
          ]
        }
      ]
    },
    {
      "cell_type": "code",
      "source": [
        "# Import shap\n",
        "\n",
        "import shap"
      ],
      "metadata": {
        "id": "jO633HlB7k80"
      },
      "execution_count": 13,
      "outputs": []
    },
    {
      "cell_type": "code",
      "source": [
        "# Create object that can calculate shap values\n",
        "explainer = shap.TreeExplainer(best_rf)"
      ],
      "metadata": {
        "id": "t90HSn-l3Iu3"
      },
      "execution_count": 14,
      "outputs": []
    },
    {
      "cell_type": "code",
      "source": [
        "# Calculate shap values\n",
        "shap_values = explainer.shap_values(X_test)"
      ],
      "metadata": {
        "id": "vgwym1oA8LRF"
      },
      "execution_count": 15,
      "outputs": []
    },
    {
      "cell_type": "code",
      "source": [
        "import matplotlib.pyplot as plt"
      ],
      "metadata": {
        "id": "wuJEBOHV_391"
      },
      "execution_count": 17,
      "outputs": []
    },
    {
      "cell_type": "code",
      "source": [
        "# Make summary plot for class voted\n",
        "shap.summary_plot(shap_values[0], X_test, max_display=10, show=False, plot_size = (10,6))\n",
        "#ax = plt.gca()\n",
        "\n",
        "# You can change the min and max value of xaxis by changing the arguments of:\n",
        "#ax.set_xlim(-0.3, 0.3) \n",
        "#plt.show()\n",
        "\n",
        "\n",
        "\n",
        "plt.savefig('treeshap_global_10_beeswarm_presentation.png', bbox_inches=\"tight\", dpi = 144)"
      ],
      "metadata": {
        "colab": {
          "base_uri": "https://localhost:8080/",
          "height": 441
        },
        "id": "3zTw8CAL3Kq4",
        "outputId": "9b7df2a2-857e-4417-f357-8a2e478eba0f"
      },
      "execution_count": 32,
      "outputs": [
        {
          "output_type": "display_data",
          "data": {
            "text/plain": [
              "<Figure size 720x432 with 2 Axes>"
            ],
            "image/png": "[encoded data removed]"
          },
          "metadata": {
            "needs_background": "light"
          }
        }
      ]
    },
    {
      "cell_type": "code",
      "source": [
        "# Create global feature importance\n",
        "\n",
        "shap.summary_plot(shap_values[1], X_test, max_display = 10, show = False, plot_type='bar', plot_size = (10,6), color = \"royalblue\")\n",
        "\n",
        "# Get the current figure and axes objects.\n",
        "fig, ax = plt.gcf(), plt.gca()\n",
        "\n",
        "ax.set_xlabel(\"mean absolute SHAP value (average impact on model output magnitude)\")\n",
        "\n",
        "plt.savefig('treeshap_global_10_bar.png', bbox_inches=\"tight\", dpi = 144)"
      ],
      "metadata": {
        "colab": {
          "base_uri": "https://localhost:8080/",
          "height": 441
        },
        "id": "ADQXgtyt8T5V",
        "outputId": "4ede61ab-b6aa-4054-a588-dcc6e58ad576"
      },
      "execution_count": 46,
      "outputs": [
        {
          "output_type": "display_data",
          "data": {
            "text/plain": [
              "<Figure size 720x432 with 1 Axes>"
            ],
            "image/png": "[encoded data removed]"
          },
          "metadata": {
            "needs_background": "light"
          }
        }
      ]
    },
    {
      "cell_type": "markdown",
      "source": [
        "## Shap "
      ],
      "metadata": {
        "id": "-iCOym4v-Tdw"
      }
    },
    {
      "cell_type": "code",
      "source": [
        "import numpy\n",
        "X_train = numpy.array(X_train,dtype='float64')"
      ],
      "metadata": {
        "id": "H4EkR-as-Ozh"
      },
      "execution_count": null,
      "outputs": []
    },
    {
      "cell_type": "code",
      "source": [
        "shap_explainer = shap.Explainer(best_rf)\n",
        "shap_test = shap_explainer(X_test)"
      ],
      "metadata": {
        "id": "C5E9_DX5-M2h"
      },
      "execution_count": null,
      "outputs": []
    },
    {
      "cell_type": "code",
      "source": [
        "import matplotlib.pyplot as plt\n",
        "\n",
        "shap_global_50 = shap.plots.bar(shap_test[:, :, 1], max_display=50, show=False)\n",
        "plt.savefig('shap_global_50_bar.png', bbox_inches=\"tight\", dpi = 144)"
      ],
      "metadata": {
        "id": "-FlX5S5ularT"
      },
      "execution_count": null,
      "outputs": []
    },
    {
      "cell_type": "code",
      "source": [
        "shap_global_10 = shap.plots.bar(shap_test[:, :, 1], max_display=10, show=False)\n",
        "\n",
        "plt.savefig('shap_global_10_bar.png', bbox_inches=\"tight\", dpi = 144)"
      ],
      "metadata": {
        "id": "vLMEUBrM6vgn"
      },
      "execution_count": null,
      "outputs": []
    },
    {
      "cell_type": "code",
      "source": [
        "shap_global_20 = shap.plots.bar(shap_test[:, :, 1], max_display=20, show=False)\n",
        "plt.savefig('shap_global_20_bar.png', bbox_inches=\"tight\", dpi = 144)"
      ],
      "metadata": {
        "id": "yjGHQ_9O62t4"
      },
      "execution_count": null,
      "outputs": []
    },
    {
      "cell_type": "code",
      "source": [
        "shap_local_10 = shap.plots.bar(shap_test[:, :, 1][421], max_display=10, show=False)\n",
        "plt.savefig('shap_local_10_bar.png', bbox_inches=\"tight\", dpi = 144)"
      ],
      "metadata": {
        "id": "BCdtMHgswg4R"
      },
      "execution_count": null,
      "outputs": []
    },
    {
      "cell_type": "code",
      "source": [
        "shap_local_10 = shap.plots.waterfall(shap_test[:, :, 1][421], max_display=10, show=False)\n",
        "plt.savefig('shap_local_10_waterfall.png', bbox_inches=\"tight\", dpi = 144)"
      ],
      "metadata": {
        "id": "B0DtVKEYjASk"
      },
      "execution_count": null,
      "outputs": []
    },
    {
      "cell_type": "code",
      "source": [
        "shap_local_20 = shap.plots.bar(shap_test[:, :, 1][421], max_display=20, show=False)\n",
        "plt.savefig('shap_local_20_bar.png', bbox_inches=\"tight\", dpi = 144)"
      ],
      "metadata": {
        "id": "rgUJ4rREHVTw"
      },
      "execution_count": null,
      "outputs": []
    }
  ]
}
