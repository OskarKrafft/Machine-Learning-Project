{
  "cells": [
    {
      "cell_type": "markdown",
      "metadata": {
        "id": "3Bwh83IwMWYV"
      },
      "source": [
        "<a href=\"https://colab.research.google.com/github/OskarKrafft/Machine-Learning-Project/blob/main/notebooks/04_Model_Comparison.ipynb\" target=\"_parent\"><img src=\"https://colab.research.google.com/assets/colab-badge.svg\" alt=\"Open In Colab\"/></a>"
      ]
    },
    {
      "cell_type": "markdown",
      "source": [
        "# ADMIN"
      ],
      "metadata": {
        "id": "btqIYtJdzic0"
      }
    },
    {
      "cell_type": "code",
      "source": [
        "# Mount GDrive to facilitate data import\n",
        "from google.colab import drive\n",
        "drive.mount('/content/drive')\n",
        "\n"
      ],
      "metadata": {
        "id": "9ffnvFTAM52u",
        "outputId": "93b33933-f57e-4e16-a80e-189e8f97d969",
        "colab": {
          "base_uri": "https://localhost:8080/"
        }
      },
      "execution_count": 2,
      "outputs": [
        {
          "output_type": "stream",
          "name": "stdout",
          "text": [
            "Mounted at /content/drive\n"
          ]
        }
      ]
    },
    {
      "cell_type": "code",
      "source": [
        "# Change working directory to project folder\n",
        "%cd /content/drive/MyDrive/Colab Notebooks/Machine-Learning-Project"
      ],
      "metadata": {
        "id": "aU0Jorc2Nbjl",
        "outputId": "3573884d-9430-45a2-9054-542a4abfdec0",
        "colab": {
          "base_uri": "https://localhost:8080/"
        }
      },
      "execution_count": 4,
      "outputs": [
        {
          "output_type": "stream",
          "name": "stdout",
          "text": [
            "/content/drive/MyDrive/Colab Notebooks/Machine-Learning-Project\n"
          ]
        }
      ]
    },
    {
      "cell_type": "code",
      "source": [
        "# !git clone https://github.com/OskarKrafft/Machine-Learning-Project.git"
      ],
      "metadata": {
        "id": "0-zmBGVoMp28",
        "outputId": "17165d9f-58ce-4d4e-f53f-137c2ac4a7fb",
        "colab": {
          "base_uri": "https://localhost:8080/"
        }
      },
      "execution_count": null,
      "outputs": [
        {
          "output_type": "stream",
          "name": "stdout",
          "text": [
            "Cloning into 'Machine-Learning-Project'...\n",
            "remote: Enumerating objects: 395, done.\u001b[K\n",
            "remote: Counting objects: 100% (67/67), done.\u001b[K\n",
            "remote: Compressing objects: 100% (59/59), done.\u001b[K\n",
            "remote: Total 395 (delta 32), reused 24 (delta 7), pack-reused 328\u001b[K\n",
            "Receiving objects: 100% (395/395), 26.00 MiB | 14.44 MiB/s, done.\n",
            "Resolving deltas: 100% (205/205), done.\n",
            "Checking out files: 100% (36/36), done.\n"
          ]
        }
      ]
    },
    {
      "cell_type": "markdown",
      "source": [
        "# Import the Data"
      ],
      "metadata": {
        "id": "cK7PvaiAzctn"
      }
    },
    {
      "cell_type": "code",
      "source": [
        "# Importing the data\n",
        "import pandas as pd\n",
        "eppes_cleaned = pd.read_csv('./data/processed/eppes_cleaned.csv')\n",
        "eppes_cleaned = eppes_cleaned.drop(eppes_cleaned.columns[0], axis = 1)\n",
        "\n",
        "# Import Excel sheet containing column indeces to be dropped\n",
        "columns_analysis = pd.read_excel('./data/interim/Drop_Columns_categorical.xlsx')\n",
        "columns_analysis = columns_analysis.drop(columns_analysis.columns[[0]], axis = 1)\n",
        "\n",
        "# Create list of names of categorical columns \n",
        "col_names_categorical = []\n",
        "for i in range(872):\n",
        "  if columns_analysis.iloc[i, 3] == 'categorical':\n",
        "    col_names_categorical.append(columns_analysis.iloc[i, 1])\n",
        "\n",
        "# Change datatype of categorical variables to object\n",
        "eppes_cleaned[col_names_categorical] = eppes_cleaned[col_names_categorical].astype('object')\n",
        "\n",
        "# Define X and y\n",
        "print(eppes_cleaned.head())\n",
        "X = eppes_cleaned.drop(columns='qg1') # reference variable which contains voted y/n\n",
        "y = eppes_cleaned['qg1'] # reference variable which contains voted y/n\n",
        "\n",
        "# 80/20 train-test split\n",
        "from sklearn.model_selection import train_test_split\n",
        "X_train, X_test, y_train, y_test = train_test_split(X,y,test_size = 0.20, random_state=123)\n",
        "from sklearn.preprocessing import LabelEncoder\n",
        "\n",
        "label_encoder = LabelEncoder()\n",
        "y_train = label_encoder.fit_transform(y_train)\n",
        "\n",
        "y_train_df = pd.DataFrame(data=y_train)\n",
        "y_train_df.value_counts(normalize=True)\n",
        "\n",
        "# Setting up pre-processing pipeline\n",
        "from sklearn.pipeline import Pipeline\n",
        "from sklearn.compose import ColumnTransformer\n",
        "from sklearn.preprocessing import StandardScaler, OneHotEncoder\n",
        "from sklearn.linear_model import LogisticRegression\n",
        "\n",
        "# Identify all categorical variables by data type\n",
        "categorical_X_features = X_train.select_dtypes(include=['object', 'bool']).columns\n",
        "\n",
        "# OneHotEncode all categorical variables\n",
        "categorical_transformer = OneHotEncoder(handle_unknown=\"error\")\n",
        "\n",
        "preprocessor = ColumnTransformer(remainder = 'passthrough', # remainder = passthrough for numerical variables to be kept unchanged\n",
        "    transformers=[\n",
        "        (\"cat\", categorical_transformer, categorical_X_features)]\n",
        ")\n",
        "# Inspect the number of variables after pre-processing\n",
        "\n",
        "# Fit the pipeline to the training data\n",
        "preprocessor.fit(X_train)\n",
        "X_train_ = preprocessor.transform(X_train)\n",
        "\n",
        "X_train_df = pd.DataFrame(data=X_train_)\n",
        "X_train_df.describe()"
      ],
      "metadata": {
        "id": "QGm9oujKMXns",
        "outputId": "7b8bd1e8-1f6f-46dc-bc2c-776e644e29c7",
        "colab": {
          "base_uri": "https://localhost:8080/",
          "height": 654
        }
      },
      "execution_count": 6,
      "outputs": [
        {
          "output_type": "stream",
          "name": "stdout",
          "text": [
            "   q1.1  q1.2  q1.3  q1.4  q1.5  q1.6  q1.7  q1.8  q1.9  q1.10  ...  d43a  \\\n",
            "0   1.0   0.0   0.0   0.0   0.0   0.0   0.0   0.0   0.0    0.0  ...   2.0   \n",
            "1   0.0   0.0   0.0   1.0   0.0   0.0   0.0   0.0   0.0    0.0  ...   2.0   \n",
            "2   1.0   0.0   0.0   0.0   0.0   0.0   0.0   0.0   0.0    0.0  ...   2.0   \n",
            "3   0.0   0.0   0.0   0.0   0.0   0.0   0.0   0.0   0.0    0.0  ...   1.0   \n",
            "4   0.0   0.0   0.0   0.0   0.0   0.0   0.0   1.0   0.0    0.0  ...   2.0   \n",
            "\n",
            "   d43b  d46.8  d60  d62_1  d62_2  d63  d72_1  d72_2  d77  \n",
            "0   1.0    1.0  1.0    3.0    6.0  1.0    3.0    3.0  2.0  \n",
            "1   1.0    1.0  3.0    2.0    6.0  3.0    2.0    2.0  3.0  \n",
            "2   2.0    1.0  1.0    1.0    5.0  2.0    2.0    2.0  1.0  \n",
            "3   1.0    1.0  2.0    1.0    1.0  3.0    2.0    2.0  1.0  \n",
            "4   1.0    1.0  1.0    1.0    5.0  2.0    2.0    2.0  3.0  \n",
            "\n",
            "[5 rows x 311 columns]\n"
          ]
        },
        {
          "output_type": "execute_result",
          "data": {
            "text/plain": [
              "                0             1             2             3             4    \\\n",
              "count  21971.000000  21971.000000  21971.000000  21971.000000  21971.000000   \n",
              "mean       0.250603      0.571845      0.141232      0.032497      0.003823   \n",
              "std        0.433370      0.494823      0.348268      0.177321      0.061715   \n",
              "min        0.000000      0.000000      0.000000      0.000000      0.000000   \n",
              "25%        0.000000      0.000000      0.000000      0.000000      0.000000   \n",
              "50%        0.000000      1.000000      0.000000      0.000000      0.000000   \n",
              "75%        1.000000      1.000000      0.000000      0.000000      0.000000   \n",
              "max        1.000000      1.000000      1.000000      1.000000      1.000000   \n",
              "\n",
              "                5             6             7             8             9    \\\n",
              "count  21971.000000  21971.000000  21971.000000  21971.000000  21971.000000   \n",
              "mean       0.225342      0.555414      0.215921      0.003323      0.148195   \n",
              "std        0.417817      0.496931      0.411469      0.057547      0.355302   \n",
              "min        0.000000      0.000000      0.000000      0.000000      0.000000   \n",
              "25%        0.000000      0.000000      0.000000      0.000000      0.000000   \n",
              "50%        0.000000      1.000000      0.000000      0.000000      0.000000   \n",
              "75%        0.000000      1.000000      0.000000      0.000000      0.000000   \n",
              "max        1.000000      1.000000      1.000000      1.000000      1.000000   \n",
              "\n",
              "       ...           925           926           927           928  \\\n",
              "count  ...  21971.000000  21971.000000  21971.000000  21971.000000   \n",
              "mean   ...      0.034682      0.043557      0.141778      0.034591   \n",
              "std    ...      0.182977      0.204113      0.348830      0.182746   \n",
              "min    ...      0.000000      0.000000      0.000000      0.000000   \n",
              "25%    ...      0.000000      0.000000      0.000000      0.000000   \n",
              "50%    ...      0.000000      0.000000      0.000000      0.000000   \n",
              "75%    ...      0.000000      0.000000      0.000000      0.000000   \n",
              "max    ...      1.000000      1.000000      1.000000      1.000000   \n",
              "\n",
              "                929           930           931           932           933  \\\n",
              "count  21971.000000  21971.000000  21971.000000  21971.000000  21971.000000   \n",
              "mean       0.051613      1.544581     51.483638      2.184835      0.256611   \n",
              "std        0.221250      0.498020     18.164264      1.097736      0.676453   \n",
              "min        0.000000      1.000000     15.000000      1.000000      0.000000   \n",
              "25%        0.000000      1.000000     37.000000      2.000000      0.000000   \n",
              "50%        0.000000      2.000000     53.000000      2.000000      0.000000   \n",
              "75%        0.000000      2.000000     66.000000      3.000000      0.000000   \n",
              "max        1.000000      2.000000     98.000000     20.000000     20.000000   \n",
              "\n",
              "                934  \n",
              "count  21971.000000  \n",
              "mean       0.757908  \n",
              "std        0.428359  \n",
              "min        0.000000  \n",
              "25%        1.000000  \n",
              "50%        1.000000  \n",
              "75%        1.000000  \n",
              "max        1.000000  \n",
              "\n",
              "[8 rows x 935 columns]"
            ],
            "text/html": [
              "\n",
              "  <div id=\"df-bbc471dd-41ea-41f4-b0de-afbd41e722d9\">\n",
              "    <div class=\"colab-df-container\">\n",
              "      <div>\n",
              "<style scoped>\n",
              "    .dataframe tbody tr th:only-of-type {\n",
              "        vertical-align: middle;\n",
              "    }\n",
              "\n",
              "    .dataframe tbody tr th {\n",
              "        vertical-align: top;\n",
              "    }\n",
              "\n",
              "    .dataframe thead th {\n",
              "        text-align: right;\n",
              "    }\n",
              "</style>\n",
              "<table border=\"1\" class=\"dataframe\">\n",
              "  <thead>\n",
              "    <tr style=\"text-align: right;\">\n",
              "      <th></th>\n",
              "      <th>0</th>\n",
              "      <th>1</th>\n",
              "      <th>2</th>\n",
              "      <th>3</th>\n",
              "      <th>4</th>\n",
              "      <th>5</th>\n",
              "      <th>6</th>\n",
              "      <th>7</th>\n",
              "      <th>8</th>\n",
              "      <th>9</th>\n",
              "      <th>...</th>\n",
              "      <th>925</th>\n",
              "      <th>926</th>\n",
              "      <th>927</th>\n",
              "      <th>928</th>\n",
              "      <th>929</th>\n",
              "      <th>930</th>\n",
              "      <th>931</th>\n",
              "      <th>932</th>\n",
              "      <th>933</th>\n",
              "      <th>934</th>\n",
              "    </tr>\n",
              "  </thead>\n",
              "  <tbody>\n",
              "    <tr>\n",
              "      <th>count</th>\n",
              "      <td>21971.000000</td>\n",
              "      <td>21971.000000</td>\n",
              "      <td>21971.000000</td>\n",
              "      <td>21971.000000</td>\n",
              "      <td>21971.000000</td>\n",
              "      <td>21971.000000</td>\n",
              "      <td>21971.000000</td>\n",
              "      <td>21971.000000</td>\n",
              "      <td>21971.000000</td>\n",
              "      <td>21971.000000</td>\n",
              "      <td>...</td>\n",
              "      <td>21971.000000</td>\n",
              "      <td>21971.000000</td>\n",
              "      <td>21971.000000</td>\n",
              "      <td>21971.000000</td>\n",
              "      <td>21971.000000</td>\n",
              "      <td>21971.000000</td>\n",
              "      <td>21971.000000</td>\n",
              "      <td>21971.000000</td>\n",
              "      <td>21971.000000</td>\n",
              "      <td>21971.000000</td>\n",
              "    </tr>\n",
              "    <tr>\n",
              "      <th>mean</th>\n",
              "      <td>0.250603</td>\n",
              "      <td>0.571845</td>\n",
              "      <td>0.141232</td>\n",
              "      <td>0.032497</td>\n",
              "      <td>0.003823</td>\n",
              "      <td>0.225342</td>\n",
              "      <td>0.555414</td>\n",
              "      <td>0.215921</td>\n",
              "      <td>0.003323</td>\n",
              "      <td>0.148195</td>\n",
              "      <td>...</td>\n",
              "      <td>0.034682</td>\n",
              "      <td>0.043557</td>\n",
              "      <td>0.141778</td>\n",
              "      <td>0.034591</td>\n",
              "      <td>0.051613</td>\n",
              "      <td>1.544581</td>\n",
              "      <td>51.483638</td>\n",
              "      <td>2.184835</td>\n",
              "      <td>0.256611</td>\n",
              "      <td>0.757908</td>\n",
              "    </tr>\n",
              "    <tr>\n",
              "      <th>std</th>\n",
              "      <td>0.433370</td>\n",
              "      <td>0.494823</td>\n",
              "      <td>0.348268</td>\n",
              "      <td>0.177321</td>\n",
              "      <td>0.061715</td>\n",
              "      <td>0.417817</td>\n",
              "      <td>0.496931</td>\n",
              "      <td>0.411469</td>\n",
              "      <td>0.057547</td>\n",
              "      <td>0.355302</td>\n",
              "      <td>...</td>\n",
              "      <td>0.182977</td>\n",
              "      <td>0.204113</td>\n",
              "      <td>0.348830</td>\n",
              "      <td>0.182746</td>\n",
              "      <td>0.221250</td>\n",
              "      <td>0.498020</td>\n",
              "      <td>18.164264</td>\n",
              "      <td>1.097736</td>\n",
              "      <td>0.676453</td>\n",
              "      <td>0.428359</td>\n",
              "    </tr>\n",
              "    <tr>\n",
              "      <th>min</th>\n",
              "      <td>0.000000</td>\n",
              "      <td>0.000000</td>\n",
              "      <td>0.000000</td>\n",
              "      <td>0.000000</td>\n",
              "      <td>0.000000</td>\n",
              "      <td>0.000000</td>\n",
              "      <td>0.000000</td>\n",
              "      <td>0.000000</td>\n",
              "      <td>0.000000</td>\n",
              "      <td>0.000000</td>\n",
              "      <td>...</td>\n",
              "      <td>0.000000</td>\n",
              "      <td>0.000000</td>\n",
              "      <td>0.000000</td>\n",
              "      <td>0.000000</td>\n",
              "      <td>0.000000</td>\n",
              "      <td>1.000000</td>\n",
              "      <td>15.000000</td>\n",
              "      <td>1.000000</td>\n",
              "      <td>0.000000</td>\n",
              "      <td>0.000000</td>\n",
              "    </tr>\n",
              "    <tr>\n",
              "      <th>25%</th>\n",
              "      <td>0.000000</td>\n",
              "      <td>0.000000</td>\n",
              "      <td>0.000000</td>\n",
              "      <td>0.000000</td>\n",
              "      <td>0.000000</td>\n",
              "      <td>0.000000</td>\n",
              "      <td>0.000000</td>\n",
              "      <td>0.000000</td>\n",
              "      <td>0.000000</td>\n",
              "      <td>0.000000</td>\n",
              "      <td>...</td>\n",
              "      <td>0.000000</td>\n",
              "      <td>0.000000</td>\n",
              "      <td>0.000000</td>\n",
              "      <td>0.000000</td>\n",
              "      <td>0.000000</td>\n",
              "      <td>1.000000</td>\n",
              "      <td>37.000000</td>\n",
              "      <td>2.000000</td>\n",
              "      <td>0.000000</td>\n",
              "      <td>1.000000</td>\n",
              "    </tr>\n",
              "    <tr>\n",
              "      <th>50%</th>\n",
              "      <td>0.000000</td>\n",
              "      <td>1.000000</td>\n",
              "      <td>0.000000</td>\n",
              "      <td>0.000000</td>\n",
              "      <td>0.000000</td>\n",
              "      <td>0.000000</td>\n",
              "      <td>1.000000</td>\n",
              "      <td>0.000000</td>\n",
              "      <td>0.000000</td>\n",
              "      <td>0.000000</td>\n",
              "      <td>...</td>\n",
              "      <td>0.000000</td>\n",
              "      <td>0.000000</td>\n",
              "      <td>0.000000</td>\n",
              "      <td>0.000000</td>\n",
              "      <td>0.000000</td>\n",
              "      <td>2.000000</td>\n",
              "      <td>53.000000</td>\n",
              "      <td>2.000000</td>\n",
              "      <td>0.000000</td>\n",
              "      <td>1.000000</td>\n",
              "    </tr>\n",
              "    <tr>\n",
              "      <th>75%</th>\n",
              "      <td>1.000000</td>\n",
              "      <td>1.000000</td>\n",
              "      <td>0.000000</td>\n",
              "      <td>0.000000</td>\n",
              "      <td>0.000000</td>\n",
              "      <td>0.000000</td>\n",
              "      <td>1.000000</td>\n",
              "      <td>0.000000</td>\n",
              "      <td>0.000000</td>\n",
              "      <td>0.000000</td>\n",
              "      <td>...</td>\n",
              "      <td>0.000000</td>\n",
              "      <td>0.000000</td>\n",
              "      <td>0.000000</td>\n",
              "      <td>0.000000</td>\n",
              "      <td>0.000000</td>\n",
              "      <td>2.000000</td>\n",
              "      <td>66.000000</td>\n",
              "      <td>3.000000</td>\n",
              "      <td>0.000000</td>\n",
              "      <td>1.000000</td>\n",
              "    </tr>\n",
              "    <tr>\n",
              "      <th>max</th>\n",
              "      <td>1.000000</td>\n",
              "      <td>1.000000</td>\n",
              "      <td>1.000000</td>\n",
              "      <td>1.000000</td>\n",
              "      <td>1.000000</td>\n",
              "      <td>1.000000</td>\n",
              "      <td>1.000000</td>\n",
              "      <td>1.000000</td>\n",
              "      <td>1.000000</td>\n",
              "      <td>1.000000</td>\n",
              "      <td>...</td>\n",
              "      <td>1.000000</td>\n",
              "      <td>1.000000</td>\n",
              "      <td>1.000000</td>\n",
              "      <td>1.000000</td>\n",
              "      <td>1.000000</td>\n",
              "      <td>2.000000</td>\n",
              "      <td>98.000000</td>\n",
              "      <td>20.000000</td>\n",
              "      <td>20.000000</td>\n",
              "      <td>1.000000</td>\n",
              "    </tr>\n",
              "  </tbody>\n",
              "</table>\n",
              "<p>8 rows × 935 columns</p>\n",
              "</div>\n",
              "      <button class=\"colab-df-convert\" onclick=\"convertToInteractive('df-bbc471dd-41ea-41f4-b0de-afbd41e722d9')\"\n",
              "              title=\"Convert this dataframe to an interactive table.\"\n",
              "              style=\"display:none;\">\n",
              "        \n",
              "  <svg xmlns=\"http://www.w3.org/2000/svg\" height=\"24px\"viewBox=\"0 0 24 24\"\n",
              "       width=\"24px\">\n",
              "    <path d=\"M0 0h24v24H0V0z\" fill=\"none\"/>\n",
              "    <path d=\"M18.56 5.44l.94 2.06.94-2.06 2.06-.94-2.06-.94-.94-2.06-.94 2.06-2.06.94zm-11 1L8.5 8.5l.94-2.06 2.06-.94-2.06-.94L8.5 2.5l-.94 2.06-2.06.94zm10 10l.94 2.06.94-2.06 2.06-.94-2.06-.94-.94-2.06-.94 2.06-2.06.94z\"/><path d=\"M17.41 7.96l-1.37-1.37c-.4-.4-.92-.59-1.43-.59-.52 0-1.04.2-1.43.59L10.3 9.45l-7.72 7.72c-.78.78-.78 2.05 0 2.83L4 21.41c.39.39.9.59 1.41.59.51 0 1.02-.2 1.41-.59l7.78-7.78 2.81-2.81c.8-.78.8-2.07 0-2.86zM5.41 20L4 18.59l7.72-7.72 1.47 1.35L5.41 20z\"/>\n",
              "  </svg>\n",
              "      </button>\n",
              "      \n",
              "  <style>\n",
              "    .colab-df-container {\n",
              "      display:flex;\n",
              "      flex-wrap:wrap;\n",
              "      gap: 12px;\n",
              "    }\n",
              "\n",
              "    .colab-df-convert {\n",
              "      background-color: #E8F0FE;\n",
              "      border: none;\n",
              "      border-radius: 50%;\n",
              "      cursor: pointer;\n",
              "      display: none;\n",
              "      fill: #1967D2;\n",
              "      height: 32px;\n",
              "      padding: 0 0 0 0;\n",
              "      width: 32px;\n",
              "    }\n",
              "\n",
              "    .colab-df-convert:hover {\n",
              "      background-color: #E2EBFA;\n",
              "      box-shadow: 0px 1px 2px rgba(60, 64, 67, 0.3), 0px 1px 3px 1px rgba(60, 64, 67, 0.15);\n",
              "      fill: #174EA6;\n",
              "    }\n",
              "\n",
              "    [theme=dark] .colab-df-convert {\n",
              "      background-color: #3B4455;\n",
              "      fill: #D2E3FC;\n",
              "    }\n",
              "\n",
              "    [theme=dark] .colab-df-convert:hover {\n",
              "      background-color: #434B5C;\n",
              "      box-shadow: 0px 1px 3px 1px rgba(0, 0, 0, 0.15);\n",
              "      filter: drop-shadow(0px 1px 2px rgba(0, 0, 0, 0.3));\n",
              "      fill: #FFFFFF;\n",
              "    }\n",
              "  </style>\n",
              "\n",
              "      <script>\n",
              "        const buttonEl =\n",
              "          document.querySelector('#df-bbc471dd-41ea-41f4-b0de-afbd41e722d9 button.colab-df-convert');\n",
              "        buttonEl.style.display =\n",
              "          google.colab.kernel.accessAllowed ? 'block' : 'none';\n",
              "\n",
              "        async function convertToInteractive(key) {\n",
              "          const element = document.querySelector('#df-bbc471dd-41ea-41f4-b0de-afbd41e722d9');\n",
              "          const dataTable =\n",
              "            await google.colab.kernel.invokeFunction('convertToInteractive',\n",
              "                                                     [key], {});\n",
              "          if (!dataTable) return;\n",
              "\n",
              "          const docLinkHtml = 'Like what you see? Visit the ' +\n",
              "            '<a target=\"_blank\" href=https://colab.research.google.com/notebooks/data_table.ipynb>data table notebook</a>'\n",
              "            + ' to learn more about interactive tables.';\n",
              "          element.innerHTML = '';\n",
              "          dataTable['output_type'] = 'display_data';\n",
              "          await google.colab.output.renderOutput(dataTable, element);\n",
              "          const docLink = document.createElement('div');\n",
              "          docLink.innerHTML = docLinkHtml;\n",
              "          element.appendChild(docLink);\n",
              "        }\n",
              "      </script>\n",
              "    </div>\n",
              "  </div>\n",
              "  "
            ]
          },
          "metadata": {},
          "execution_count": 6
        }
      ]
    },
    {
      "cell_type": "markdown",
      "metadata": {
        "id": "3CB03dsJMWYk"
      },
      "source": [
        "# F1 and MCC"
      ]
    },
    {
      "cell_type": "code",
      "source": [
        "# Compare best performing models\n",
        "from sklearn.model_selection import cross_val_score\n",
        "import matplotlib.pyplot as plt\n",
        "from joblib import dump, load\n",
        "from sklearn.model_selection import RepeatedStratifiedKFold\n",
        "\n",
        "# Load all the model specifications\n",
        "models = []\n",
        "models.append(('Logistic Regression', load('./models/best-logistic-regression-model.joblib')))\n",
        "models.append(('Naive Bayes', load('./models/best-nb-model.joblib')))\n",
        "models.append(('SVM', load('./models/best-svm-model.joblib')))\n",
        "models.append(('Random Forest', load('./models/best-rf-model.joblib')))\n",
        "\n",
        "# Create lists for scores and model names. Comparison metric F1\n",
        "results = []\n",
        "names = []\n",
        "scoring = 'f1'\n",
        "\n",
        "for name, model in models:\n",
        "  cv = RepeatedStratifiedKFold(n_splits=10, n_repeats=3, random_state=123)\n",
        "  cv_results = cross_val_score(model, X_train, y_train, cv=cv, scoring=scoring)\n",
        "  results.append(cv_results)\n",
        "  names.append(name)\n",
        "  msg = \"%s: %f (%f)\" % (name, cv_results.mean(), cv_results.std())\n",
        "  print(msg)"
      ],
      "metadata": {
        "id": "KioVL5lZoMCb",
        "outputId": "55780fe9-617d-4408-ee2d-f92b3d680b3d",
        "colab": {
          "base_uri": "https://localhost:8080/"
        }
      },
      "execution_count": 5,
      "outputs": [
        {
          "output_type": "stream",
          "name": "stdout",
          "text": [
            "Logistic Regression: 0.793912 (0.009840)\n",
            "Naive Bayes: 0.636356 (0.012903)\n",
            "SVM: 0.785834 (0.010338)\n",
            "Random Forest: 0.792069 (0.011002)\n"
          ]
        }
      ]
    },
    {
      "cell_type": "code",
      "source": [
        "print(results)"
      ],
      "metadata": {
        "id": "boXypaRe2NTP",
        "outputId": "df88e1f9-74da-4f68-c922-2a4c789cb5d5",
        "colab": {
          "base_uri": "https://localhost:8080/"
        }
      },
      "execution_count": 6,
      "outputs": [
        {
          "output_type": "stream",
          "name": "stdout",
          "text": [
            "[array([0.79190451, 0.80020975, 0.77306469, 0.80554076, 0.78375527,\n",
            "       0.79895561, 0.79035639, 0.79370079, 0.79958027, 0.80186239,\n",
            "       0.79644165, 0.7926893 , 0.78721174, 0.77648305, 0.78274592,\n",
            "       0.8153527 , 0.80727273, 0.7876569 , 0.80424403, 0.78759201,\n",
            "       0.78958555, 0.79631525, 0.79199579, 0.80503145, 0.79091869,\n",
            "       0.77299309, 0.79705573, 0.79247256, 0.80313316, 0.8012487 ]), array([0.62829989, 0.62634546, 0.65511971, 0.62857143, 0.61064718,\n",
            "       0.65199591, 0.63942799, 0.64241164, 0.63786008, 0.63631714,\n",
            "       0.61327713, 0.63136456, 0.63338534, 0.62951168, 0.64820513,\n",
            "       0.63963507, 0.66529563, 0.63016529, 0.63673469, 0.63864685,\n",
            "       0.60792492, 0.63562753, 0.64859335, 0.65161621, 0.62988027,\n",
            "       0.6513089 , 0.64801628, 0.63838593, 0.63449692, 0.62162162]), array([0.78256247, 0.79227053, 0.76806084, 0.79520697, 0.78125   ,\n",
            "       0.78832891, 0.78423015, 0.78859602, 0.79092382, 0.78723404,\n",
            "       0.7927544 , 0.78644432, 0.77866667, 0.76747967, 0.76790522,\n",
            "       0.80531915, 0.80614407, 0.7780763 , 0.79325354, 0.78204435,\n",
            "       0.78340517, 0.78858351, 0.77885653, 0.79399142, 0.78459034,\n",
            "       0.76298701, 0.78143551, 0.78716578, 0.80021425, 0.79702444]), array([0.79225536, 0.79539508, 0.78201058, 0.80876068, 0.78503688,\n",
            "       0.79854997, 0.79227557, 0.79155673, 0.7932667 , 0.78985507,\n",
            "       0.79519331, 0.79177649, 0.78597593, 0.77200424, 0.77467018,\n",
            "       0.81804044, 0.80994303, 0.78033473, 0.80805938, 0.78752643,\n",
            "       0.78447824, 0.79340546, 0.78567667, 0.795383  , 0.78563886,\n",
            "       0.76963907, 0.79555085, 0.79101358, 0.80651945, 0.80228928])]\n"
          ]
        }
      ]
    },
    {
      "cell_type": "code",
      "source": [
        "import numpy as np\n",
        "\n",
        "model = np.repeat(names, 30)\n",
        "\n",
        "model_results = np.concatenate(results).ravel()\n",
        "\n",
        "model_results"
      ],
      "metadata": {
        "id": "hJ2QfAn322q7",
        "outputId": "64efb5ac-8c8d-4826-8b51-7dbc201aa69d",
        "colab": {
          "base_uri": "https://localhost:8080/"
        }
      },
      "execution_count": 8,
      "outputs": [
        {
          "output_type": "execute_result",
          "data": {
            "text/plain": [
              "array([0.79190451, 0.80020975, 0.77306469, 0.80554076, 0.78375527,\n",
              "       0.79895561, 0.79035639, 0.79370079, 0.79958027, 0.80186239,\n",
              "       0.79644165, 0.7926893 , 0.78721174, 0.77648305, 0.78274592,\n",
              "       0.8153527 , 0.80727273, 0.7876569 , 0.80424403, 0.78759201,\n",
              "       0.78958555, 0.79631525, 0.79199579, 0.80503145, 0.79091869,\n",
              "       0.77299309, 0.79705573, 0.79247256, 0.80313316, 0.8012487 ,\n",
              "       0.62829989, 0.62634546, 0.65511971, 0.62857143, 0.61064718,\n",
              "       0.65199591, 0.63942799, 0.64241164, 0.63786008, 0.63631714,\n",
              "       0.61327713, 0.63136456, 0.63338534, 0.62951168, 0.64820513,\n",
              "       0.63963507, 0.66529563, 0.63016529, 0.63673469, 0.63864685,\n",
              "       0.60792492, 0.63562753, 0.64859335, 0.65161621, 0.62988027,\n",
              "       0.6513089 , 0.64801628, 0.63838593, 0.63449692, 0.62162162,\n",
              "       0.78256247, 0.79227053, 0.76806084, 0.79520697, 0.78125   ,\n",
              "       0.78832891, 0.78423015, 0.78859602, 0.79092382, 0.78723404,\n",
              "       0.7927544 , 0.78644432, 0.77866667, 0.76747967, 0.76790522,\n",
              "       0.80531915, 0.80614407, 0.7780763 , 0.79325354, 0.78204435,\n",
              "       0.78340517, 0.78858351, 0.77885653, 0.79399142, 0.78459034,\n",
              "       0.76298701, 0.78143551, 0.78716578, 0.80021425, 0.79702444,\n",
              "       0.79225536, 0.79539508, 0.78201058, 0.80876068, 0.78503688,\n",
              "       0.79854997, 0.79227557, 0.79155673, 0.7932667 , 0.78985507,\n",
              "       0.79519331, 0.79177649, 0.78597593, 0.77200424, 0.77467018,\n",
              "       0.81804044, 0.80994303, 0.78033473, 0.80805938, 0.78752643,\n",
              "       0.78447824, 0.79340546, 0.78567667, 0.795383  , 0.78563886,\n",
              "       0.76963907, 0.79555085, 0.79101358, 0.80651945, 0.80228928])"
            ]
          },
          "metadata": {},
          "execution_count": 8
        }
      ]
    },
    {
      "cell_type": "code",
      "execution_count": 9,
      "metadata": {
        "id": "71mYev8lmZ6J",
        "outputId": "e997e8b3-4f3c-4c6f-be1c-e37266ebb8d2",
        "colab": {
          "base_uri": "https://localhost:8080/"
        }
      },
      "outputs": [
        {
          "output_type": "stream",
          "name": "stdout",
          "text": [
            "                   model        f1\n",
            "0    Logistic Regression  0.791905\n",
            "1    Logistic Regression  0.800210\n",
            "2    Logistic Regression  0.773065\n",
            "3    Logistic Regression  0.805541\n",
            "4    Logistic Regression  0.783755\n",
            "..                   ...       ...\n",
            "115        Random Forest  0.769639\n",
            "116        Random Forest  0.795551\n",
            "117        Random Forest  0.791014\n",
            "118        Random Forest  0.806519\n",
            "119        Random Forest  0.802289\n",
            "\n",
            "[120 rows x 2 columns]\n"
          ]
        }
      ],
      "source": [
        "# set seed\n",
        "import numpy as np\n",
        "\n",
        "model_data = pd.DataFrame({'model': model, 'f1': model_results})\n",
        "\n",
        "print(model_data)\n"
      ]
    },
    {
      "cell_type": "code",
      "source": [
        "import seaborn as sns\n",
        "\n",
        "f1 = sns.catplot(data=model_data, x=\"model\", y=\"f1\", kind=\"box\", palette='PuBuGn_r')\n",
        "f1.set(xticklabels=[\"Logistic Regression\", \"Naive Bayes\", \"SVM\", \"Random Forest\"])\n",
        "f1.set(title='Distribution of f1')\n",
        "f1.fig.set_size_inches(6,4)"
      ],
      "metadata": {
        "id": "N6zEg1wm4ZxS",
        "outputId": "3e647ca1-8826-42f3-a6f7-6c83213c8570",
        "colab": {
          "base_uri": "https://localhost:8080/",
          "height": 324
        }
      },
      "execution_count": 13,
      "outputs": [
        {
          "output_type": "display_data",
          "data": {
            "text/plain": [
              "<Figure size 432x288 with 1 Axes>"
            ],
            "image/png": "[encoded data removed]"
          },
          "metadata": {
            "needs_background": "light"
          }
        }
      ]
    },
    {
      "cell_type": "code",
      "source": [
        "f1.savefig('f1.png')"
      ],
      "metadata": {
        "id": "F6SJHFO_5U5U"
      },
      "execution_count": 14,
      "outputs": []
    },
    {
      "cell_type": "markdown",
      "metadata": {
        "id": "X4iqtNlNMWYu"
      },
      "source": [
        "# Learning Curves"
      ]
    },
    {
      "cell_type": "markdown",
      "source": [
        "### Best Logistic Regression"
      ],
      "metadata": {
        "id": "favJYbaOvyap"
      }
    },
    {
      "cell_type": "code",
      "source": [
        "# # Define a pipeline with pre-processing and a Logistic Regression\n",
        "# from sklearn import model_selection\n",
        "# from sklearn.linear_model import LogisticRegression\n",
        "# import joblib\n",
        "\n",
        "# best_logistic_regression = joblib.load('./models/best-logistic-regression-model.joblib')\n",
        "# print(best_logistic_regression)"
      ],
      "metadata": {
        "id": "6k6j7NDGMcHi"
      },
      "execution_count": null,
      "outputs": []
    },
    {
      "cell_type": "code",
      "source": [
        "import numpy as np\n",
        "from sklearn.model_selection import learning_curve\n",
        "import matplotlib.pyplot as plt\n",
        "import joblib\n",
        "\n",
        "best_logistic_regression = joblib.load('./models/best-logistic-regression-model.joblib')\n",
        "\n",
        "# Use learning curve to get training and test scores along with train sizes\n",
        "#\n",
        "train_sizes, train_scores, test_scores = learning_curve(estimator=best_logistic_regression, X=X_train, y=y_train,\n",
        "                                                       cv=5, train_sizes=np.linspace(0.4, 1.0, 10),\n",
        "                                                       scoring = \"f1\",\n",
        "                                                       n_jobs=-1)\n",
        "#\n",
        "# Calculate training and test mean and std\n",
        "#\n",
        "train_mean = np.mean(train_scores, axis=1)\n",
        "train_std = np.std(train_scores, axis=1)\n",
        "test_mean = np.mean(test_scores, axis=1)\n",
        "test_std = np.std(test_scores, axis=1)\n",
        "#\n",
        "# Plot the learning curve\n",
        "#\n",
        "plt.plot(train_sizes, train_mean, color='blue', marker='o', markersize=5, label='Training f1')\n",
        "plt.fill_between(train_sizes, train_mean + train_std, train_mean - train_std, alpha=0.15, color='blue')\n",
        "plt.plot(train_sizes, test_mean, color='green', marker='+', markersize=5, linestyle='--', label='Validation f2')\n",
        "plt.fill_between(train_sizes, test_mean + test_std, test_mean - test_std, alpha=0.15, color='green')\n",
        "plt.title('Logistic Regression learning curve')\n",
        "plt.xlabel('training data size')\n",
        "plt.ylabel('f1')\n",
        "plt.grid()\n",
        "plt.legend(loc='lower right')\n",
        "plt.savefig('lg-lc.png')\n",
        "plt.show()\n",
        "\n",
        "# the model "
      ],
      "metadata": {
        "id": "kOVTZDQUOHsV",
        "outputId": "952444ef-fef3-4e64-abb8-39098d10f16d",
        "colab": {
          "base_uri": "https://localhost:8080/",
          "height": 350
        }
      },
      "execution_count": 15,
      "outputs": [
        {
          "output_type": "stream",
          "name": "stderr",
          "text": [
            "/usr/local/lib/python3.7/dist-packages/joblib/externals/loky/process_executor.py:703: UserWarning: A worker stopped while some jobs were given to the executor. This can be caused by a too short worker timeout or by a memory leak.\n",
            "  \"timeout or by a memory leak.\", UserWarning\n"
          ]
        },
        {
          "output_type": "display_data",
          "data": {
            "text/plain": [
              "<Figure size 432x288 with 1 Axes>"
            ],
            "image/png": "[encoded data removed]"
          },
          "metadata": {
            "needs_background": "light"
          }
        }
      ]
    },
    {
      "cell_type": "markdown",
      "source": [
        "### Naive Bayse"
      ],
      "metadata": {
        "id": "vmpTtV52v3Bb"
      }
    },
    {
      "cell_type": "code",
      "source": [
        "best_nb = joblib.load('./models/best-nb-model.joblib')\n",
        "\n",
        "# Use learning curve to get training and test scores along with train sizes\n",
        "#\n",
        "train_sizes, train_scores, test_scores = learning_curve(estimator=best_nb, X=X_train, y=y_train,\n",
        "                                                       cv=5, train_sizes=np.linspace(0.4, 1.0, 10),\n",
        "                                                       scoring = \"f1\",\n",
        "                                                       n_jobs=-1)\n",
        "#\n",
        "# Calculate training and test mean and std\n",
        "#\n",
        "train_mean = np.mean(train_scores, axis=1)\n",
        "train_std = np.std(train_scores, axis=1)\n",
        "test_mean = np.mean(test_scores, axis=1)\n",
        "test_std = np.std(test_scores, axis=1)\n",
        "#\n",
        "# Plot the learning curve\n",
        "#\n",
        "plt.plot(train_sizes, train_mean, color='blue', marker='o', markersize=5, label='Training f1')\n",
        "plt.fill_between(train_sizes, train_mean + train_std, train_mean - train_std, alpha=0.15, color='blue')\n",
        "plt.plot(train_sizes, test_mean, color='green', marker='+', markersize=5, linestyle='--', label='Validation f2')\n",
        "plt.fill_between(train_sizes, test_mean + test_std, test_mean - test_std, alpha=0.15, color='green')\n",
        "plt.title('Naive Bayes learning curve')\n",
        "plt.xlabel('training data size')\n",
        "plt.ylabel('f1')\n",
        "plt.grid()\n",
        "plt.legend(loc='lower right')\n",
        "plt.savefig('nb-lc.png')\n",
        "plt.show()\n",
        "\n",
        "# the model "
      ],
      "metadata": {
        "id": "H3j3Fo06uJhW",
        "outputId": "6d65f6bc-5666-4040-e96f-82286296fb3f",
        "colab": {
          "base_uri": "https://localhost:8080/",
          "height": 295
        }
      },
      "execution_count": 16,
      "outputs": [
        {
          "output_type": "display_data",
          "data": {
            "text/plain": [
              "<Figure size 432x288 with 1 Axes>"
            ],
            "image/png": "[encoded data removed]"
          },
          "metadata": {
            "needs_background": "light"
          }
        }
      ]
    },
    {
      "cell_type": "markdown",
      "source": [
        "### Support Vector Machine"
      ],
      "metadata": {
        "id": "A9aHzFUPuhop"
      }
    },
    {
      "cell_type": "code",
      "source": [
        "import numpy as np\n",
        "from sklearn.model_selection import learning_curve\n",
        "import matplotlib.pyplot as plt\n",
        "import joblib\n",
        "\n",
        "best_svm = joblib.load('./models/best-svm-model.joblib')\n",
        "\n",
        "# Use learning curve to get training and test scores along with train sizes\n",
        "#\n",
        "train_sizes, train_scores, test_scores = learning_curve(estimator=best_svm, X=X_train, y=y_train,\n",
        "                                                       cv=5, train_sizes=np.linspace(0.4, 1.0, 10),\n",
        "                                                       scoring = \"f1\"\n",
        "                                                       n_jobs=-1)\n",
        "#\n",
        "# Calculate training and test mean and std\n",
        "#\n",
        "train_mean = np.mean(train_scores, axis=1)\n",
        "train_std = np.std(train_scores, axis=1)\n",
        "test_mean = np.mean(test_scores, axis=1)\n",
        "test_std = np.std(test_scores, axis=1)\n",
        "#\n",
        "# Plot the learning curve\n",
        "#\n",
        "plt.plot(train_sizes, train_mean, color='blue', marker='o', markersize=5, label='Training f1')\n",
        "plt.fill_between(train_sizes, train_mean + train_std, train_mean - train_std, alpha=0.15, color='blue')\n",
        "plt.plot(train_sizes, test_mean, color='green', marker='+', markersize=5, linestyle='--', label='Validation f2')\n",
        "plt.fill_between(train_sizes, test_mean + test_std, test_mean - test_std, alpha=0.15, color='green')\n",
        "plt.title('SVM learning curve')\n",
        "plt.xlabel('training data size')\n",
        "plt.ylabel('f1')\n",
        "plt.grid()\n",
        "plt.legend(loc='lower right')\n",
        "plt.savefig('svm-lc.png')\n",
        "plt.show()\n",
        "\n",
        "# the model "
      ],
      "metadata": {
        "colab": {
          "base_uri": "https://localhost:8080/",
          "height": 295
        },
        "id": "sSPtvLA1umjf",
        "outputId": "6e263dde-1201-48de-b7dd-65d3136c9e10"
      },
      "execution_count": 13,
      "outputs": [
        {
          "output_type": "display_data",
          "data": {
            "text/plain": [
              "<Figure size 432x288 with 1 Axes>"
            ],
            "image/png": "[encoded data removed]"
          },
          "metadata": {
            "needs_background": "light"
          }
        }
      ]
    },
    {
      "cell_type": "markdown",
      "source": [
        "### Random Forest"
      ],
      "metadata": {
        "id": "NPoGNeBbyfYa"
      }
    },
    {
      "cell_type": "code",
      "source": [
        "best_rf = joblib.load('./models/best-rf-model.joblib')\n",
        "\n",
        "# Use learning curve to get training and test scores along with train sizes\n",
        "#\n",
        "train_sizes, train_scores, test_scores = learning_curve(estimator=best_rf, X=X_train, y=y_train,\n",
        "                                                       cv=5, train_sizes=np.linspace(0.4, 1.0, 10),\n",
        "                                                       scoring = \"f1\",\n",
        "                                                       n_jobs=-1)\n",
        "#\n",
        "# Calculate training and test mean and std\n",
        "#\n",
        "train_mean = np.mean(train_scores, axis=1)\n",
        "train_std = np.std(train_scores, axis=1)\n",
        "test_mean = np.mean(test_scores, axis=1)\n",
        "test_std = np.std(test_scores, axis=1)"
      ],
      "metadata": {
        "id": "CwTe-HxPyeM1"
      },
      "execution_count": null,
      "outputs": []
    },
    {
      "cell_type": "code",
      "source": [
        "#\n",
        "# Plot the learning curve\n",
        "#\n",
        "plt.plot(train_sizes, train_mean, color='blue', marker='o', markersize=5, label='Training f1')\n",
        "plt.fill_between(train_sizes, train_mean + train_std, train_mean - train_std, alpha=0.15, color='blue')\n",
        "plt.plot(train_sizes, test_mean, color='green', marker='+', markersize=5, linestyle='--', label='Validation f2')\n",
        "plt.fill_between(train_sizes, test_mean + test_std, test_mean - test_std, alpha=0.15, color='green')\n",
        "plt.title('Random Forest learning curve')\n",
        "plt.xlabel('training data size')\n",
        "plt.ylabel('f1')\n",
        "plt.grid()\n",
        "plt.legend(loc='center right')\n",
        "plt.savefig('rf-lc.png')\n",
        "plt.show()\n",
        "\n",
        "# the model "
      ],
      "metadata": {
        "id": "0mkEF7DyBynD",
        "outputId": "e16e4d33-7713-4578-d1e2-81fc99a5c965",
        "colab": {
          "base_uri": "https://localhost:8080/",
          "height": 295
        }
      },
      "execution_count": 12,
      "outputs": [
        {
          "output_type": "display_data",
          "data": {
            "text/plain": [
              "<Figure size 432x288 with 1 Axes>"
            ],
            "image/png": "[encoded data removed]"
          },
          "metadata": {
            "needs_background": "light"
          }
        }
      ]
    }
  ],
  "metadata": {
    "colab": {
      "provenance": []
    },
    "kernelspec": {
      "display_name": "Python 3.10.5 ('Machine-Learning-Project-K3kAtfCK')",
      "language": "python",
      "name": "python3"
    },
    "language_info": {
      "codemirror_mode": {
        "name": "ipython",
        "version": 3
      },
      "file_extension": ".py",
      "mimetype": "text/x-python",
      "name": "python",
      "nbconvert_exporter": "python",
      "pygments_lexer": "ipython3",
      "version": "3.10.5"
    },
    "vscode": {
      "interpreter": {
        "hash": "d776d6ed3af7d3b49847a0099a298aa8d78d20c8f42c0601505d3117fd4dfc67"
      }
    },
    "gpuClass": "standard"
  },
  "nbformat": 4,
  "nbformat_minor": 0
}