{
  "nbformat": 4,
  "nbformat_minor": 0,
  "metadata": {
    "colab": {
      "provenance": [],
      "authorship_tag": "ABX9TyOGeO57+y0pSX+tfSysRfdZ",
      "include_colab_link": true
    },
    "kernelspec": {
      "name": "python3",
      "display_name": "Python 3"
    },
    "language_info": {
      "name": "python"
    }
  },
  "cells": [
    {
      "cell_type": "markdown",
      "metadata": {
        "id": "view-in-github",
        "colab_type": "text"
      },
      "source": [
        "<a href=\"https://colab.research.google.com/github/OskarKrafft/Machine-Learning-Project/blob/main/notebooks/06_SHAP.ipynb\" target=\"_parent\"><img src=\"https://colab.research.google.com/assets/colab-badge.svg\" alt=\"Open In Colab\"/></a>"
      ]
    },
    {
      "cell_type": "code",
      "execution_count": 2,
      "metadata": {
        "colab": {
          "base_uri": "https://localhost:8080/"
        },
        "id": "Hgsf3tlRE_Z7",
        "outputId": "03efd1e0-72c4-41e1-c2a9-bc7b8267d2d5"
      },
      "outputs": [
        {
          "output_type": "stream",
          "name": "stdout",
          "text": [
            "Drive already mounted at /content/drive; to attempt to forcibly remount, call drive.mount(\"/content/drive\", force_remount=True).\n",
            "/content/drive/MyDrive/Colab Notebooks/Machine-Learning-Project\n"
          ]
        }
      ],
      "source": [
        "# Mounting to Google Drive\n",
        "from google.colab import drive\n",
        "drive.mount('/content/drive')\n",
        "\n",
        "%cd /content/drive/MyDrive/Colab Notebooks/Machine-Learning-Project"
      ]
    },
    {
      "cell_type": "code",
      "source": [
        "# Change working directory to project folder\n",
        "%cd /content/drive/MyDrive/Colab Notebooks/Machine-Learning-Project"
      ],
      "metadata": {
        "colab": {
          "base_uri": "https://localhost:8080/"
        },
        "id": "nTmh44O0FPfv",
        "outputId": "5e992eea-96bc-43c8-9110-f241e123f281"
      },
      "execution_count": 3,
      "outputs": [
        {
          "output_type": "stream",
          "name": "stdout",
          "text": [
            "/content/drive/MyDrive/Colab Notebooks/Machine-Learning-Project\n"
          ]
        }
      ]
    },
    {
      "cell_type": "markdown",
      "source": [
        "## Import Test Data"
      ],
      "metadata": {
        "id": "Adpkt_WHFiJz"
      }
    },
    {
      "cell_type": "code",
      "source": [
        "# Importing the data\n",
        "import pandas as pd\n",
        "eppes_cleaned = pd.read_csv('./data/processed/eppes_cleaned.csv')\n",
        "eppes_cleaned = eppes_cleaned.drop(eppes_cleaned.columns[0], axis = 1)\n",
        "\n",
        "# Import Excel sheet containing column indeces to be dropped\n",
        "columns_analysis = pd.read_excel('./data/interim/Drop_Columns_categorical.xlsx')\n",
        "columns_analysis = columns_analysis.drop(columns_analysis.columns[[0]], axis = 1)\n",
        "\n",
        "# Create list of names of categorical columns \n",
        "col_names_categorical = []\n",
        "for i in range(872):\n",
        "  if columns_analysis.iloc[i, 3] == 'categorical':\n",
        "    col_names_categorical.append(columns_analysis.iloc[i, 1])\n",
        "\n",
        "# Change datatype of categorical variables to object\n",
        "eppes_cleaned[col_names_categorical] = eppes_cleaned[col_names_categorical].astype('object')\n",
        "\n",
        "# Define X and y\n",
        "print(eppes_cleaned.head())\n",
        "X = eppes_cleaned.drop(columns='qg1') # reference variable which contains voted y/n\n",
        "y = eppes_cleaned['qg1'] # reference variable which contains voted y/n\n",
        "\n",
        "# 80/20 train-test split\n",
        "from sklearn.model_selection import train_test_split\n",
        "X_train, X_test, y_train, y_test = train_test_split(X,y,test_size = 0.20, random_state=123)\n",
        "\n",
        "from sklearn.preprocessing import LabelEncoder\n",
        "\n",
        "label_encoder = LabelEncoder()\n",
        "y_test = label_encoder.fit_transform(y_test)\n",
        "\n",
        "y_test_df = pd.DataFrame(data=y_test)\n",
        "y_test_df.value_counts(normalize=True)\n",
        "\n",
        "label_encoder = LabelEncoder()\n",
        "y_train = label_encoder.fit_transform(y_train)\n",
        "\n",
        "y_train_df = pd.DataFrame(data=y_train)\n",
        "y_train_df.value_counts(normalize=True)\n",
        "\n",
        "# Setting up pre-processing pipeline\n",
        "from sklearn.pipeline import Pipeline\n",
        "from sklearn.compose import ColumnTransformer\n",
        "from sklearn.preprocessing import StandardScaler, OneHotEncoder\n",
        "\n",
        "# Identify all categorical variables by data type\n",
        "categorical_X_features = X_test.select_dtypes(include=['object', 'bool']).columns\n",
        "\n",
        "# OneHotEncode all categorical variables\n",
        "categorical_transformer = OneHotEncoder(handle_unknown=\"error\")\n",
        "\n",
        "preprocessor = ColumnTransformer(remainder = 'passthrough', # remainder = passthrough for numerical variables to be kept unchanged\n",
        "    transformers=[\n",
        "        (\"cat\", categorical_transformer, categorical_X_features)]\n",
        ")\n",
        "# Inspect the number of variables after pre-processing\n",
        "\n",
        "# Fit the pipeline to the testing data\n",
        "preprocessor.fit(X_test)\n",
        "X_test_ = preprocessor.transform(X_test)\n",
        "\n",
        "# Fit the pipeline to the training data\n",
        "preprocessor.fit(X_train)\n",
        "X_train_ = preprocessor.transform(X_train)"
      ],
      "metadata": {
        "colab": {
          "base_uri": "https://localhost:8080/"
        },
        "id": "UyKFRo8yFfvy",
        "outputId": "77c4c75e-da40-4ed7-bcce-48d5b888c8d3"
      },
      "execution_count": 4,
      "outputs": [
        {
          "output_type": "stream",
          "name": "stdout",
          "text": [
            "   q1.1  q1.2  q1.3  q1.4  q1.5  q1.6  q1.7  q1.8  q1.9  q1.10  ...  d43a  \\\n",
            "0   1.0   0.0   0.0   0.0   0.0   0.0   0.0   0.0   0.0    0.0  ...   2.0   \n",
            "1   0.0   0.0   0.0   1.0   0.0   0.0   0.0   0.0   0.0    0.0  ...   2.0   \n",
            "2   1.0   0.0   0.0   0.0   0.0   0.0   0.0   0.0   0.0    0.0  ...   2.0   \n",
            "3   0.0   0.0   0.0   0.0   0.0   0.0   0.0   0.0   0.0    0.0  ...   1.0   \n",
            "4   0.0   0.0   0.0   0.0   0.0   0.0   0.0   1.0   0.0    0.0  ...   2.0   \n",
            "\n",
            "   d43b  d46.8  d60  d62_1  d62_2  d63  d72_1  d72_2  d77  \n",
            "0   1.0    1.0  1.0    3.0    6.0  1.0    3.0    3.0  2.0  \n",
            "1   1.0    1.0  3.0    2.0    6.0  3.0    2.0    2.0  3.0  \n",
            "2   2.0    1.0  1.0    1.0    5.0  2.0    2.0    2.0  1.0  \n",
            "3   1.0    1.0  2.0    1.0    1.0  3.0    2.0    2.0  1.0  \n",
            "4   1.0    1.0  1.0    1.0    5.0  2.0    2.0    2.0  3.0  \n",
            "\n",
            "[5 rows x 311 columns]\n"
          ]
        }
      ]
    },
    {
      "cell_type": "code",
      "source": [],
      "metadata": {
        "id": "iD4daH3V58FV"
      },
      "execution_count": 4,
      "outputs": []
    },
    {
      "cell_type": "markdown",
      "source": [
        "Import Models"
      ],
      "metadata": {
        "id": "WCxZFl8lFux8"
      }
    },
    {
      "cell_type": "code",
      "source": [
        "from sklearn.ensemble import RandomForestClassifier\n",
        "\n",
        "best_rf = RandomForestClassifier(max_depth = 10, n_estimators = 300, min_samples_split = 5, min_samples_leaf = 1, max_features = \"sqrt\", random_state = 123)"
      ],
      "metadata": {
        "id": "uaKvPmHoFx0w"
      },
      "execution_count": 5,
      "outputs": []
    },
    {
      "cell_type": "code",
      "source": [
        "best_rf.fit(X_train, y_train)"
      ],
      "metadata": {
        "colab": {
          "base_uri": "https://localhost:8080/"
        },
        "id": "vJP9q9wOGEpd",
        "outputId": "e1f16e11-8aa6-4757-9017-82e82114463c"
      },
      "execution_count": 6,
      "outputs": [
        {
          "output_type": "execute_result",
          "data": {
            "text/plain": [
              "RandomForestClassifier(max_depth=10, max_features='sqrt', min_samples_split=5,\n",
              "                       n_estimators=300, random_state=123)"
            ]
          },
          "metadata": {},
          "execution_count": 6
        }
      ]
    },
    {
      "cell_type": "code",
      "source": [
        "y_pred_rf = best_rf.predict(X_test)"
      ],
      "metadata": {
        "id": "h6KHPaiXib4Z"
      },
      "execution_count": 7,
      "outputs": []
    },
    {
      "cell_type": "code",
      "source": [
        "from sklearn.metrics import matthews_corrcoef, f1_score, accuracy_score, precision_score, recall_score\n",
        "mcc = []\n",
        "f1 = []\n",
        "\n",
        "mcc.append((matthews_corrcoef(y_test, y_pred_rf)))\n",
        "f1.append((f1_score(y_test, y_pred_rf)))"
      ],
      "metadata": {
        "id": "bS5es02eij0t"
      },
      "execution_count": 8,
      "outputs": []
    },
    {
      "cell_type": "code",
      "source": [
        "\n",
        "f1"
      ],
      "metadata": {
        "colab": {
          "base_uri": "https://localhost:8080/"
        },
        "id": "pHdI-iFrixjE",
        "outputId": "bce8a57d-f3ae-4dc8-8274-e68a0f115534"
      },
      "execution_count": 9,
      "outputs": [
        {
          "output_type": "execute_result",
          "data": {
            "text/plain": [
              "[0.7846730528946271]"
            ]
          },
          "metadata": {},
          "execution_count": 9
        }
      ]
    },
    {
      "cell_type": "code",
      "source": [
        " pip install fasttreeshap"
      ],
      "metadata": {
        "colab": {
          "base_uri": "https://localhost:8080/"
        },
        "id": "ByIBHymSHJeO",
        "outputId": "c759a21e-b7f8-45b2-f4fc-7b1a5e42f8c9"
      },
      "execution_count": 24,
      "outputs": [
        {
          "output_type": "stream",
          "name": "stdout",
          "text": [
            "Looking in indexes: https://pypi.org/simple, https://us-python.pkg.dev/colab-wheels/public/simple/\n",
            "Collecting fasttreeshap\n",
            "  Downloading fasttreeshap-0.1.3.tar.gz (286 kB)\n",
            "\u001b[K     |████████████████████████████████| 286 kB 9.9 MB/s \n",
            "\u001b[?25h  Installing build dependencies ... \u001b[?25l\u001b[?25hdone\n",
            "  Getting requirements to build wheel ... \u001b[?25l\u001b[?25hdone\n",
            "    Preparing wheel metadata ... \u001b[?25l\u001b[?25hdone\n",
            "Requirement already satisfied: numpy in /usr/local/lib/python3.7/dist-packages (from fasttreeshap) (1.21.6)\n",
            "Requirement already satisfied: cloudpickle in /usr/local/lib/python3.7/dist-packages (from fasttreeshap) (1.5.0)\n",
            "Collecting slicer==0.0.7\n",
            "  Downloading slicer-0.0.7-py3-none-any.whl (14 kB)\n",
            "Collecting shap\n",
            "  Downloading shap-0.41.0-cp37-cp37m-manylinux_2_12_x86_64.manylinux2010_x86_64.whl (569 kB)\n",
            "\u001b[K     |████████████████████████████████| 569 kB 39.8 MB/s \n",
            "\u001b[?25hRequirement already satisfied: psutil in /usr/local/lib/python3.7/dist-packages (from fasttreeshap) (5.4.8)\n",
            "Requirement already satisfied: packaging>20.9 in /usr/local/lib/python3.7/dist-packages (from fasttreeshap) (21.3)\n",
            "Requirement already satisfied: numba in /usr/local/lib/python3.7/dist-packages (from fasttreeshap) (0.56.4)\n",
            "Requirement already satisfied: tqdm>4.25.0 in /usr/local/lib/python3.7/dist-packages (from fasttreeshap) (4.64.1)\n",
            "Requirement already satisfied: pandas in /usr/local/lib/python3.7/dist-packages (from fasttreeshap) (1.3.5)\n",
            "Requirement already satisfied: scikit-learn in /usr/local/lib/python3.7/dist-packages (from fasttreeshap) (1.0.2)\n",
            "Requirement already satisfied: scipy in /usr/local/lib/python3.7/dist-packages (from fasttreeshap) (1.7.3)\n",
            "Requirement already satisfied: pyparsing!=3.0.5,>=2.0.2 in /usr/local/lib/python3.7/dist-packages (from packaging>20.9->fasttreeshap) (3.0.9)\n",
            "Requirement already satisfied: setuptools in /usr/local/lib/python3.7/dist-packages (from numba->fasttreeshap) (57.4.0)\n",
            "Requirement already satisfied: importlib-metadata in /usr/local/lib/python3.7/dist-packages (from numba->fasttreeshap) (4.13.0)\n",
            "Requirement already satisfied: llvmlite<0.40,>=0.39.0dev0 in /usr/local/lib/python3.7/dist-packages (from numba->fasttreeshap) (0.39.1)\n",
            "Requirement already satisfied: typing-extensions>=3.6.4 in /usr/local/lib/python3.7/dist-packages (from importlib-metadata->numba->fasttreeshap) (4.1.1)\n",
            "Requirement already satisfied: zipp>=0.5 in /usr/local/lib/python3.7/dist-packages (from importlib-metadata->numba->fasttreeshap) (3.10.0)\n",
            "Requirement already satisfied: python-dateutil>=2.7.3 in /usr/local/lib/python3.7/dist-packages (from pandas->fasttreeshap) (2.8.2)\n",
            "Requirement already satisfied: pytz>=2017.3 in /usr/local/lib/python3.7/dist-packages (from pandas->fasttreeshap) (2022.6)\n",
            "Requirement already satisfied: six>=1.5 in /usr/local/lib/python3.7/dist-packages (from python-dateutil>=2.7.3->pandas->fasttreeshap) (1.15.0)\n",
            "Requirement already satisfied: joblib>=0.11 in /usr/local/lib/python3.7/dist-packages (from scikit-learn->fasttreeshap) (1.2.0)\n",
            "Requirement already satisfied: threadpoolctl>=2.0.0 in /usr/local/lib/python3.7/dist-packages (from scikit-learn->fasttreeshap) (3.1.0)\n",
            "Building wheels for collected packages: fasttreeshap\n",
            "  Building wheel for fasttreeshap (PEP 517) ... \u001b[?25l\u001b[?25hdone\n",
            "  Created wheel for fasttreeshap: filename=fasttreeshap-0.1.3-cp37-cp37m-linux_x86_64.whl size=447262 sha256=5c8b3f64136d24918aaaf116d252bd2749ff8c492c81975a7da2c6ebdcf4e1b4\n",
            "  Stored in directory: /root/.cache/pip/wheels/fa/eb/8f/fafe68d53fcd042bb115ca09eea3733575b1439ae3db22f2dc\n",
            "Successfully built fasttreeshap\n",
            "Installing collected packages: slicer, shap, fasttreeshap\n",
            "Successfully installed fasttreeshap-0.1.3 shap-0.41.0 slicer-0.0.7\n"
          ]
        }
      ]
    },
    {
      "cell_type": "code",
      "source": [
        "import fasttreeshap "
      ],
      "metadata": {
        "id": "gA77QEW5GPJG"
      },
      "execution_count": 25,
      "outputs": []
    },
    {
      "cell_type": "code",
      "source": [
        "shap_explainer = fasttreeshap.TreeExplainer(best_rf, algorithm = \"auto\", n_jobs = -1)\n",
        "shap_values = shap_explainer(X_test_)"
      ],
      "metadata": {
        "id": "1qF27K1aLF_u"
      },
      "execution_count": 34,
      "outputs": []
    },
    {
      "cell_type": "code",
      "source": [
        "shap_values"
      ],
      "metadata": {
        "colab": {
          "base_uri": "https://localhost:8080/"
        },
        "id": "EQmZxZ_my1_z",
        "outputId": "c9ba71b6-0976-4ce1-975f-4f20068daacc"
      },
      "execution_count": 39,
      "outputs": [
        {
          "output_type": "execute_result",
          "data": {
            "text/plain": [
              ".values =\n",
              "array([[[ 8.79976382e-05, -8.79976382e-05],\n",
              "        [-4.74248597e-05,  4.74248597e-05],\n",
              "        [ 1.12687306e-04, -1.12687306e-04],\n",
              "        ...,\n",
              "        [-4.32049866e-04,  4.32049866e-04],\n",
              "        [ 1.35804007e-04, -1.35804007e-04],\n",
              "        [-2.36490820e-04,  2.36490820e-04]],\n",
              "\n",
              "       [[-1.42712944e-04,  1.42712944e-04],\n",
              "        [-3.48694625e-05,  3.48694625e-05],\n",
              "        [-1.69479101e-03,  1.69479101e-03],\n",
              "        ...,\n",
              "        [ 1.40735357e-04, -1.40735357e-04],\n",
              "        [ 4.53887390e-04, -4.53887390e-04],\n",
              "        [ 1.26860617e-05, -1.26860617e-05]],\n",
              "\n",
              "       [[ 1.80315424e-03, -1.80315424e-03],\n",
              "        [ 5.88295990e-04, -5.88295990e-04],\n",
              "        [ 2.29729863e-04, -2.29729863e-04],\n",
              "        ...,\n",
              "        [ 1.37638011e-04, -1.37638011e-04],\n",
              "        [ 2.94496013e-04, -2.94496013e-04],\n",
              "        [ 8.78814619e-05, -8.78814619e-05]],\n",
              "\n",
              "       ...,\n",
              "\n",
              "       [[-1.17448360e-04,  1.17448360e-04],\n",
              "        [ 4.55220529e-05, -4.55220529e-05],\n",
              "        [ 2.22198461e-04, -2.22198461e-04],\n",
              "        ...,\n",
              "        [ 5.21570668e-05, -5.21570668e-05],\n",
              "        [ 2.71549423e-04, -2.71549423e-04],\n",
              "        [-1.54042714e-04,  1.54042714e-04]],\n",
              "\n",
              "       [[-2.51316468e-04,  2.51316468e-04],\n",
              "        [ 9.87509281e-06, -9.87509281e-06],\n",
              "        [ 2.04698613e-04, -2.04698613e-04],\n",
              "        ...,\n",
              "        [-1.48585297e-05,  1.48585297e-05],\n",
              "        [ 3.73688708e-04, -3.73688708e-04],\n",
              "        [ 3.30395651e-06, -3.30395651e-06]],\n",
              "\n",
              "       [[-2.48957710e-04,  2.48957710e-04],\n",
              "        [-3.93681291e-05,  3.93681291e-05],\n",
              "        [ 9.19204362e-05, -9.19204362e-05],\n",
              "        ...,\n",
              "        [-6.19839977e-05,  6.19839977e-05],\n",
              "        [ 3.23519051e-04, -3.23519051e-04],\n",
              "        [ 5.65719184e-06, -5.65719184e-06]]])\n",
              "\n",
              ".base_values =\n",
              "array([[0.54771289, 0.45228711],\n",
              "       [0.54771289, 0.45228711],\n",
              "       [0.54771289, 0.45228711],\n",
              "       ...,\n",
              "       [0.54771289, 0.45228711],\n",
              "       [0.54771289, 0.45228711],\n",
              "       [0.54771289, 0.45228711]])\n",
              "\n",
              ".data =\n",
              "array([[1., 0., 0., ..., 5., 0., 0.],\n",
              "       [0., 0., 1., ..., 3., 0., 1.],\n",
              "       [1., 0., 0., ..., 2., 0., 1.],\n",
              "       ...,\n",
              "       [0., 1., 0., ..., 2., 0., 1.],\n",
              "       [0., 1., 0., ..., 2., 0., 1.],\n",
              "       [0., 1., 0., ..., 3., 0., 1.]])"
            ]
          },
          "metadata": {},
          "execution_count": 39
        }
      ]
    },
    {
      "cell_type": "code",
      "source": [
        "import numpy\n",
        "X_train = numpy.array(X_train,dtype='float64')"
      ],
      "metadata": {
        "id": "fIDa6hUX89W9"
      },
      "execution_count": 13,
      "outputs": []
    },
    {
      "cell_type": "code",
      "source": [
        "import shap"
      ],
      "metadata": {
        "id": "dD3-kZfFy0Sq"
      },
      "execution_count": 10,
      "outputs": []
    },
    {
      "cell_type": "code",
      "source": [
        "explainer = shap.Explainer(best_rf, X_train)\n",
        "shap_test = explainer(X_test)\n",
        "print(f\"Shap values length: {len(shap_test)}\\n\")\n",
        "print(f\"Sample shap value:\\n{shap_test[0]}\")"
      ],
      "metadata": {
        "colab": {
          "base_uri": "https://localhost:8080/"
        },
        "id": "slDq9dlYxkQe",
        "outputId": "6b1746b6-b060-44bd-dea0-d2b34db5d068"
      },
      "execution_count": 14,
      "outputs": [
        {
          "output_type": "stream",
          "name": "stderr",
          "text": [
            "100%|===================| 10978/10986 [13:26<00:00]       "
          ]
        },
        {
          "output_type": "stream",
          "name": "stdout",
          "text": [
            "Shap values length: 5493\n",
            "\n",
            "Sample shap value:\n",
            ".values =\n",
            "array([[-1.22525403e-03,  1.22525400e-03],\n",
            "       [-2.07659479e-04,  2.07659480e-04],\n",
            "       [-7.27166776e-05,  7.27166736e-05],\n",
            "       [-4.07604282e-04,  4.07604278e-04],\n",
            "       [-1.54410544e-04,  1.54410540e-04],\n",
            "       [ 5.35686881e-05, -5.35686927e-05],\n",
            "       [-1.91737932e-04,  1.91737917e-04],\n",
            "       [-4.48471234e-05,  4.48471204e-05],\n",
            "       [-2.68036858e-05,  2.68036842e-05],\n",
            "       [-5.67917644e-05,  5.67917633e-05],\n",
            "       [ 3.13973075e-04, -3.13973095e-04],\n",
            "       [-3.22099647e-05,  3.22099624e-05],\n",
            "       [-4.65323167e-05,  4.65323099e-05],\n",
            "       [-2.66541565e-04,  2.66541549e-04],\n",
            "       [ 8.26243442e-05, -8.26243471e-05],\n",
            "       [-2.67631253e-05,  2.67631200e-05],\n",
            "       [ 1.50254757e-04, -1.50254769e-04],\n",
            "       [-2.92927800e-05,  2.92927784e-05],\n",
            "       [-6.14772834e-05,  6.14772804e-05],\n",
            "       [ 9.00786243e-05, -9.00786325e-05],\n",
            "       [-3.07784779e-04,  3.07784774e-04],\n",
            "       [-2.15320795e-05,  2.15320816e-05],\n",
            "       [-1.43874653e-05,  1.43874619e-05],\n",
            "       [ 2.51725685e-05, -2.51725720e-05],\n",
            "       [ 3.52515785e-05, -3.52515812e-05],\n",
            "       [-5.96879108e-05,  5.96879078e-05],\n",
            "       [ 3.42466262e-03, -3.42466259e-03],\n",
            "       [ 3.48809912e-04, -3.48809920e-04],\n",
            "       [ 2.77118420e-06, -2.77122364e-06],\n",
            "       [-2.56194547e-02,  2.56194549e-02],\n",
            "       [-1.13380346e-02,  1.13380349e-02],\n",
            "       [-1.61470745e-02,  1.61470751e-02],\n",
            "       [ 2.32783339e-04, -2.32783283e-04],\n",
            "       [ 4.70367755e-04, -4.70367840e-04],\n",
            "       [-1.06440709e-04,  1.06440693e-04],\n",
            "       [ 7.27865058e-04, -7.27865046e-04],\n",
            "       [-6.92208299e-04,  6.92208266e-04],\n",
            "       [ 2.61798051e-05, -2.61798204e-05],\n",
            "       [-2.33413854e-04,  2.33413868e-04],\n",
            "       [-7.57167023e-04,  7.57167017e-04],\n",
            "       [-2.95215047e-04,  2.95215046e-04],\n",
            "       [ 6.55577855e-04, -6.55577854e-04],\n",
            "       [-6.18747739e-04,  6.18747698e-04],\n",
            "       [ 1.09121717e-03, -1.09121720e-03],\n",
            "       [ 3.31812946e-04, -3.31812979e-04],\n",
            "       [-1.17930670e-03,  1.17930669e-03],\n",
            "       [-1.38964471e-04,  1.38964472e-04],\n",
            "       [ 1.04482417e-03, -1.04482413e-03],\n",
            "       [ 1.87993837e-04, -1.87993842e-04],\n",
            "       [-1.77752967e-04,  1.77752962e-04],\n",
            "       [-7.27641148e-05,  7.27641073e-05],\n",
            "       [ 3.18546520e-06, -3.18546616e-06],\n",
            "       [ 2.72328951e-06, -2.72328868e-06],\n",
            "       [-2.62320300e-05,  2.62320288e-05],\n",
            "       [-3.31213575e-05,  3.31213487e-05],\n",
            "       [-1.43977515e-04,  1.43977507e-04],\n",
            "       [-6.60612847e-05,  6.60612704e-05],\n",
            "       [ 1.72948153e-03, -1.72948154e-03],\n",
            "       [-7.85918104e-04,  7.85918069e-04],\n",
            "       [-7.68079102e-05,  7.68079116e-05],\n",
            "       [ 0.00000000e+00,  0.00000000e+00],\n",
            "       [ 0.00000000e+00,  0.00000000e+00],\n",
            "       [ 0.00000000e+00,  0.00000000e+00],\n",
            "       [-7.10733628e-05,  7.10733590e-05],\n",
            "       [-2.93676109e-04,  2.93676077e-04],\n",
            "       [ 2.10368862e-03, -2.10368857e-03],\n",
            "       [-9.80340586e-05,  9.80340563e-05],\n",
            "       [-3.63321655e-06,  3.63321706e-06],\n",
            "       [ 8.57584209e-05, -8.57584303e-05],\n",
            "       [-9.32029988e-06,  9.32030080e-06],\n",
            "       [-1.23743235e-04,  1.23743230e-04],\n",
            "       [ 1.29558709e-03, -1.29558716e-03],\n",
            "       [-1.66199115e-05,  1.66199090e-05],\n",
            "       [-2.45145145e-04,  2.45145136e-04],\n",
            "       [-9.71167027e-04,  9.71167076e-04],\n",
            "       [-1.25478374e-04,  1.25478369e-04],\n",
            "       [-2.87006124e-05,  2.87006095e-05],\n",
            "       [-5.57010033e-05,  5.57009967e-05],\n",
            "       [-9.23240263e-06,  9.23240008e-06],\n",
            "       [ 0.00000000e+00,  0.00000000e+00],\n",
            "       [-1.04553272e-04,  1.04553268e-04],\n",
            "       [ 5.94212803e-04, -5.94212797e-04],\n",
            "       [ 4.91425434e-05, -4.91425431e-05],\n",
            "       [-7.70102934e-05,  7.70102921e-05],\n",
            "       [ 8.68481841e-05, -8.68481993e-05],\n",
            "       [-1.56523790e-05,  1.56523926e-05],\n",
            "       [-2.15091778e-04,  2.15091775e-04],\n",
            "       [-2.36877407e-04,  2.36877412e-04],\n",
            "       [-6.76380826e-05,  6.76380935e-05],\n",
            "       [ 6.26823080e-04, -6.26823127e-04],\n",
            "       [-6.19046457e-05,  6.19046448e-05],\n",
            "       [-7.28399219e-05,  7.28399222e-05],\n",
            "       [-6.73467240e-04,  6.73467231e-04],\n",
            "       [-1.48818184e-05,  1.48818180e-05],\n",
            "       [ 1.15835927e-05, -1.15835925e-05],\n",
            "       [-3.85175915e-05,  3.85175911e-05],\n",
            "       [ 8.74297086e-04, -8.74297082e-04],\n",
            "       [ 5.65184549e-04, -5.65184533e-04],\n",
            "       [ 1.53702755e-03, -1.53702754e-03],\n",
            "       [ 4.42779082e-05, -4.42779327e-05],\n",
            "       [ 3.59768330e-03, -3.59768327e-03],\n",
            "       [-3.61333893e-04,  3.61333885e-04],\n",
            "       [ 8.22867466e-05, -8.22867905e-05],\n",
            "       [-1.43919356e-04,  1.43919329e-04],\n",
            "       [ 2.62439154e-04, -2.62439104e-04],\n",
            "       [ 3.06398538e-04, -3.06398549e-04],\n",
            "       [ 1.57288178e-03, -1.57288173e-03],\n",
            "       [ 1.33352322e-04, -1.33352327e-04],\n",
            "       [ 9.21898671e-04, -9.21898711e-04],\n",
            "       [ 2.99494159e-04, -2.99494050e-04],\n",
            "       [ 1.31047408e-03, -1.31047410e-03],\n",
            "       [-4.54896442e-04,  4.54896453e-04],\n",
            "       [-4.13777819e-04,  4.13777843e-04],\n",
            "       [-7.98935217e-04,  7.98935222e-04],\n",
            "       [-5.33616437e-04,  5.33616407e-04],\n",
            "       [-3.46297840e-04,  3.46297867e-04],\n",
            "       [ 3.37538688e-06, -3.37539596e-06],\n",
            "       [-1.72434692e-04,  1.72434660e-04],\n",
            "       [-9.04216897e-05,  9.04216836e-05],\n",
            "       [-4.88095996e-05,  4.88095713e-05],\n",
            "       [ 6.84009146e-05, -6.84009397e-05],\n",
            "       [ 8.14853326e-05, -8.14853426e-05],\n",
            "       [ 9.35117693e-05, -9.35117650e-05],\n",
            "       [ 3.38133894e-04, -3.38133882e-04],\n",
            "       [ 3.25684819e-03, -3.25684787e-03],\n",
            "       [ 6.36888403e-04, -6.36888361e-04],\n",
            "       [-9.68421187e-04,  9.68421174e-04],\n",
            "       [ 2.15113119e-04, -2.15113050e-04],\n",
            "       [-1.34630019e-04,  1.34630010e-04],\n",
            "       [ 6.64104674e-04, -6.64104662e-04],\n",
            "       [ 8.27838156e-06, -8.27835978e-06],\n",
            "       [ 4.64772596e-05, -4.64772671e-05],\n",
            "       [-7.16621754e-06,  7.16621550e-06],\n",
            "       [-1.36104670e-03,  1.36104665e-03],\n",
            "       [-1.41203205e-04,  1.41203226e-04],\n",
            "       [-1.64530518e-04,  1.64530512e-04],\n",
            "       [-3.00603196e-04,  3.00603184e-04],\n",
            "       [-6.99744703e-05,  6.99744793e-05],\n",
            "       [-4.25701913e-05,  4.25701894e-05],\n",
            "       [-6.71235456e-05,  6.71235464e-05],\n",
            "       [-8.83580254e-04,  8.83580229e-04],\n",
            "       [ 2.83712580e-04, -2.83712567e-04],\n",
            "       [-2.53642821e-04,  2.53642790e-04],\n",
            "       [-4.22140699e-04,  4.22140704e-04],\n",
            "       [-2.78170242e-04,  2.78170242e-04],\n",
            "       [-2.66612761e-04,  2.66612763e-04],\n",
            "       [ 2.49929252e-03, -2.49929264e-03],\n",
            "       [ 3.03498286e-04, -3.03498275e-04],\n",
            "       [ 2.22840356e-05, -2.22840403e-05],\n",
            "       [ 3.64827554e-04, -3.64827573e-04],\n",
            "       [-3.47558800e-03,  3.47558807e-03],\n",
            "       [ 4.92799103e-04, -4.92799110e-04],\n",
            "       [-6.89857997e-05,  6.89858105e-05],\n",
            "       [ 1.63352112e-03, -1.63352104e-03],\n",
            "       [ 3.35590133e-03, -3.35590119e-03],\n",
            "       [ 1.82174281e-03, -1.82174272e-03],\n",
            "       [ 2.17970364e-03, -2.17970366e-03],\n",
            "       [ 5.90752683e-04, -5.90752649e-04],\n",
            "       [ 4.52911319e-04, -4.52911313e-04],\n",
            "       [ 1.03761699e-03, -1.03761701e-03],\n",
            "       [ 2.97157907e-04, -2.97157898e-04],\n",
            "       [-2.45802043e-04,  2.45802040e-04],\n",
            "       [ 4.75233997e-05, -4.75234330e-05],\n",
            "       [-7.03352734e-04,  7.03352698e-04],\n",
            "       [-6.25934195e-04,  6.25934194e-04],\n",
            "       [ 2.24318611e-05, -2.24318850e-05],\n",
            "       [ 2.27848338e-04, -2.27848360e-04],\n",
            "       [-1.48855520e-04,  1.48855488e-04],\n",
            "       [-7.33951546e-05,  7.33951546e-05],\n",
            "       [-1.79776105e-04,  1.79776089e-04],\n",
            "       [ 8.02029804e-04, -8.02029836e-04],\n",
            "       [-1.07940935e-04,  1.07940884e-04],\n",
            "       [-5.20919015e-05,  5.20918774e-05],\n",
            "       [-2.13487103e-04,  2.13487114e-04],\n",
            "       [ 4.58023159e-04, -4.58023155e-04],\n",
            "       [ 4.36349055e-04, -4.36349045e-04],\n",
            "       [ 3.72363692e-04, -3.72363689e-04],\n",
            "       [ 3.49022643e-04, -3.49022639e-04],\n",
            "       [ 4.82885347e-04, -4.82885407e-04],\n",
            "       [ 2.84241124e-04, -2.84241096e-04],\n",
            "       [ 8.22215186e-05, -8.22215352e-05],\n",
            "       [-3.44719947e-04,  3.44719942e-04],\n",
            "       [ 2.22964639e-05, -2.22964692e-05],\n",
            "       [ 2.22826798e-05, -2.22826839e-05],\n",
            "       [-1.03248462e-04,  1.03248455e-04],\n",
            "       [-2.78079438e-04,  2.78079495e-04],\n",
            "       [ 2.61501181e-04, -2.61501182e-04],\n",
            "       [ 1.48147028e-03, -1.48147030e-03],\n",
            "       [-7.72989265e-04,  7.72989276e-04],\n",
            "       [-2.49215459e-05,  2.49215338e-05],\n",
            "       [ 4.87076442e-04, -4.87076456e-04],\n",
            "       [ 6.71851772e-04, -6.71851743e-04],\n",
            "       [ 7.66285510e-04, -7.66285476e-04],\n",
            "       [ 4.56754995e-04, -4.56755014e-04],\n",
            "       [ 4.09393126e-04, -4.09393092e-04],\n",
            "       [ 8.00107640e-04, -8.00107639e-04],\n",
            "       [-3.82874931e-04,  3.82875024e-04],\n",
            "       [-3.93846016e-04,  3.93845968e-04],\n",
            "       [ 1.20901029e-04, -1.20901005e-04],\n",
            "       [-1.45987294e-04,  1.45987293e-04],\n",
            "       [-6.84290380e-05,  6.84290159e-05],\n",
            "       [ 9.68596846e-05, -9.68596934e-05],\n",
            "       [ 1.58383691e-07, -1.58376374e-07],\n",
            "       [-2.30649098e-04,  2.30649083e-04],\n",
            "       [-1.94646866e-04,  1.94646862e-04],\n",
            "       [-1.78151970e-04,  1.78151965e-04],\n",
            "       [-2.24920628e-04,  2.24920635e-04],\n",
            "       [-1.24273072e-04,  1.24273081e-04],\n",
            "       [-1.83348495e-04,  1.83348486e-04],\n",
            "       [ 4.82267224e-04, -4.82267247e-04],\n",
            "       [ 1.04432500e-04, -1.04432462e-04],\n",
            "       [-1.95333644e-05,  1.95333646e-05],\n",
            "       [-2.45372590e-05,  2.45372554e-05],\n",
            "       [ 0.00000000e+00,  0.00000000e+00],\n",
            "       [-6.70902984e-05,  6.70902978e-05],\n",
            "       [-1.68921339e-04,  1.68921324e-04],\n",
            "       [-3.25620959e-04,  3.25620977e-04],\n",
            "       [-2.70626452e-05,  2.70626465e-05],\n",
            "       [ 1.34863435e-05, -1.34863393e-05],\n",
            "       [-2.94646421e-04,  2.94646417e-04],\n",
            "       [-1.31013338e-04,  1.31013314e-04],\n",
            "       [-8.67256312e-04,  8.67256313e-04],\n",
            "       [ 1.10404024e-03, -1.10404026e-03],\n",
            "       [-2.14772549e-04,  2.14772538e-04],\n",
            "       [-1.93843516e-04,  1.93843513e-04],\n",
            "       [ 7.08829356e-04, -7.08829354e-04],\n",
            "       [-4.44687107e-06,  4.44686777e-06],\n",
            "       [ 0.00000000e+00,  0.00000000e+00],\n",
            "       [-3.44057022e-05,  3.44057021e-05],\n",
            "       [-1.79291270e-04,  1.79291258e-04],\n",
            "       [-2.58638917e-04,  2.58638912e-04],\n",
            "       [ 1.60273027e-04, -1.60273011e-04],\n",
            "       [-3.00120587e-04,  3.00120572e-04],\n",
            "       [-1.54283365e-04,  1.54283362e-04],\n",
            "       [ 2.85454864e-04, -2.85454882e-04],\n",
            "       [ 2.66592411e-04, -2.66592380e-04],\n",
            "       [-3.59878798e-05,  3.59878800e-05],\n",
            "       [-1.13421030e-04,  1.13421028e-04],\n",
            "       [-3.78863345e-05,  3.78863311e-05],\n",
            "       [-1.77159774e-05,  1.77159771e-05],\n",
            "       [-4.89826283e-05,  4.89826184e-05],\n",
            "       [-3.77026492e-05,  3.77026497e-05],\n",
            "       [ 3.37491648e-06, -3.37491541e-06],\n",
            "       [-6.49171267e-04,  6.49171245e-04],\n",
            "       [ 5.18971778e-04, -5.18971766e-04],\n",
            "       [-1.32777150e-04,  1.32777158e-04],\n",
            "       [ 4.74630676e-05, -4.74630429e-05],\n",
            "       [ 9.48743547e-04, -9.48743519e-04],\n",
            "       [-4.83494710e-04,  4.83494748e-04],\n",
            "       [-2.66780373e-04,  2.66780345e-04],\n",
            "       [-5.41722023e-04,  5.41722049e-04],\n",
            "       [ 1.21381996e-04, -1.21381987e-04],\n",
            "       [-1.27835932e-03,  1.27835933e-03],\n",
            "       [-1.79220595e-04,  1.79220595e-04],\n",
            "       [ 1.28566158e-04, -1.28566172e-04],\n",
            "       [ 3.32332004e-05, -3.32332073e-05],\n",
            "       [-4.15032942e-05,  4.15032889e-05],\n",
            "       [ 2.57657481e-04, -2.57657471e-04],\n",
            "       [-3.11977548e-05,  3.11977439e-05],\n",
            "       [ 1.21928199e-04, -1.21928207e-04],\n",
            "       [ 5.36224670e-06, -5.36226123e-06],\n",
            "       [ 2.38201532e-04, -2.38201522e-04],\n",
            "       [ 5.79545766e-04, -5.79545702e-04],\n",
            "       [-1.78792693e-04,  1.78792675e-04],\n",
            "       [-1.37414840e-04,  1.37414820e-04],\n",
            "       [-3.34799841e-04,  3.34799824e-04],\n",
            "       [-1.79305011e-04,  1.79305022e-04],\n",
            "       [ 2.86952838e-05, -2.86952933e-05],\n",
            "       [ 3.96993243e-05, -3.96993407e-05],\n",
            "       [-4.92481305e-05,  4.92481357e-05],\n",
            "       [-4.29498944e-04,  4.29498953e-04],\n",
            "       [ 2.44945834e-04, -2.44945846e-04],\n",
            "       [ 3.67704981e-04, -3.67704978e-04],\n",
            "       [ 5.24981291e-04, -5.24981278e-04],\n",
            "       [ 8.05599710e-04, -8.05599699e-04],\n",
            "       [-4.12110916e-03,  4.12110912e-03],\n",
            "       [ 5.99982056e-03, -5.99982053e-03],\n",
            "       [ 1.42870598e-03, -1.42870595e-03],\n",
            "       [ 1.17424136e-03, -1.17424133e-03],\n",
            "       [ 3.09869423e-03, -3.09869409e-03],\n",
            "       [ 7.35493702e-04, -7.35493766e-04],\n",
            "       [-4.27242072e-04,  4.27242061e-04],\n",
            "       [-1.15707590e-03,  1.15707588e-03],\n",
            "       [-4.78620384e-04,  4.78620374e-04],\n",
            "       [ 1.64405288e-03, -1.64405285e-03],\n",
            "       [ 3.52912567e-03, -3.52912573e-03],\n",
            "       [ 1.42228407e-03, -1.42228408e-03],\n",
            "       [-1.99488894e-03,  1.99488897e-03],\n",
            "       [-6.65380698e-03,  6.65380701e-03],\n",
            "       [-2.15700135e-05,  2.15700042e-05],\n",
            "       [-1.13534552e-03,  1.13534549e-03],\n",
            "       [-1.29931591e-01,  1.29931592e-01],\n",
            "       [-7.12862057e-02,  7.12862064e-02],\n",
            "       [-2.92092451e-03,  2.92092442e-03],\n",
            "       [ 4.79436183e-04, -4.79436174e-04],\n",
            "       [-5.23775195e-02,  5.23775200e-02],\n",
            "       [-1.00228408e-02,  1.00228411e-02],\n",
            "       [ 1.01794238e-04, -1.01794222e-04],\n",
            "       [-8.96626078e-04,  8.96626140e-04],\n",
            "       [ 2.37799262e-04, -2.37799265e-04],\n",
            "       [-9.62853707e-04,  9.62853679e-04],\n",
            "       [-2.70656034e-05,  2.70656043e-05],\n",
            "       [ 7.50240793e-04, -7.50240779e-04],\n",
            "       [-4.00128304e-04,  4.00128335e-04],\n",
            "       [-4.22317173e-04,  4.22317127e-04],\n",
            "       [ 3.10768099e-04, -3.10768178e-04],\n",
            "       [-5.48999911e-04,  5.48999949e-04],\n",
            "       [-2.45270363e-02,  2.45270365e-02],\n",
            "       [-2.24637912e-02,  2.24637914e-02],\n",
            "       [ 4.84338567e-03, -4.84338566e-03]])\n",
            "\n",
            ".base_values =\n",
            "array([0.5215209, 0.4784791])\n",
            "\n",
            ".data =\n",
            "array([0.0, 0.0, 0.0, 0.0, 0.0, 0.0, 0.0, 0.0, 0.0, 0.0, 0.0, 0.0, 0.0,\n",
            "       0.0, 0.0, 0.0, 0.0, 0.0, 0.0, 0.0, 0.0, 0.0, 0.0, 0.0, 0.0, 0.0,\n",
            "       1.0, 0.0, 1.0, 3.0, 3.0, 3.0, 1.0, 2.0, 2.0, 5.0, 2.0, 2.0, 2.0,\n",
            "       1.0, 1.0, 1.0, 1.0, 1.0, 3.0, 1.0, 0.0, 1.0, 0.0, 0.0, 0.0, 0.0,\n",
            "       0.0, 0.0, 0.0, 0.0, 0.0, 1.0, 0.0, 0.0, 0.0, 0.0, 0.0, 0.0, 0.0,\n",
            "       1.0, 0.0, 0.0, 0.0, 0.0, 0.0, 1.0, 0.0, 0.0, 0.0, 0.0, 0.0, 0.0,\n",
            "       0.0, 0.0, 0.0, 1.0, 0.0, 0.0, 0.0, 0.0, 0.0, 0.0, 0.0, 1.0, 0.0,\n",
            "       0.0, 0.0, 0.0, 0.0, 0.0, 1.0, 1.0, 1.0, 2.0, 1.0, 1.0, 1.0, 1.0,\n",
            "       1.0, 1.0, 1.0, 2.0, 1.0, 1.0, 2.0, 2.0, 1.0, 2.0, 2.0, 2.0, 2.0,\n",
            "       2.0, 2.0, 2.0, 2.0, 2.0, 2.0, 1.0, 1.0, 1.0, 0.0, 1.0, 1.0, 1.0,\n",
            "       0.0, 0.0, 0.0, 0.0, 0.0, 0.0, 0.0, 0.0, 0.0, 0.0, 2.0, 1.0, 2.0,\n",
            "       2.0, 3.0, 2.0, 1.0, 1.0, 1.0, 1.0, 2.0, 1.0, 1.0, 1.0, 1.0, 1.0,\n",
            "       1.0, 1.0, 1.0, 1.0, 1.0, 1.0, 1.0, 1.0, 1.0, 1.0, 1.0, 1.0, 1.0,\n",
            "       1.0, 2.0, 2.0, 2.0, 3.0, 1.0, 1.0, 1.0, 1.0, 1.0, 1.0, 1.0, 1.0,\n",
            "       1.0, 1.0, 1.0, 2.0, 2.0, 1.0, 4.0, 1.0, 1.0, 1.0, 1.0, 1.0, 2.0,\n",
            "       1.0, 3.0, 2.0, 1.0, 0.0, 0.0, 0.0, 0.0, 0.0, 0.0, 0.0, 0.0, 0.0,\n",
            "       0.0, 1.0, 1.0, 0.0, 0.0, 0.0, 0.0, 0.0, 0.0, 0.0, 0.0, 0.0, 0.0,\n",
            "       1.0, 1.0, 0.0, 0.0, 1.0, 0.0, 0.0, 0.0, 0.0, 0.0, 1.0, 0.0, 0.0,\n",
            "       1.0, 1.0, 0.0, 0.0, 0.0, 0.0, 0.0, 0.0, 0.0, 2.0, 1.0, 2.0, 2.0,\n",
            "       1.0, 1.0, 2.0, 1.0, 3.0, 7.0, 2.0, 2.0, 2.0, 2.0, 2.0, 2.0, 2.0,\n",
            "       2.0, 1.0, 1.0, 1.0, 1.0, 1.0, 1.0, 1.0, 1.0, 1.0, 1.0, 1.0, 2.0,\n",
            "       1.0, 1.0, 4.0, 1.0, 4.0, 1.0, 1.0, 2.0, 2.0, 3.0, 3.0, 2.0, 1.0,\n",
            "       1.0, 5.0, 5.0, 1.0, 1.0, 2.0, 12.0, 9.0, 2.0, 15.0, 2.0, 2.0, 5.0,\n",
            "       0.0, 2.0, 1.0, 0.0, 2.0, 1.0, 7.0, 1.0, 4.0, 4.0, 1.0],\n",
            "      dtype=object)\n"
          ]
        }
      ]
    },
    {
      "cell_type": "code",
      "source": [
        "shap.plots.bar(shap_test[:, :, 1], max_display=50)"
      ],
      "metadata": {
        "colab": {
          "base_uri": "https://localhost:8080/",
          "height": 1000
        },
        "id": "-FlX5S5ularT",
        "outputId": "20185384-55c3-4c6a-f357-fba583347dc8"
      },
      "execution_count": 16,
      "outputs": [
        {
          "output_type": "display_data",
          "data": {
            "text/plain": [
              "<Figure size 576x1908 with 1 Axes>"
            ],
            "image/png": "[encoded data removed]"
          },
          "metadata": {}
        }
      ]
    }
  ]
}