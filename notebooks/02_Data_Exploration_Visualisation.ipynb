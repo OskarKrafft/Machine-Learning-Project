{
  "cells": [
    {
      "cell_type": "markdown",
      "metadata": {
        "id": "view-in-github",
        "colab_type": "text"
      },
      "source": [
        "<a href=\"https://colab.research.google.com/github/OskarKrafft/Machine-Learning-Project/blob/main/notebooks/02_Data_Exploration_Visualisation.ipynb\" target=\"_parent\"><img src=\"https://colab.research.google.com/assets/colab-badge.svg\" alt=\"Open In Colab\"/></a>"
      ]
    },
    {
      "cell_type": "markdown",
      "metadata": {
        "id": "QqRsEHS_i-Aw"
      },
      "source": [
        "#Set up WD"
      ]
    },
    {
      "cell_type": "code",
      "execution_count": 3,
      "metadata": {
        "colab": {
          "base_uri": "https://localhost:8080/"
        },
        "id": "Qhtq_BtxilWa",
        "outputId": "14713f47-0683-4822-feea-54061ab20fb7"
      },
      "outputs": [
        {
          "output_type": "stream",
          "name": "stdout",
          "text": [
            "Drive already mounted at /content/drive; to attempt to forcibly remount, call drive.mount(\"/content/drive\", force_remount=True).\n"
          ]
        }
      ],
      "source": [
        "# Mount GDrive to facilitate data import\n",
        "from google.colab import drive\n",
        "drive.mount('/content/drive')"
      ]
    },
    {
      "cell_type": "code",
      "execution_count": 4,
      "metadata": {
        "colab": {
          "base_uri": "https://localhost:8080/"
        },
        "id": "zXfcXfhrjRam",
        "outputId": "da8412fd-68ae-4429-d180-75d0608711c8"
      },
      "outputs": [
        {
          "output_type": "stream",
          "name": "stdout",
          "text": [
            "/content/drive/MyDrive/Colab Notebooks/Machine-Learning-Project\n"
          ]
        }
      ],
      "source": [
        "# Change working directory to project folder\n",
        "%cd /content/drive/MyDrive/Colab Notebooks/Machine-Learning-Project"
      ]
    },
    {
      "cell_type": "markdown",
      "metadata": {
        "id": "Cvyf8FizjcDW"
      },
      "source": [
        "# Import data and set categoricals"
      ]
    },
    {
      "cell_type": "code",
      "execution_count": 6,
      "metadata": {
        "colab": {
          "base_uri": "https://localhost:8080/",
          "height": 419
        },
        "id": "APZ8NXiCjatS",
        "outputId": "8506673f-7b51-41a1-9a64-39528fddb377"
      },
      "outputs": [
        {
          "output_type": "execute_result",
          "data": {
            "text/plain": [
              "       q1.1  q1.2  q1.3  q1.4  q1.5  q1.6  q1.7  q1.8  q1.9  q1.10  ...  d43a  \\\n",
              "0       1.0   0.0   0.0   0.0   0.0   0.0   0.0   0.0   0.0    0.0  ...   2.0   \n",
              "1       0.0   0.0   0.0   1.0   0.0   0.0   0.0   0.0   0.0    0.0  ...   2.0   \n",
              "2       1.0   0.0   0.0   0.0   0.0   0.0   0.0   0.0   0.0    0.0  ...   2.0   \n",
              "3       0.0   0.0   0.0   0.0   0.0   0.0   0.0   0.0   0.0    0.0  ...   1.0   \n",
              "4       0.0   0.0   0.0   0.0   0.0   0.0   0.0   1.0   0.0    0.0  ...   2.0   \n",
              "...     ...   ...   ...   ...   ...   ...   ...   ...   ...    ...  ...   ...   \n",
              "27459   0.0   0.0   0.0   0.0   0.0   0.0   0.0   0.0   0.0    0.0  ...   2.0   \n",
              "27460   0.0   0.0   0.0   0.0   0.0   0.0   0.0   0.0   0.0    0.0  ...   2.0   \n",
              "27461   0.0   0.0   0.0   0.0   0.0   0.0   0.0   0.0   0.0    0.0  ...   1.0   \n",
              "27462   0.0   0.0   0.0   0.0   0.0   0.0   0.0   0.0   0.0    0.0  ...   2.0   \n",
              "27463   0.0   0.0   0.0   0.0   0.0   0.0   0.0   0.0   0.0    0.0  ...   2.0   \n",
              "\n",
              "       d43b  d46.8  d60  d62_1  d62_2  d63  d72_1  d72_2  d77  \n",
              "0       1.0    1.0  1.0    3.0    6.0  1.0    3.0    3.0  2.0  \n",
              "1       1.0    1.0  3.0    2.0    6.0  3.0    2.0    2.0  3.0  \n",
              "2       2.0    1.0  1.0    1.0    5.0  2.0    2.0    2.0  1.0  \n",
              "3       1.0    1.0  2.0    1.0    1.0  3.0    2.0    2.0  1.0  \n",
              "4       1.0    1.0  1.0    1.0    5.0  2.0    2.0    2.0  3.0  \n",
              "...     ...    ...  ...    ...    ...  ...    ...    ...  ...  \n",
              "27459   1.0    1.0  2.0    1.0    1.0  3.0    2.0    2.0  2.0  \n",
              "27460   1.0    1.0  2.0    1.0    1.0  3.0    2.0    2.0  2.0  \n",
              "27461   1.0    0.0  3.0    6.0    6.0  3.0    4.0    2.0  2.0  \n",
              "27462   1.0    1.0  2.0    6.0    6.0  4.0    2.0    2.0  2.0  \n",
              "27463   1.0    1.0  2.0    1.0    1.0  3.0    5.0    2.0  3.0  \n",
              "\n",
              "[27464 rows x 311 columns]"
            ],
            "text/html": [
              "\n",
              "  <div id=\"df-164b2276-152b-4697-8b45-9afbfe19da8e\">\n",
              "    <div class=\"colab-df-container\">\n",
              "      <div>\n",
              "<style scoped>\n",
              "    .dataframe tbody tr th:only-of-type {\n",
              "        vertical-align: middle;\n",
              "    }\n",
              "\n",
              "    .dataframe tbody tr th {\n",
              "        vertical-align: top;\n",
              "    }\n",
              "\n",
              "    .dataframe thead th {\n",
              "        text-align: right;\n",
              "    }\n",
              "</style>\n",
              "<table border=\"1\" class=\"dataframe\">\n",
              "  <thead>\n",
              "    <tr style=\"text-align: right;\">\n",
              "      <th></th>\n",
              "      <th>q1.1</th>\n",
              "      <th>q1.2</th>\n",
              "      <th>q1.3</th>\n",
              "      <th>q1.4</th>\n",
              "      <th>q1.5</th>\n",
              "      <th>q1.6</th>\n",
              "      <th>q1.7</th>\n",
              "      <th>q1.8</th>\n",
              "      <th>q1.9</th>\n",
              "      <th>q1.10</th>\n",
              "      <th>...</th>\n",
              "      <th>d43a</th>\n",
              "      <th>d43b</th>\n",
              "      <th>d46.8</th>\n",
              "      <th>d60</th>\n",
              "      <th>d62_1</th>\n",
              "      <th>d62_2</th>\n",
              "      <th>d63</th>\n",
              "      <th>d72_1</th>\n",
              "      <th>d72_2</th>\n",
              "      <th>d77</th>\n",
              "    </tr>\n",
              "  </thead>\n",
              "  <tbody>\n",
              "    <tr>\n",
              "      <th>0</th>\n",
              "      <td>1.0</td>\n",
              "      <td>0.0</td>\n",
              "      <td>0.0</td>\n",
              "      <td>0.0</td>\n",
              "      <td>0.0</td>\n",
              "      <td>0.0</td>\n",
              "      <td>0.0</td>\n",
              "      <td>0.0</td>\n",
              "      <td>0.0</td>\n",
              "      <td>0.0</td>\n",
              "      <td>...</td>\n",
              "      <td>2.0</td>\n",
              "      <td>1.0</td>\n",
              "      <td>1.0</td>\n",
              "      <td>1.0</td>\n",
              "      <td>3.0</td>\n",
              "      <td>6.0</td>\n",
              "      <td>1.0</td>\n",
              "      <td>3.0</td>\n",
              "      <td>3.0</td>\n",
              "      <td>2.0</td>\n",
              "    </tr>\n",
              "    <tr>\n",
              "      <th>1</th>\n",
              "      <td>0.0</td>\n",
              "      <td>0.0</td>\n",
              "      <td>0.0</td>\n",
              "      <td>1.0</td>\n",
              "      <td>0.0</td>\n",
              "      <td>0.0</td>\n",
              "      <td>0.0</td>\n",
              "      <td>0.0</td>\n",
              "      <td>0.0</td>\n",
              "      <td>0.0</td>\n",
              "      <td>...</td>\n",
              "      <td>2.0</td>\n",
              "      <td>1.0</td>\n",
              "      <td>1.0</td>\n",
              "      <td>3.0</td>\n",
              "      <td>2.0</td>\n",
              "      <td>6.0</td>\n",
              "      <td>3.0</td>\n",
              "      <td>2.0</td>\n",
              "      <td>2.0</td>\n",
              "      <td>3.0</td>\n",
              "    </tr>\n",
              "    <tr>\n",
              "      <th>2</th>\n",
              "      <td>1.0</td>\n",
              "      <td>0.0</td>\n",
              "      <td>0.0</td>\n",
              "      <td>0.0</td>\n",
              "      <td>0.0</td>\n",
              "      <td>0.0</td>\n",
              "      <td>0.0</td>\n",
              "      <td>0.0</td>\n",
              "      <td>0.0</td>\n",
              "      <td>0.0</td>\n",
              "      <td>...</td>\n",
              "      <td>2.0</td>\n",
              "      <td>2.0</td>\n",
              "      <td>1.0</td>\n",
              "      <td>1.0</td>\n",
              "      <td>1.0</td>\n",
              "      <td>5.0</td>\n",
              "      <td>2.0</td>\n",
              "      <td>2.0</td>\n",
              "      <td>2.0</td>\n",
              "      <td>1.0</td>\n",
              "    </tr>\n",
              "    <tr>\n",
              "      <th>3</th>\n",
              "      <td>0.0</td>\n",
              "      <td>0.0</td>\n",
              "      <td>0.0</td>\n",
              "      <td>0.0</td>\n",
              "      <td>0.0</td>\n",
              "      <td>0.0</td>\n",
              "      <td>0.0</td>\n",
              "      <td>0.0</td>\n",
              "      <td>0.0</td>\n",
              "      <td>0.0</td>\n",
              "      <td>...</td>\n",
              "      <td>1.0</td>\n",
              "      <td>1.0</td>\n",
              "      <td>1.0</td>\n",
              "      <td>2.0</td>\n",
              "      <td>1.0</td>\n",
              "      <td>1.0</td>\n",
              "      <td>3.0</td>\n",
              "      <td>2.0</td>\n",
              "      <td>2.0</td>\n",
              "      <td>1.0</td>\n",
              "    </tr>\n",
              "    <tr>\n",
              "      <th>4</th>\n",
              "      <td>0.0</td>\n",
              "      <td>0.0</td>\n",
              "      <td>0.0</td>\n",
              "      <td>0.0</td>\n",
              "      <td>0.0</td>\n",
              "      <td>0.0</td>\n",
              "      <td>0.0</td>\n",
              "      <td>1.0</td>\n",
              "      <td>0.0</td>\n",
              "      <td>0.0</td>\n",
              "      <td>...</td>\n",
              "      <td>2.0</td>\n",
              "      <td>1.0</td>\n",
              "      <td>1.0</td>\n",
              "      <td>1.0</td>\n",
              "      <td>1.0</td>\n",
              "      <td>5.0</td>\n",
              "      <td>2.0</td>\n",
              "      <td>2.0</td>\n",
              "      <td>2.0</td>\n",
              "      <td>3.0</td>\n",
              "    </tr>\n",
              "    <tr>\n",
              "      <th>...</th>\n",
              "      <td>...</td>\n",
              "      <td>...</td>\n",
              "      <td>...</td>\n",
              "      <td>...</td>\n",
              "      <td>...</td>\n",
              "      <td>...</td>\n",
              "      <td>...</td>\n",
              "      <td>...</td>\n",
              "      <td>...</td>\n",
              "      <td>...</td>\n",
              "      <td>...</td>\n",
              "      <td>...</td>\n",
              "      <td>...</td>\n",
              "      <td>...</td>\n",
              "      <td>...</td>\n",
              "      <td>...</td>\n",
              "      <td>...</td>\n",
              "      <td>...</td>\n",
              "      <td>...</td>\n",
              "      <td>...</td>\n",
              "      <td>...</td>\n",
              "    </tr>\n",
              "    <tr>\n",
              "      <th>27459</th>\n",
              "      <td>0.0</td>\n",
              "      <td>0.0</td>\n",
              "      <td>0.0</td>\n",
              "      <td>0.0</td>\n",
              "      <td>0.0</td>\n",
              "      <td>0.0</td>\n",
              "      <td>0.0</td>\n",
              "      <td>0.0</td>\n",
              "      <td>0.0</td>\n",
              "      <td>0.0</td>\n",
              "      <td>...</td>\n",
              "      <td>2.0</td>\n",
              "      <td>1.0</td>\n",
              "      <td>1.0</td>\n",
              "      <td>2.0</td>\n",
              "      <td>1.0</td>\n",
              "      <td>1.0</td>\n",
              "      <td>3.0</td>\n",
              "      <td>2.0</td>\n",
              "      <td>2.0</td>\n",
              "      <td>2.0</td>\n",
              "    </tr>\n",
              "    <tr>\n",
              "      <th>27460</th>\n",
              "      <td>0.0</td>\n",
              "      <td>0.0</td>\n",
              "      <td>0.0</td>\n",
              "      <td>0.0</td>\n",
              "      <td>0.0</td>\n",
              "      <td>0.0</td>\n",
              "      <td>0.0</td>\n",
              "      <td>0.0</td>\n",
              "      <td>0.0</td>\n",
              "      <td>0.0</td>\n",
              "      <td>...</td>\n",
              "      <td>2.0</td>\n",
              "      <td>1.0</td>\n",
              "      <td>1.0</td>\n",
              "      <td>2.0</td>\n",
              "      <td>1.0</td>\n",
              "      <td>1.0</td>\n",
              "      <td>3.0</td>\n",
              "      <td>2.0</td>\n",
              "      <td>2.0</td>\n",
              "      <td>2.0</td>\n",
              "    </tr>\n",
              "    <tr>\n",
              "      <th>27461</th>\n",
              "      <td>0.0</td>\n",
              "      <td>0.0</td>\n",
              "      <td>0.0</td>\n",
              "      <td>0.0</td>\n",
              "      <td>0.0</td>\n",
              "      <td>0.0</td>\n",
              "      <td>0.0</td>\n",
              "      <td>0.0</td>\n",
              "      <td>0.0</td>\n",
              "      <td>0.0</td>\n",
              "      <td>...</td>\n",
              "      <td>1.0</td>\n",
              "      <td>1.0</td>\n",
              "      <td>0.0</td>\n",
              "      <td>3.0</td>\n",
              "      <td>6.0</td>\n",
              "      <td>6.0</td>\n",
              "      <td>3.0</td>\n",
              "      <td>4.0</td>\n",
              "      <td>2.0</td>\n",
              "      <td>2.0</td>\n",
              "    </tr>\n",
              "    <tr>\n",
              "      <th>27462</th>\n",
              "      <td>0.0</td>\n",
              "      <td>0.0</td>\n",
              "      <td>0.0</td>\n",
              "      <td>0.0</td>\n",
              "      <td>0.0</td>\n",
              "      <td>0.0</td>\n",
              "      <td>0.0</td>\n",
              "      <td>0.0</td>\n",
              "      <td>0.0</td>\n",
              "      <td>0.0</td>\n",
              "      <td>...</td>\n",
              "      <td>2.0</td>\n",
              "      <td>1.0</td>\n",
              "      <td>1.0</td>\n",
              "      <td>2.0</td>\n",
              "      <td>6.0</td>\n",
              "      <td>6.0</td>\n",
              "      <td>4.0</td>\n",
              "      <td>2.0</td>\n",
              "      <td>2.0</td>\n",
              "      <td>2.0</td>\n",
              "    </tr>\n",
              "    <tr>\n",
              "      <th>27463</th>\n",
              "      <td>0.0</td>\n",
              "      <td>0.0</td>\n",
              "      <td>0.0</td>\n",
              "      <td>0.0</td>\n",
              "      <td>0.0</td>\n",
              "      <td>0.0</td>\n",
              "      <td>0.0</td>\n",
              "      <td>0.0</td>\n",
              "      <td>0.0</td>\n",
              "      <td>0.0</td>\n",
              "      <td>...</td>\n",
              "      <td>2.0</td>\n",
              "      <td>1.0</td>\n",
              "      <td>1.0</td>\n",
              "      <td>2.0</td>\n",
              "      <td>1.0</td>\n",
              "      <td>1.0</td>\n",
              "      <td>3.0</td>\n",
              "      <td>5.0</td>\n",
              "      <td>2.0</td>\n",
              "      <td>3.0</td>\n",
              "    </tr>\n",
              "  </tbody>\n",
              "</table>\n",
              "<p>27464 rows × 311 columns</p>\n",
              "</div>\n",
              "      <button class=\"colab-df-convert\" onclick=\"convertToInteractive('df-164b2276-152b-4697-8b45-9afbfe19da8e')\"\n",
              "              title=\"Convert this dataframe to an interactive table.\"\n",
              "              style=\"display:none;\">\n",
              "        \n",
              "  <svg xmlns=\"http://www.w3.org/2000/svg\" height=\"24px\"viewBox=\"0 0 24 24\"\n",
              "       width=\"24px\">\n",
              "    <path d=\"M0 0h24v24H0V0z\" fill=\"none\"/>\n",
              "    <path d=\"M18.56 5.44l.94 2.06.94-2.06 2.06-.94-2.06-.94-.94-2.06-.94 2.06-2.06.94zm-11 1L8.5 8.5l.94-2.06 2.06-.94-2.06-.94L8.5 2.5l-.94 2.06-2.06.94zm10 10l.94 2.06.94-2.06 2.06-.94-2.06-.94-.94-2.06-.94 2.06-2.06.94z\"/><path d=\"M17.41 7.96l-1.37-1.37c-.4-.4-.92-.59-1.43-.59-.52 0-1.04.2-1.43.59L10.3 9.45l-7.72 7.72c-.78.78-.78 2.05 0 2.83L4 21.41c.39.39.9.59 1.41.59.51 0 1.02-.2 1.41-.59l7.78-7.78 2.81-2.81c.8-.78.8-2.07 0-2.86zM5.41 20L4 18.59l7.72-7.72 1.47 1.35L5.41 20z\"/>\n",
              "  </svg>\n",
              "      </button>\n",
              "      \n",
              "  <style>\n",
              "    .colab-df-container {\n",
              "      display:flex;\n",
              "      flex-wrap:wrap;\n",
              "      gap: 12px;\n",
              "    }\n",
              "\n",
              "    .colab-df-convert {\n",
              "      background-color: #E8F0FE;\n",
              "      border: none;\n",
              "      border-radius: 50%;\n",
              "      cursor: pointer;\n",
              "      display: none;\n",
              "      fill: #1967D2;\n",
              "      height: 32px;\n",
              "      padding: 0 0 0 0;\n",
              "      width: 32px;\n",
              "    }\n",
              "\n",
              "    .colab-df-convert:hover {\n",
              "      background-color: #E2EBFA;\n",
              "      box-shadow: 0px 1px 2px rgba(60, 64, 67, 0.3), 0px 1px 3px 1px rgba(60, 64, 67, 0.15);\n",
              "      fill: #174EA6;\n",
              "    }\n",
              "\n",
              "    [theme=dark] .colab-df-convert {\n",
              "      background-color: #3B4455;\n",
              "      fill: #D2E3FC;\n",
              "    }\n",
              "\n",
              "    [theme=dark] .colab-df-convert:hover {\n",
              "      background-color: #434B5C;\n",
              "      box-shadow: 0px 1px 3px 1px rgba(0, 0, 0, 0.15);\n",
              "      filter: drop-shadow(0px 1px 2px rgba(0, 0, 0, 0.3));\n",
              "      fill: #FFFFFF;\n",
              "    }\n",
              "  </style>\n",
              "\n",
              "      <script>\n",
              "        const buttonEl =\n",
              "          document.querySelector('#df-164b2276-152b-4697-8b45-9afbfe19da8e button.colab-df-convert');\n",
              "        buttonEl.style.display =\n",
              "          google.colab.kernel.accessAllowed ? 'block' : 'none';\n",
              "\n",
              "        async function convertToInteractive(key) {\n",
              "          const element = document.querySelector('#df-164b2276-152b-4697-8b45-9afbfe19da8e');\n",
              "          const dataTable =\n",
              "            await google.colab.kernel.invokeFunction('convertToInteractive',\n",
              "                                                     [key], {});\n",
              "          if (!dataTable) return;\n",
              "\n",
              "          const docLinkHtml = 'Like what you see? Visit the ' +\n",
              "            '<a target=\"_blank\" href=https://colab.research.google.com/notebooks/data_table.ipynb>data table notebook</a>'\n",
              "            + ' to learn more about interactive tables.';\n",
              "          element.innerHTML = '';\n",
              "          dataTable['output_type'] = 'display_data';\n",
              "          await google.colab.output.renderOutput(dataTable, element);\n",
              "          const docLink = document.createElement('div');\n",
              "          docLink.innerHTML = docLinkHtml;\n",
              "          element.appendChild(docLink);\n",
              "        }\n",
              "      </script>\n",
              "    </div>\n",
              "  </div>\n",
              "  "
            ]
          },
          "metadata": {},
          "execution_count": 6
        }
      ],
      "source": [
        "# Importing the data\n",
        "\n",
        "import pandas as pd\n",
        "eppes_cleaned = pd.read_csv('./data/processed/eppes_cleaned.csv')\n",
        "eppes_cleaned = eppes_cleaned.drop(eppes_cleaned.columns[0], axis = 1)\n",
        "eppes_cleaned"
      ]
    },
    {
      "cell_type": "code",
      "execution_count": 7,
      "metadata": {
        "colab": {
          "base_uri": "https://localhost:8080/"
        },
        "id": "UFkDOs8aj76K",
        "outputId": "bf344d8f-cd36-44ac-f985-40e2a3a6f350"
      },
      "outputs": [
        {
          "output_type": "execute_result",
          "data": {
            "text/plain": [
              "float64    311\n",
              "dtype: int64"
            ]
          },
          "metadata": {},
          "execution_count": 7
        }
      ],
      "source": [
        "eppes_cleaned.dtypes.value_counts()"
      ]
    },
    {
      "cell_type": "code",
      "execution_count": 9,
      "metadata": {
        "id": "5l2jI6Z9j9mv"
      },
      "outputs": [],
      "source": [
        "# Import Excel sheet containing column indeces to be dropped\n",
        "\n",
        "columns_analysis = pd.read_excel(r'./data/interim/Drop_Columns_categorical.xlsx')\n",
        "columns_analysis = columns_analysis.drop(columns_analysis.columns[[0]], axis = 1)"
      ]
    },
    {
      "cell_type": "code",
      "execution_count": 10,
      "metadata": {
        "id": "CN9yZvjSj_Ou"
      },
      "outputs": [],
      "source": [
        "# Create list of names of categorical columns \n",
        "\n",
        "col_names_categorical = []\n",
        "\n",
        "for i in range(872):\n",
        "  if columns_analysis.iloc[i, 3] == 'categorical':\n",
        "    col_names_categorical.append(columns_analysis.iloc[i, 1])"
      ]
    },
    {
      "cell_type": "code",
      "execution_count": 11,
      "metadata": {
        "colab": {
          "base_uri": "https://localhost:8080/"
        },
        "id": "PG0viUSAkBhw",
        "outputId": "3872244c-8185-468d-be30-901f2dc14d3d"
      },
      "outputs": [
        {
          "output_type": "execute_result",
          "data": {
            "text/plain": [
              "object     167\n",
              "float64    144\n",
              "dtype: int64"
            ]
          },
          "metadata": {},
          "execution_count": 11
        }
      ],
      "source": [
        "# Change datatype of categorical variables to object\n",
        "\n",
        "eppes_cleaned[col_names_categorical] = eppes_cleaned[col_names_categorical].astype('object')\n",
        "\n",
        "eppes_cleaned.dtypes.value_counts()"
      ]
    },
    {
      "cell_type": "markdown",
      "metadata": {
        "id": "1kGvHxH2kJwC"
      },
      "source": [
        "# Data Exploration and Visualisation"
      ]
    },
    {
      "cell_type": "code",
      "execution_count": 12,
      "metadata": {
        "id": "yr81DZ-KkhIY"
      },
      "outputs": [],
      "source": [
        "import seaborn as sns\n",
        "from matplotlib import rcParams"
      ]
    },
    {
      "cell_type": "markdown",
      "metadata": {
        "id": "6WrMDHT3vLl0"
      },
      "source": [
        "## Simple count statistics"
      ]
    },
    {
      "cell_type": "code",
      "execution_count": 13,
      "metadata": {
        "colab": {
          "base_uri": "https://localhost:8080/"
        },
        "id": "ATUNtqUcLUBZ",
        "outputId": "6cf05d5f-dafa-4266-9dbf-ce65909347a2"
      },
      "outputs": [
        {
          "output_type": "execute_result",
          "data": {
            "text/plain": [
              "1.0    0.546461\n",
              "2.0    0.453539\n",
              "Name: qg1, dtype: float64"
            ]
          },
          "metadata": {},
          "execution_count": 13
        }
      ],
      "source": [
        "# voting behavior percentages\n",
        "eppes_cleaned[\"qg1\"].value_counts(normalize = True)"
      ]
    },
    {
      "cell_type": "code",
      "execution_count": 62,
      "metadata": {
        "colab": {
          "base_uri": "https://localhost:8080/",
          "height": 309
        },
        "id": "AHa_FFAnnb0t",
        "outputId": "e23bd0f2-8e55-44f6-c773-c7fee8835682"
      },
      "outputs": [
        {
          "output_type": "display_data",
          "data": {
            "text/plain": [
              "<Figure size 360x324 with 1 Axes>"
            ],
            "image/png": "[encoded data removed]"
          },
          "metadata": {
            "needs_background": "light"
          }
        }
      ],
      "source": [
        "# voting behavior total count with percentages\n",
        "\n",
        "rcParams['figure.figsize'] = 5,4.5\n",
        "\n",
        "countplot = sns.countplot(data = eppes_cleaned, x = \"qg1\", order=eppes_cleaned[\"qg1\"].value_counts(ascending=False).index, palette='PuBuGn_r')\n",
        "countplot.set(xlabel='', ylabel='count')\n",
        "countplot.set(xticklabels=[\"voted\", \"did not vote\"])\n",
        "countplot.set(title='Voting behavior (total = 27464)')\n",
        "countplot.set(ylim=(0, 17000))\n",
        "\n",
        "percentage = [54.6, 45.3]\n",
        "\n",
        "patches = countplot.patches\n",
        "for i in range(len(patches)):\n",
        "   x = patches[i].get_x() + patches[i].get_width()/2\n",
        "   y = patches[i].get_height()+200\n",
        "   countplot.annotate('{:.1f}%'.format(percentage[i]), (x, y), ha='center')"
      ]
    },
    {
      "cell_type": "code",
      "execution_count": 15,
      "metadata": {
        "colab": {
          "base_uri": "https://localhost:8080/"
        },
        "id": "xy0mLAArIMlV",
        "outputId": "1f10955e-5af7-44b6-8d68-348d1d88b496"
      },
      "outputs": [
        {
          "output_type": "execute_result",
          "data": {
            "text/plain": [
              "3.0    0.472692\n",
              "1.0    0.264419\n",
              "2.0    0.148194\n",
              "4.0    0.068126\n",
              "9.0    0.022284\n",
              "7.0    0.009758\n",
              "5.0    0.006918\n",
              "8.0    0.005680\n",
              "6.0    0.001930\n",
              "Name: d63, dtype: float64"
            ]
          },
          "metadata": {},
          "execution_count": 15
        }
      ],
      "source": [
        "# class affiliation percentages\n",
        "\n",
        "eppes_cleaned[\"d63\"].value_counts(normalize = True)"
      ]
    },
    {
      "cell_type": "code",
      "execution_count": 23,
      "metadata": {
        "colab": {
          "base_uri": "https://localhost:8080/",
          "height": 309
        },
        "id": "xGOTz2savKhS",
        "outputId": "6fa487eb-264e-48e9-fb22-348254b1b344"
      },
      "outputs": [
        {
          "output_type": "display_data",
          "data": {
            "text/plain": [
              "<Figure size 720x324 with 1 Axes>"
            ],
            "image/png": "[encoded data removed]"
          },
          "metadata": {
            "needs_background": "light"
          }
        }
      ],
      "source": [
        "# class affiliation totals with percentages\n",
        "\n",
        "from matplotlib import rcParams\n",
        "\n",
        "# figure size in inches\n",
        "rcParams['figure.figsize'] = 10, 4.5\n",
        "\n",
        "countplot = sns.countplot(data = eppes_cleaned, x = \"d63\", palette='PuBuGn_r')\n",
        "countplot.set(xlabel='', ylabel='count')\n",
        "countplot.set(xticklabels=[\"working\", \"lower middle\", \"middle\", \"upper middle\", \"higher\", \"other\", \"none\", \"refusal\", \"DK\"])\n",
        "countplot.set(title='Class affiliation (total = 27464)')\n",
        "countplot.set(ylim=(0, 14500))\n",
        "\n",
        "percentage = [26.4, 14.8, 47.3, 6.8, 0.7, 0.2, 1.0, 0.6, 2.2]\n",
        "patches = countplot.patches\n",
        "for i in range(len(patches)):\n",
        "   x = patches[i].get_x() + patches[i].get_width()/2\n",
        "   y = patches[i].get_height()+150\n",
        "   countplot.annotate('{:.1f}%'.format(percentage[i]), (x, y), ha='center')"
      ]
    },
    {
      "cell_type": "code",
      "execution_count": 17,
      "metadata": {
        "colab": {
          "base_uri": "https://localhost:8080/"
        },
        "id": "ALTD6XZuMQdu",
        "outputId": "9f03a0c6-f4f7-4eab-ab7e-cd1b21869a04"
      },
      "outputs": [
        {
          "output_type": "execute_result",
          "data": {
            "text/plain": [
              "2.0    0.54231\n",
              "1.0    0.45769\n",
              "Name: d10, dtype: float64"
            ]
          },
          "metadata": {},
          "execution_count": 17
        }
      ],
      "source": [
        "# gender percentages (man = 1, woman = 2)\n",
        "\n",
        "eppes_cleaned[\"d10\"].value_counts(normalize = True)"
      ]
    },
    {
      "cell_type": "code",
      "execution_count": 25,
      "metadata": {
        "colab": {
          "base_uri": "https://localhost:8080/",
          "height": 309
        },
        "id": "jMe3lagbv8YQ",
        "outputId": "74941233-cdf0-4f95-eb70-fcd28a1d6e8c"
      },
      "outputs": [
        {
          "output_type": "display_data",
          "data": {
            "text/plain": [
              "<Figure size 360x324 with 1 Axes>"
            ],
            "image/png": "[encoded data removed]"
          },
          "metadata": {
            "needs_background": "light"
          }
        }
      ],
      "source": [
        "# gender total\n",
        "rcParams['figure.figsize'] = 5, 4.5\n",
        "\n",
        "countplot = sns.countplot(data = eppes_cleaned, x = \"d10\", order=[1.0, 2.0], palette='PuBuGn_r')\n",
        "countplot.set(xlabel='', ylabel='count')\n",
        "countplot.set(xticklabels=[\"man\", \"woman\"])\n",
        "countplot.set(title='Gender (total = 27464)')\n",
        "countplot.set(ylim=(0, 17000))\n",
        "\n",
        "percentage = [45.8, 54.2]\n",
        "\n",
        "patches = countplot.patches\n",
        "for i in range(len(patches)):\n",
        "   x = patches[i].get_x() + patches[i].get_width()/2\n",
        "   y = patches[i].get_height()+300\n",
        "   countplot.annotate('{:.1f}%'.format(percentage[i]), (x, y), ha='center')"
      ]
    },
    {
      "cell_type": "markdown",
      "metadata": {
        "id": "UA6OdMwtM1Vk"
      },
      "source": [
        "## Voting Behavior distributions"
      ]
    },
    {
      "cell_type": "markdown",
      "metadata": {
        "id": "sW_EMVHzggk5"
      },
      "source": [
        "### Age"
      ]
    },
    {
      "cell_type": "code",
      "execution_count": 32,
      "metadata": {
        "colab": {
          "base_uri": "https://localhost:8080/",
          "height": 324
        },
        "id": "sZDzxcoelOFa",
        "outputId": "83f21ca7-4b09-4753-af9b-742a3e8d331c"
      },
      "outputs": [
        {
          "output_type": "display_data",
          "data": {
            "text/plain": [
              "<Figure size 352.8x288 with 1 Axes>"
            ],
            "image/png": "[encoded data removed]"
          },
          "metadata": {
            "needs_background": "light"
          }
        }
      ],
      "source": [
        "# voting behavior and age\n",
        "\n",
        "catplot = sns.catplot(data=eppes_cleaned, x=\"qg1\", y=\"d11\", kind=\"box\", palette='PuBuGn_r')\n",
        "catplot.set(xlabel='voting behavior', ylabel='age')\n",
        "catplot.set(xticklabels=[\"voted\", \"did not vote\"])\n",
        "catplot.set(title='Voting behavior by age')\n",
        "\n",
        "catplot.fig.set_size_inches(4.9 ,4)"
      ]
    },
    {
      "cell_type": "markdown",
      "metadata": {
        "id": "EODZPBcggi9K"
      },
      "source": [
        "### Gender"
      ]
    },
    {
      "cell_type": "code",
      "execution_count": 61,
      "metadata": {
        "colab": {
          "base_uri": "https://localhost:8080/",
          "height": 309
        },
        "id": "Uw7-bka7NNV_",
        "outputId": "16638c7d-5337-4c32-f9d1-a184785262a1"
      },
      "outputs": [
        {
          "output_type": "display_data",
          "data": {
            "text/plain": [
              "<Figure size 360x324 with 1 Axes>"
            ],
            "image/png": "[encoded data removed]"
          },
          "metadata": {
            "needs_background": "light"
          }
        }
      ],
      "source": [
        "# voting behavior by gender total\n",
        "\n",
        "rcParams['figure.figsize'] = 5, 4.5\n",
        "\n",
        "countplot = sns.countplot(data = eppes_cleaned, x = \"qg1\", hue = \"d10\", order=eppes_cleaned[\"qg1\"].value_counts(ascending=False).index, palette='PuBuGn_r')\n",
        "countplot.set(xlabel='', ylabel='count')\n",
        "countplot.set(xticklabels=[\"voted\", \"did not vote\"])\n",
        "countplot.set(title='Voting behavior by gender (total = 27464)')\n",
        "countplot.set(ylim=(0, 10000))\n",
        "\n",
        "countplot.legend(title='gender', loc='upper right', labels=['man', 'woman'])\n",
        "\n",
        "percentage = [46.9, 44.4, 53.1, 55.6]\n",
        "\n",
        "patches = countplot.patches\n",
        "for i in range(len(patches)):\n",
        "   x = patches[i].get_x() + patches[i].get_width()/2\n",
        "   y = patches[i].get_height()+100\n",
        "   countplot.annotate('{:.1f}%'.format(percentage[i]), (x, y), ha='center')"
      ]
    },
    {
      "cell_type": "code",
      "execution_count": 35,
      "metadata": {
        "colab": {
          "base_uri": "https://localhost:8080/"
        },
        "id": "WXic9hfhUD2N",
        "outputId": "8c2a6474-a4e1-44a2-fd2f-24a7d43e75dc"
      },
      "outputs": [
        {
          "output_type": "stream",
          "name": "stdout",
          "text": [
            "   qg1    d10    percent\n",
            "1  1.0    man  46.914979\n",
            "0  1.0  woman  53.085021\n",
            "3  2.0    man  44.388247\n",
            "2  2.0  woman  55.611753\n"
          ]
        }
      ],
      "source": [
        "vote_by_gender = eppes_cleaned[\"d10\"].groupby(eppes_cleaned[\"qg1\"]).value_counts(normalize=True).rename('percent').reset_index()\n",
        "vote_by_gender[\"percent\"] = vote_by_gender[\"percent\"].mul(100)\n",
        "\n",
        "vote_by_gender.loc[(vote_by_gender['d10'] == 1), 'd10'] = 'man'\n",
        "vote_by_gender.loc[(vote_by_gender['d10'] == 2), 'd10'] = 'woman'\n",
        "vote_by_gender = vote_by_gender.sort_values(by=['qg1', 'd10'], ascending = True)\n",
        "print(vote_by_gender)"
      ]
    },
    {
      "cell_type": "code",
      "execution_count": 36,
      "metadata": {
        "colab": {
          "base_uri": "https://localhost:8080/",
          "height": 309
        },
        "id": "LTJaZWj7cuAz",
        "outputId": "7e26a1ce-4bd2-4697-ce5c-b6caf7ec7e16"
      },
      "outputs": [
        {
          "output_type": "display_data",
          "data": {
            "text/plain": [
              "<Figure size 360x324 with 1 Axes>"
            ],
            "image/png": "[encoded data removed]"
          },
          "metadata": {
            "needs_background": "light"
          }
        }
      ],
      "source": [
        "# voting behavior by gender percent\n",
        "\n",
        "rcParams['figure.figsize'] = 5, 4.5\n",
        "\n",
        "barplot = sns.barplot(data = vote_by_gender, x = \"qg1\", y = \"percent\", hue = \"d10\", palette='PuBuGn_r')\n",
        "barplot.set(xlabel='')\n",
        "barplot.set(xticklabels=[\"voted\", \"did not vote\"])\n",
        "barplot.set(title='Voting behavior by gender (%)')\n",
        "barplot.set(ylim=(0, 100))\n",
        "\n",
        "barplot.legend(title='gender')\n",
        "\n",
        "percentage = [46.9, 44.4, 53.1, 55.6]\n",
        "\n",
        "patches = barplot.patches\n",
        "for i in range(len(patches)):\n",
        "   x = patches[i].get_x() + patches[i].get_width()/2\n",
        "   y = patches[i].get_height()+1\n",
        "   barplot.annotate('{:.1f}%'.format(percentage[i]), (x, y), ha='center')"
      ]
    },
    {
      "cell_type": "code",
      "execution_count": 37,
      "metadata": {
        "colab": {
          "base_uri": "https://localhost:8080/"
        },
        "id": "Is_2D_5UxksR",
        "outputId": "93ab62a8-6879-4254-a23c-1b9ef02b60a2"
      },
      "outputs": [
        {
          "output_type": "stream",
          "name": "stdout",
          "text": [
            "   d10  qg1    percent\n",
            "0  1.0  1.0  56.014320\n",
            "2  2.0  1.0  53.491339\n"
          ]
        }
      ],
      "source": [
        "# Voting frequency by gender\n",
        "\n",
        "gender_voted = eppes_cleaned[\"qg1\"].groupby(eppes_cleaned[\"d10\"]).value_counts(normalize=True).rename('percent').reset_index()\n",
        "gender_voted[\"percent\"] = gender_voted[\"percent\"].mul(100)\n",
        "\n",
        "gender_voted = gender_voted.sort_values(by=['qg1'], ascending = True).iloc[0:2,0:3]\n",
        "\n",
        "print(gender_voted)"
      ]
    },
    {
      "cell_type": "code",
      "execution_count": 63,
      "metadata": {
        "colab": {
          "base_uri": "https://localhost:8080/",
          "height": 309
        },
        "id": "dZQGsw6Ux9wf",
        "outputId": "6fef085f-9695-43b4-a738-a85383e26cb3"
      },
      "outputs": [
        {
          "output_type": "display_data",
          "data": {
            "text/plain": [
              "<Figure size 360x324 with 1 Axes>"
            ],
            "image/png": "[encoded data removed]"
          },
          "metadata": {
            "needs_background": "light"
          }
        }
      ],
      "source": [
        "# Voting frequency by gender (percent) full scale\n",
        "\n",
        "rcParams['figure.figsize'] = 5,4.5\n",
        "\n",
        "barplot = sns.barplot(data = gender_voted, x = \"d10\", y = \"percent\", palette='PuBuGn_r')\n",
        "barplot.set(xlabel='')\n",
        "barplot.set(xticklabels=[\"man\", \"woman\"])\n",
        "barplot.set(title='Voting frequency by gender (%)')\n",
        "barplot.set(ylim=(0, 100))\n",
        "\n",
        "percentage = [56.0, 53.5]\n",
        "\n",
        "patches = barplot.patches\n",
        "for i in range(len(patches)):\n",
        "   x = patches[i].get_x() + patches[i].get_width()/2\n",
        "   y = patches[i].get_height()+1\n",
        "   barplot.annotate('{:.1f}%'.format(percentage[i]), (x, y), ha='center')"
      ]
    },
    {
      "cell_type": "code",
      "source": [
        "# Voting frequency by gender (percent) scaled and with average line\n",
        "\n",
        "rcParams['figure.figsize'] = 5,4.5\n",
        "\n",
        "barplot = sns.barplot(data = gender_voted, x = \"d10\", y = \"percent\", palette='PuBuGn_r')\n",
        "barplot.set(xlabel='')\n",
        "barplot.set(xticklabels=[\"man\", \"woman\"])\n",
        "barplot.set(title='Voting frequency by gender (%)')\n",
        "barplot.set(ylim=(50, 60))\n",
        "barplot.axhline(54.6)\n",
        "barplot.text(0.87, 54.8, \"Average\", horizontalalignment='left', size='medium', color='black', weight='normal')\n",
        "\n",
        "percentage = [56.0, 53.5]\n",
        "\n",
        "patches = barplot.patches\n",
        "for i in range(len(patches)):\n",
        "   x = patches[i].get_x() + patches[i].get_width()/2\n",
        "   y = patches[i].get_height()+0.1\n",
        "   barplot.annotate('{:.1f}%'.format(percentage[i]), (x, y), ha='center')"
      ],
      "metadata": {
        "id": "33wPan94oxTN",
        "outputId": "2ef46313-e246-4eb2-ea1b-b96d1874c06e",
        "colab": {
          "base_uri": "https://localhost:8080/",
          "height": 309
        }
      },
      "execution_count": 60,
      "outputs": [
        {
          "output_type": "display_data",
          "data": {
            "text/plain": [
              "<Figure size 360x324 with 1 Axes>"
            ],
            "image/png": "[encoded data removed]"
          },
          "metadata": {
            "needs_background": "light"
          }
        }
      ]
    },
    {
      "cell_type": "markdown",
      "metadata": {
        "id": "Vd4e8MJf0PIF"
      },
      "source": [
        "### Class affiliation"
      ]
    },
    {
      "cell_type": "code",
      "execution_count": 65,
      "metadata": {
        "colab": {
          "base_uri": "https://localhost:8080/"
        },
        "id": "pq6Hl9So0TN6",
        "outputId": "9b55d8df-d4d7-46d6-9b71-580620b0d76f"
      },
      "outputs": [
        {
          "output_type": "stream",
          "name": "stdout",
          "text": [
            "    d63  qg1    percent\n",
            "1   1.0  1.0  45.593500\n",
            "2   2.0  1.0  51.326781\n",
            "4   3.0  1.0  59.651826\n",
            "6   4.0  1.0  72.100481\n",
            "8   5.0  1.0  68.947368\n",
            "11  6.0  1.0  43.396226\n",
            "13  7.0  1.0  38.059701\n",
            "15  8.0  1.0  26.923077\n",
            "17  9.0  1.0  35.457516\n"
          ]
        }
      ],
      "source": [
        "# Voting frequency by class\n",
        "\n",
        "class_voted = eppes_cleaned[\"qg1\"].groupby(eppes_cleaned[\"d63\"]).value_counts(normalize=True).rename('percent').reset_index()\n",
        "class_voted[\"percent\"] = class_voted[\"percent\"].mul(100)\n",
        "\n",
        "class_voted = class_voted.sort_values(by=['qg1', 'd63'], ascending = True).iloc[0:9,0:3]\n",
        "\n",
        "print(class_voted)"
      ]
    },
    {
      "cell_type": "code",
      "execution_count": 67,
      "metadata": {
        "colab": {
          "base_uri": "https://localhost:8080/",
          "height": 309
        },
        "id": "pIpR7V-60Q36",
        "outputId": "cbd63543-8d8a-4afe-cb1a-218948b39d19"
      },
      "outputs": [
        {
          "output_type": "display_data",
          "data": {
            "text/plain": [
              "<Figure size 720x324 with 1 Axes>"
            ],
            "image/png": "[encoded data removed]"
          },
          "metadata": {
            "needs_background": "light"
          }
        }
      ],
      "source": [
        "# voting frequency by class affiliation\n",
        "\n",
        "rcParams['figure.figsize'] = 10,4.5\n",
        "\n",
        "barplot = sns.barplot(data = class_voted, x = \"d63\", y = \"percent\", palette='PuBuGn_r')\n",
        "barplot.set(xlabel='', ylabel='percent')\n",
        "barplot.set(xticklabels=[\"working\", \"lower middle\", \"middle\", \"upper middle\", \"higher\", \"other\", \"none\", \"refusal\", \"DK\"])\n",
        "barplot.set(title='Voting frequency by class affiliation (%)')\n",
        "barplot.set(ylim=(0, 100))\n",
        "\n",
        "percentage = [45.6, 51.3, 59.7, 72.1, 68.9, 43.4, 38.1, 26.9, 35.5]\n",
        "\n",
        "patches = barplot.patches\n",
        "for i in range(len(patches)):\n",
        "   x = patches[i].get_x() + patches[i].get_width()/2\n",
        "   y = patches[i].get_height()+1\n",
        "   barplot.annotate('{:.1f}%'.format(percentage[i]), (x, y), ha='center')"
      ]
    },
    {
      "cell_type": "code",
      "source": [
        "# voting frequency by class affiliation with average line\n",
        "\n",
        "rcParams['figure.figsize'] = 10,4.5\n",
        "\n",
        "barplot = sns.barplot(data = class_voted, x = \"d63\", y = \"percent\", palette='PuBuGn_r')\n",
        "barplot.set(xlabel='', ylabel='percent')\n",
        "barplot.set(xticklabels=[\"working\", \"lower middle\", \"middle\", \"upper middle\", \"higher\", \"other\", \"none\", \"refusal\", \"DK\"])\n",
        "barplot.set(title='Voting frequency by class affiliation (%)')\n",
        "barplot.set(ylim=(0, 100))\n",
        "barplot.axhline(54.6)\n",
        "barplot.text(7.7, 56.5, \"Average\", horizontalalignment='left', size='medium', color='black', weight='normal')\n",
        "\n",
        "percentage = [45.6, 51.3, 59.7, 72.1, 68.9, 43.4, 38.1, 26.9, 35.5]\n",
        "\n",
        "patches = barplot.patches\n",
        "for i in range(len(patches)):\n",
        "   x = patches[i].get_x() + patches[i].get_width()/2\n",
        "   y = patches[i].get_height()+1\n",
        "   barplot.annotate('{:.1f}%'.format(percentage[i]), (x, y), ha='center')"
      ],
      "metadata": {
        "id": "fRIk2_oCq0f3",
        "outputId": "cc7f81d5-f455-465b-e9a7-4d8f7391668f",
        "colab": {
          "base_uri": "https://localhost:8080/",
          "height": 309
        }
      },
      "execution_count": 77,
      "outputs": [
        {
          "output_type": "display_data",
          "data": {
            "text/plain": [
              "<Figure size 720x324 with 1 Axes>"
            ],
            "image/png": "[encoded data removed]"
          },
          "metadata": {
            "needs_background": "light"
          }
        }
      ]
    },
    {
      "cell_type": "markdown",
      "metadata": {
        "id": "l5o2i2DDglMr"
      },
      "source": [
        "### EU Discussion"
      ]
    },
    {
      "cell_type": "code",
      "execution_count": 78,
      "metadata": {
        "colab": {
          "base_uri": "https://localhost:8080/"
        },
        "id": "ceK493wqg6Sc",
        "outputId": "520b2229-3249-4cd0-e59f-a5e555e3872a"
      },
      "outputs": [
        {
          "output_type": "stream",
          "name": "stdout",
          "text": [
            "   qg1        d71a_2    percent\n",
            "2  1.0    frequently  19.376333\n",
            "0  1.0  occasionally  59.061834\n",
            "1  1.0         never  21.175373\n",
            "3  1.0            DK   0.386461\n",
            "6  2.0    frequently   9.144188\n",
            "4  2.0  occasionally  49.108863\n",
            "5  2.0         never  40.976236\n",
            "7  2.0            DK   0.770713\n"
          ]
        }
      ],
      "source": [
        "vote_by_eudisc = eppes_cleaned[\"d71a_2\"].groupby(eppes_cleaned[\"qg1\"]).value_counts(normalize=True).rename('percent').reset_index()\n",
        "vote_by_eudisc[\"percent\"] = vote_by_eudisc[\"percent\"].mul(100)\n",
        "\n",
        "vote_by_eudisc = vote_by_eudisc.sort_values(by=['qg1', 'd71a_2'], ascending = True)\n",
        "\n",
        "vote_by_eudisc.loc[(vote_by_eudisc['d71a_2'] == 1), 'd71a_2'] = 'frequently'\n",
        "vote_by_eudisc.loc[(vote_by_eudisc['d71a_2'] == 2), 'd71a_2'] = 'occasionally'\n",
        "vote_by_eudisc.loc[(vote_by_eudisc['d71a_2'] == 3), 'd71a_2'] = 'never'\n",
        "vote_by_eudisc.loc[(vote_by_eudisc['d71a_2'] == 4), 'd71a_2'] = 'DK'\n",
        "\n",
        "print(vote_by_eudisc)"
      ]
    },
    {
      "cell_type": "code",
      "execution_count": 80,
      "metadata": {
        "colab": {
          "base_uri": "https://localhost:8080/",
          "height": 309
        },
        "id": "DP5gTx4fQsWZ",
        "outputId": "fb14f9f4-27b3-42a2-b520-d4f908790178"
      },
      "outputs": [
        {
          "output_type": "display_data",
          "data": {
            "text/plain": [
              "<Figure size 720x324 with 1 Axes>"
            ],
            "image/png": "[encoded data removed]"
          },
          "metadata": {
            "needs_background": "light"
          }
        }
      ],
      "source": [
        "# voting behavior: \"When you get together with friends or relatives, would you say you discuss frequently, occasionally or never about European political matters?\"\"\n",
        "\n",
        "rcParams['figure.figsize'] = 10,4.5\n",
        "\n",
        "countplot = sns.countplot(data = eppes_cleaned, x = \"qg1\", hue = \"d71a_2\", order=eppes_cleaned[\"qg1\"].value_counts(ascending=False).index, palette='PuBuGn_r')\n",
        "countplot.set(xlabel='', ylabel='count')\n",
        "countplot.set(xticklabels=[\"voted\", \"did not vote\"])\n",
        "countplot.set(title='Voting behavior by interest in EU (proxy d71a_2) (total = 27464)')\n",
        "countplot.set(ylim=(0, 12000))\n",
        "\n",
        "countplot.legend(title='Frequency of political EU discussion', loc='upper right', labels=['frequently', 'occasionally', 'never', 'DK'])\n",
        "\n",
        "percentage = [19.4, 9.1, 59.1, 49.1, 21.2, 40.1, 0.4, 0.8]\n",
        "\n",
        "patches = countplot.patches\n",
        "for i in range(len(patches)):\n",
        "   x = patches[i].get_x() + patches[i].get_width()/2\n",
        "   y = patches[i].get_height()+100\n",
        "   countplot.annotate('{:.1f}%'.format(percentage[i]), (x, y), ha='center')"
      ]
    },
    {
      "cell_type": "code",
      "execution_count": 81,
      "metadata": {
        "colab": {
          "base_uri": "https://localhost:8080/",
          "height": 336
        },
        "id": "AGfIWz6vgyp8",
        "outputId": "2cfe9728-6053-4988-8e27-031ec6fd93bb"
      },
      "outputs": [
        {
          "output_type": "display_data",
          "data": {
            "text/plain": [
              "<Figure size 579.6x360 with 1 Axes>"
            ],
            "image/png": "[encoded data removed]"
          },
          "metadata": {
            "needs_background": "light"
          }
        }
      ],
      "source": [
        "# voting behavior EU discussion pecentages\n",
        "\n",
        "rcParams['figure.figsize'] = 8.05,5\n",
        "\n",
        "barplot = sns.barplot(data = vote_by_eudisc, x = \"qg1\", y = \"percent\", hue = \"d71a_2\", palette='PuBuGn_r')\n",
        "barplot.set(xlabel='')\n",
        "barplot.set(xticklabels=[\"voted\", \"did not vote\"])\n",
        "barplot.set(title='Voting behavior by interest in EU (proxy d71a_2) (%)')\n",
        "barplot.set(ylim=(0, 100))\n",
        "\n",
        "\n",
        "barplot.legend(title='Frequency of political EU discussion')\n",
        "\n",
        "percentage = [19.4, 9.1, 59.1, 49.1, 21.2, 40.1, 0.4, 0.8]\n",
        "\n",
        "patches = barplot.patches\n",
        "for i in range(len(patches)):\n",
        "   x = patches[i].get_x() + patches[i].get_width()/2\n",
        "   y = patches[i].get_height()+1\n",
        "   barplot.annotate('{:.1f}%'.format(percentage[i]), (x, y), ha='center')"
      ]
    },
    {
      "cell_type": "code",
      "execution_count": 82,
      "metadata": {
        "colab": {
          "base_uri": "https://localhost:8080/"
        },
        "id": "asAPWkOduxw9",
        "outputId": "42bda84d-c928-4d09-d9c6-13fd8e82ae11"
      },
      "outputs": [
        {
          "output_type": "stream",
          "name": "stdout",
          "text": [
            "   d71a_2  qg1    percent\n",
            "0     1.0  1.0  71.855696\n",
            "2     2.0  1.0  59.168280\n",
            "5     3.0  1.0  38.372374\n",
            "7     4.0  1.0  37.662338\n"
          ]
        }
      ],
      "source": [
        "# Voting frequency by interest\n",
        "\n",
        "eu_disc_voted = eppes_cleaned[\"qg1\"].groupby(eppes_cleaned[\"d71a_2\"]).value_counts(normalize=True).rename('percent').reset_index()\n",
        "eu_disc_voted[\"percent\"] = eu_disc_voted[\"percent\"].mul(100)\n",
        "\n",
        "eu_disc_voted = eu_disc_voted.sort_values(by=['qg1'], ascending = True).iloc[0:4,0:3]\n",
        "\n",
        "print(eu_disc_voted)"
      ]
    },
    {
      "cell_type": "code",
      "execution_count": 84,
      "metadata": {
        "colab": {
          "base_uri": "https://localhost:8080/",
          "height": 309
        },
        "id": "boDqf3WMw7Av",
        "outputId": "00d1cb81-2561-4e84-8b09-f76a22d6ddb2"
      },
      "outputs": [
        {
          "output_type": "display_data",
          "data": {
            "text/plain": [
              "<Figure size 720x324 with 1 Axes>"
            ],
            "image/png": "[encoded data removed]"
          },
          "metadata": {
            "needs_background": "light"
          }
        }
      ],
      "source": [
        "# Voting frequency by interest in EU \n",
        "\n",
        "rcParams['figure.figsize'] = 10,4.5\n",
        "\n",
        "barplot = sns.barplot(data = eu_disc_voted, x = \"d71a_2\", y = \"percent\", palette='PuBuGn_r')\n",
        "barplot.set(xlabel='')\n",
        "barplot.set(xticklabels=[\"frequently\", \"occasionally\", \"never\", \"DK\"])\n",
        "barplot.set(title='Voting frequency by interest in EU (proxy d71a_2) (%)')\n",
        "barplot.set(ylim=(0, 100))\n",
        "\n",
        "percentage = [71.9, 59.2, 38.4, 37.6]\n",
        "\n",
        "patches = barplot.patches\n",
        "for i in range(len(patches)):\n",
        "   x = patches[i].get_x() + patches[i].get_width()/2\n",
        "   y = patches[i].get_height()+1\n",
        "   barplot.annotate('{:.1f}%'.format(percentage[i]), (x, y), ha='center')"
      ]
    },
    {
      "cell_type": "code",
      "source": [
        "# Voting frequency by interest in EU with average line\n",
        "\n",
        "rcParams['figure.figsize'] = 10,4.5\n",
        "\n",
        "barplot = sns.barplot(data = eu_disc_voted, x = \"d71a_2\", y = \"percent\", palette='PuBuGn_r')\n",
        "barplot.set(xlabel='')\n",
        "barplot.set(xticklabels=[\"frequently\", \"occasionally\", \"never\", \"DK\"])\n",
        "barplot.set(title='Voting frequency by interest in EU (proxy d71a_2) (%)')\n",
        "barplot.set(ylim=(0, 100))\n",
        "barplot.axhline(54.6)\n",
        "barplot.text(3.1, 56.5, \"Average\", horizontalalignment='left', size='medium', color='black', weight='normal')\n",
        "\n",
        "percentage = [71.9, 59.2, 38.4, 37.6]\n",
        "\n",
        "patches = barplot.patches\n",
        "for i in range(len(patches)):\n",
        "   x = patches[i].get_x() + patches[i].get_width()/2\n",
        "   y = patches[i].get_height()+1\n",
        "   barplot.annotate('{:.1f}%'.format(percentage[i]), (x, y), ha='center')"
      ],
      "metadata": {
        "id": "9Y3Os2xLr5WX",
        "outputId": "e450400a-8874-49b7-a8b6-6e382becf0d0",
        "colab": {
          "base_uri": "https://localhost:8080/",
          "height": 309
        }
      },
      "execution_count": 88,
      "outputs": [
        {
          "output_type": "display_data",
          "data": {
            "text/plain": [
              "<Figure size 720x324 with 1 Axes>"
            ],
            "image/png": "[encoded data removed]"
          },
          "metadata": {
            "needs_background": "light"
          }
        }
      ]
    },
    {
      "cell_type": "markdown",
      "metadata": {
        "id": "w6aR-iFBmWqk"
      },
      "source": [
        "## f1/mcc"
      ]
    },
    {
      "cell_type": "code",
      "execution_count": 91,
      "metadata": {
        "id": "71mYev8lmZ6J"
      },
      "outputs": [],
      "source": [
        "# set seed\n",
        "import numpy as np\n",
        "\n",
        "from numpy.random import MT19937\n",
        "from numpy.random import RandomState, SeedSequence\n",
        "\n",
        "rs = RandomState(MT19937(SeedSequence(3612934)))"
      ]
    },
    {
      "cell_type": "code",
      "execution_count": 92,
      "metadata": {
        "id": "3FJRVvWnnH_U"
      },
      "outputs": [],
      "source": [
        "# create dummy dataframe\n",
        "np.random.seed(0) ; \n",
        "f1 = np.random.normal(0.8, 0.07, 40)\n",
        "mcc = np.random.normal(0.8, 0.07, 40)\n",
        "\n",
        "m= np.array([['a', 'b', 'c', 'd']])\n",
        "model = np.repeat(m, 10)\n",
        "\n",
        "model_data = pd.DataFrame({'model': model, 'f1': f1, 'mcc': mcc})\n"
      ]
    },
    {
      "cell_type": "code",
      "execution_count": 99,
      "metadata": {
        "colab": {
          "base_uri": "https://localhost:8080/",
          "height": 324
        },
        "id": "5DR2Ya4Nn8ar",
        "outputId": "d8c5cac5-e43e-4d84-81d5-547d8246e9da"
      },
      "outputs": [
        {
          "output_type": "display_data",
          "data": {
            "text/plain": [
              "<Figure size 432x288 with 1 Axes>"
            ],
            "image/png": "[encoded data removed]"
          },
          "metadata": {
            "needs_background": "light"
          }
        }
      ],
      "source": [
        "# f1 boxplot per model\n",
        "\n",
        "catplot = sns.catplot(data=model_data, x=\"model\", y=\"f1\", kind=\"box\", palette='PuBuGn_r')\n",
        "catplot.set(xticklabels=[\"Logistic Regression\", \"Naive Bayes\", \"SVM\", \"Random Forest\"])\n",
        "catplot.set(title='Distribution of f1')\n",
        "catplot.fig.set_size_inches(6,4)"
      ]
    },
    {
      "cell_type": "code",
      "execution_count": 100,
      "metadata": {
        "colab": {
          "base_uri": "https://localhost:8080/",
          "height": 324
        },
        "id": "YWglsqN_ucyY",
        "outputId": "3b16f856-1ba6-4587-8163-dce235d80e29"
      },
      "outputs": [
        {
          "output_type": "display_data",
          "data": {
            "text/plain": [
              "<Figure size 432x288 with 1 Axes>"
            ],
            "image/png": "[encoded data removed]"
          },
          "metadata": {
            "needs_background": "light"
          }
        }
      ],
      "source": [
        "# mcc boxplot per model\n",
        "\n",
        "catplot = sns.catplot(data=model_data, x=\"model\", y=\"mcc\", kind=\"box\", palette='PuBuGn_r')\n",
        "catplot.set(xticklabels=[\"Logistic Regression\", \"Naive Bayes\", \"SVM\", \"Random Forest\"])\n",
        "catplot.set(title='Distribution of mcc')\n",
        "catplot.fig.set_size_inches(6,4)"
      ]
    }
  ],
  "metadata": {
    "colab": {
      "provenance": [],
      "include_colab_link": true
    },
    "kernelspec": {
      "display_name": "Python 3.10.5 ('Machine-Learning-Project-K3kAtfCK')",
      "language": "python",
      "name": "python3"
    },
    "language_info": {
      "codemirror_mode": {
        "name": "ipython",
        "version": 3
      },
      "file_extension": ".py",
      "mimetype": "text/x-python",
      "name": "python",
      "nbconvert_exporter": "python",
      "pygments_lexer": "ipython3",
      "version": "3.10.5"
    },
    "vscode": {
      "interpreter": {
        "hash": "d776d6ed3af7d3b49847a0099a298aa8d78d20c8f42c0601505d3117fd4dfc67"
      }
    }
  },
  "nbformat": 4,
  "nbformat_minor": 0
}