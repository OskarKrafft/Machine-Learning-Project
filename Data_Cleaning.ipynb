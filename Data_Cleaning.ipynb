{
  "nbformat": 4,
  "nbformat_minor": 0,
  "metadata": {
    "colab": {
      "provenance": [],
      "collapsed_sections": [],
      "include_colab_link": true
    },
    "kernelspec": {
      "name": "python3",
      "display_name": "Python 3"
    },
    "language_info": {
      "name": "python"
    },
    "accelerator": "GPU"
  },
  "cells": [
    {
      "cell_type": "markdown",
      "metadata": {
        "id": "view-in-github",
        "colab_type": "text"
      },
      "source": [
        "<a href=\"https://colab.research.google.com/github/OskarKrafft/Machine-Learning-Project/blob/main/Data_Cleaning.ipynb\" target=\"_parent\"><img src=\"https://colab.research.google.com/assets/colab-badge.svg\" alt=\"Open In Colab\"/></a>"
      ]
    },
    {
      "cell_type": "code",
      "execution_count": null,
      "metadata": {
        "colab": {
          "base_uri": "https://localhost:8080/"
        },
        "id": "u3I_xDFllhNa",
        "outputId": "6ed856b2-fd7c-4fea-c8e1-0fb48078199d"
      },
      "outputs": [
        {
          "output_type": "stream",
          "name": "stdout",
          "text": [
            "Looking in indexes: https://pypi.org/simple, https://us-python.pkg.dev/colab-wheels/public/simple/\n",
            "Collecting pyreadstat\n",
            "  Downloading pyreadstat-1.2.0-cp37-cp37m-manylinux_2_17_x86_64.manylinux2014_x86_64.whl (2.5 MB)\n",
            "\u001b[K     |████████████████████████████████| 2.5 MB 15.1 MB/s \n",
            "\u001b[?25hRequirement already satisfied: pandas>=1.2.0 in /usr/local/lib/python3.7/dist-packages (from pyreadstat) (1.3.5)\n",
            "Requirement already satisfied: numpy>=1.17.3 in /usr/local/lib/python3.7/dist-packages (from pandas>=1.2.0->pyreadstat) (1.21.6)\n",
            "Requirement already satisfied: python-dateutil>=2.7.3 in /usr/local/lib/python3.7/dist-packages (from pandas>=1.2.0->pyreadstat) (2.8.2)\n",
            "Requirement already satisfied: pytz>=2017.3 in /usr/local/lib/python3.7/dist-packages (from pandas>=1.2.0->pyreadstat) (2022.5)\n",
            "Requirement already satisfied: six>=1.5 in /usr/local/lib/python3.7/dist-packages (from python-dateutil>=2.7.3->pandas>=1.2.0->pyreadstat) (1.15.0)\n",
            "Installing collected packages: pyreadstat\n",
            "Successfully installed pyreadstat-1.2.0\n"
          ]
        }
      ],
      "source": [
        "!pip install pyreadstat"
      ]
    },
    {
      "cell_type": "code",
      "source": [
        "import pandas as pd\n",
        "import pyreadstat"
      ],
      "metadata": {
        "id": "XSGZ2inBmJYW"
      },
      "execution_count": null,
      "outputs": []
    },
    {
      "cell_type": "code",
      "source": [
        "! git clone https://github.com/OskarKrafft/Machine-Learning-Project.git"
      ],
      "metadata": {
        "colab": {
          "base_uri": "https://localhost:8080/"
        },
        "id": "P-LK7AAgx4ia",
        "outputId": "5fb5ba2b-ae5d-472e-c43c-0c5207fb2000"
      },
      "execution_count": null,
      "outputs": [
        {
          "output_type": "stream",
          "name": "stdout",
          "text": [
            "Cloning into 'Machine-Learning-Project'...\n",
            "remote: Enumerating objects: 50, done.\u001b[K\n",
            "remote: Counting objects: 100% (50/50), done.\u001b[K\n",
            "remote: Compressing objects: 100% (40/40), done.\u001b[K\n",
            "remote: Total 50 (delta 14), reused 27 (delta 3), pack-reused 0\u001b[K\n",
            "Unpacking objects: 100% (50/50), done.\n"
          ]
        }
      ]
    },
    {
      "cell_type": "code",
      "source": [
        "! git init"
      ],
      "metadata": {
        "colab": {
          "base_uri": "https://localhost:8080/"
        },
        "id": "NXLVEsHbzYFR",
        "outputId": "b3511724-0b92-482c-8f16-f21d959c5eef"
      },
      "execution_count": 24,
      "outputs": [
        {
          "output_type": "stream",
          "name": "stdout",
          "text": [
            "/content/gdrive/.git: Operation not supported\n"
          ]
        }
      ]
    },
    {
      "cell_type": "code",
      "source": [
        "! git pull"
      ],
      "metadata": {
        "colab": {
          "base_uri": "https://localhost:8080/"
        },
        "id": "ZqTFNzEVzGlR",
        "outputId": "da8ef49f-62dd-4871-c8f4-194c28ae857d"
      },
      "execution_count": 25,
      "outputs": [
        {
          "output_type": "stream",
          "name": "stdout",
          "text": [
            "fatal: not a git repository (or any parent up to mount point /content)\n",
            "Stopping at filesystem boundary (GIT_DISCOVERY_ACROSS_FILESYSTEM not set).\n"
          ]
        }
      ]
    },
    {
      "cell_type": "code",
      "source": [
        "%cd /content/gdrive/MyDrive/Colab Notebooks/Machine-Learning-Project"
      ],
      "metadata": {
        "colab": {
          "base_uri": "https://localhost:8080/"
        },
        "id": "333T_cgc0Xby",
        "outputId": "ce7104aa-84e3-432b-a815-908603479c13"
      },
      "execution_count": 27,
      "outputs": [
        {
          "output_type": "stream",
          "name": "stdout",
          "text": [
            "/content/gdrive/MyDrive/Colab Notebooks/Machine-Learning-Project\n"
          ]
        }
      ]
    },
    {
      "cell_type": "code",
      "source": [
        "from google.colab import drive\n",
        "drive.mount('/content/gdrive')"
      ],
      "metadata": {
        "colab": {
          "base_uri": "https://localhost:8080/"
        },
        "id": "VkQLwkdfmWa_",
        "outputId": "aa58ccd5-0f7b-432b-8d32-84c806920fe4"
      },
      "execution_count": 14,
      "outputs": [
        {
          "output_type": "stream",
          "name": "stdout",
          "text": [
            "Mounted at /content/gdrive\n"
          ]
        }
      ]
    },
    {
      "cell_type": "code",
      "source": [
        "data, meta = pyreadstat.read_sav('../raw/1.0-EPPES.sav')\n",
        "\n",
        "data.describe()"
      ],
      "metadata": {
        "colab": {
          "base_uri": "https://localhost:8080/",
          "height": 266
        },
        "id": "ScV1o5ogmLlw",
        "outputId": "ac060edd-c589-47ea-e250-7efd1a928342"
      },
      "execution_count": null,
      "outputs": [
        {
          "output_type": "error",
          "ename": "PyreadstatError",
          "evalue": "ignored",
          "traceback": [
            "\u001b[0;31m---------------------------------------------------------------------------\u001b[0m",
            "\u001b[0;31mPyreadstatError\u001b[0m                           Traceback (most recent call last)",
            "\u001b[0;32m<ipython-input-17-f014ce8f5d34>\u001b[0m in \u001b[0;36m<module>\u001b[0;34m\u001b[0m\n\u001b[0;32m----> 1\u001b[0;31m \u001b[0mdata\u001b[0m\u001b[0;34m,\u001b[0m \u001b[0mmeta\u001b[0m \u001b[0;34m=\u001b[0m \u001b[0mpyreadstat\u001b[0m\u001b[0;34m.\u001b[0m\u001b[0mread_sav\u001b[0m\u001b[0;34m(\u001b[0m\u001b[0;34m'../raw/1.0-EPPES.sav'\u001b[0m\u001b[0;34m)\u001b[0m\u001b[0;34m\u001b[0m\u001b[0;34m\u001b[0m\u001b[0m\n\u001b[0m\u001b[1;32m      2\u001b[0m \u001b[0;34m\u001b[0m\u001b[0m\n\u001b[1;32m      3\u001b[0m \u001b[0mdata\u001b[0m\u001b[0;34m.\u001b[0m\u001b[0mdescribe\u001b[0m\u001b[0;34m(\u001b[0m\u001b[0;34m)\u001b[0m\u001b[0;34m\u001b[0m\u001b[0;34m\u001b[0m\u001b[0m\n",
            "\u001b[0;32mpyreadstat/pyreadstat.pyx\u001b[0m in \u001b[0;36mpyreadstat.pyreadstat.read_sav\u001b[0;34m()\u001b[0m\n",
            "\u001b[0;32mpyreadstat/_readstat_parser.pyx\u001b[0m in \u001b[0;36mpyreadstat._readstat_parser.run_conversion\u001b[0;34m()\u001b[0m\n",
            "\u001b[0;31mPyreadstatError\u001b[0m: File ../raw/1.0-EPPES.sav does not exist!"
          ]
        }
      ]
    },
    {
      "cell_type": "code",
      "source": [
        "# Drop columns with non-answered questions -----------------------------------------\n",
        "\n",
        "index_drop = []\n",
        "names_drop = []\n",
        "\n",
        "for i in range(len(data.columns)):\n",
        "  if data.count()[i] == 32524:\n",
        "    index_drop.append(True)\n",
        "  else:\n",
        "    index_drop.append(False)\n",
        "    names_drop.append(data.columns[i])\n",
        "\n",
        "print(index_drop)\n",
        "print(names_drop)\n",
        "\n",
        "print(names_drop)"
      ],
      "metadata": {
        "colab": {
          "base_uri": "https://localhost:8080/"
        },
        "id": "cVtY0xGRnON7",
        "outputId": "ee3e7eef-e247-4abd-8eed-214d01f681f1"
      },
      "execution_count": null,
      "outputs": [
        {
          "output_type": "stream",
          "name": "stdout",
          "text": [
            "[True, True, True, True, True, True, True, True, True, True, True, True, False, True, True, True, True, True, True, True, True, True, True, True, True, True, True, True, True, True, True, True, True, True, True, True, True, True, True, True, True, True, False, False, False, True, True, True, True, True, False, False, False, False, False, False, True, True, False, False, False, False, False, False, False, False, False, False, False, False, False, False, False, False, False, False, False, False, False, False, False, False, False, False, False, False, False, False, False, False, False, False, False, False, False, False, False, False, False, False, False, False, False, False, False, False, False, False, False, False, False, False, False, False, False, False, False, False, False, False, False, False, False, False, False, False, False, False, False, False, False, False, False, False, False, False, False, False, False, False, False, False, False, False, False, False, False, False, False, False, False, False, False, False, False, False, False, False, False, False, False, False, False, False, False, False, False, False, False, False, False, False, False, False, False, False, False, False, False, False, False, False, False, False, False, False, False, False, False, False, False, True, True, True, True, True, True, False, True, True, True, True, True, True, True, True, True, True, True, True, True, True, True, True, True, True, True, True, True, True, True, False, False, False, False, False, False, False, False, False, False, False, False, False, False, False, False, False, False, False, False, False, False, False, False, False, False, False, False, False, False, False, False, False, False, False, False, True, True, True, True, True, True, True, True, True, True, True, False, False, False, False, False, False, False, False, False, False, False, False, False, False, False, False, False, False, False, False, False, False, False, False, False, False, False, False, False, False, False, False, False, False, False, False, False, False, False, False, False, False, False, False, True, False, False, False, False, False, False, False, False, False, False, False, False, False, False, False, False, False, False, False, True, False, False, False, False, False, False, False, False, False, False, False, True, True, True, True, True, True, True, True, True, True, True, False, False, False, False, False, False, False, False, False, False, False, False, False, False, False, False, False, False, False, False, False, False, False, False, False, False, False, False, False, False, False, False, False, False, False, False, False, False, False, False, False, False, False, False, False, False, False, True, True, False, False, False, True, False, False, False, False, False, False, False, False, False, False, False, False, False, False, False, False, False, False, False, False, False, False, False, False, False, False, False, False, False, False, False, False, False, False, False, False, False, False, False, False, False, False, False, False, False, False, False, False, False, False, False, False, False, False, False, False, False, False, False, False, False, False, False, False, False, False, False, False, False, False, False, False, False, False, False, False, False, False, False, False, False, False, False, False, False, False, False, False, False, False, False, False, False, False, False, False, False, False, False, False, False, False, False, False, False, False, False, False, False, False, False, False, False, False, False, False, False, False, False, False, False, False, False, False, False, False, False, False, False, False, False, False, False, False, False, False, False, False, False, False, False, False, False, False, False, False, False, False, False, False, False, False, False, False, False, False, False, False, False, False, False, False, False, False, False, False, False, False, False, False, False, False, True, True, True, True, True, True, True, True, True, True, True, True, True, True, True, True, True, True, True, True, True, False, False, False, True, True, False, False, False, False, False, False, False, True, True, True, True, True, True, True, True, True, True, True, True, True, True, True, True, True, True, True, True, True, True, True, True, True, True, True, True, True, True, True, True, False, False, True, True, False, False, False, False, False, False, False, False, False, False, False, False, False, False, False, False, False, False, False, False, False, False, False, False, False, False, False, False, False, False, False, False, False, False, False, False, False, False, False, False, False, False, False, False, False, False, False, False, False, False, False, False, False, False, False, False, False, False, False, False, False, False, False, False, False, False, False, False, False, False, False, False, False, False, False, False, False, False, False, False, False, False, False, False, False, False, False, True, True, False, False, False, False, False, False, False, False, False, True, True, True, True, True, True, True, True, True, True, True, True, True, True, True, True, True, True, True, True, True, True, True, True, True, True, True, True, True, True, True, True, True, True, True, True, True, True, True, True, True, True, True, True, True, True, True, True, True, True, True, True, True, True, True, True, True, True, True, True, True, True, True, True, True, True, True, True, True, False, False, False, False, False, False, False, False, False, False, False, False, False, False, False, False, False, False, False, False, False, False, False, False, False, False, False, False, False, False, False, False, False, False, False, False, False, False, False, False, False, False, False, False, False, False, False, False, False, False, False, False, False, False, False, False]\n",
            "['split', 'q1.30', 'q1.31', 'q1.32', 'd71a_1', 'd71a_2', 'd71a_3', 'd71b_1', 'd71b_2', 'd71b_3', 'qa1a_1', 'qa1a_2', 'qa1a_3', 'qa1a_4', 'qa1a_5', 'qa1a_6', 'qa1a_7', 'qa1b_1', 'qa1b_2', 'qa1b_3', 'qa1b_4', 'qa1b_5', 'qa1b_6', 'qa1b_7', 'qa2a_1', 'qa2a_2', 'qa2a_3', 'qa2a_4', 'qa2a_5', 'qa2a_6', 'qa2a_7', 'qa2b_1', 'qa2b_2', 'qa2b_3', 'qa2b_4', 'qa2b_5', 'qa2b_6', 'qa2b_7', 'qa3a.1', 'qa3a.2', 'qa3a.3', 'qa3a.4', 'qa3a.5', 'qa3a.6', 'qa3a.7', 'qa3a.8', 'qa3a.9', 'qa3a.10', 'qa3a.11', 'qa3a.12', 'qa3a.13', 'qa3a.14', 'qa3a.15', 'qa3a.16', 'qa4a.1', 'qa4a.2', 'qa4a.3', 'qa4a.4', 'qa4a.5', 'qa4a.6', 'qa4a.7', 'qa4a.8', 'qa4a.9', 'qa4a.10', 'qa4a.11', 'qa4a.12', 'qa4a.13', 'qa4a.14', 'qa4a.15', 'qa4a.16', 'qa4a.17', 'qa4a.18', 'qa3b.1', 'qa3b.2', 'qa3b.3', 'qa3b.4', 'qa3b.5', 'qa3b.6', 'qa3b.7', 'qa3b.8', 'qa3b.9', 'qa3b.10', 'qa3b.11', 'qa3b.12', 'qa3b.13', 'qa3b.14', 'qa3b.15', 'qa3b.16', 'qa4b.1', 'qa4b.2', 'qa4b.3', 'qa4b.4', 'qa4b.5', 'qa4b.6', 'qa4b.7', 'qa4b.8', 'qa4b.9', 'qa4b.10', 'qa4b.11', 'qa4b.12', 'qa4b.13', 'qa4b.14', 'qa4b.15', 'qa4b.16', 'qa4b.17', 'qa4b.18', 'qa5.1', 'qa5.2', 'qa5.3', 'qa5.4', 'qa5.5', 'qa5.6', 'qa5.7', 'qa5.8', 'qa5.9', 'qa5.10', 'qa5.11', 'qa5.12', 'qa5.13', 'qa5.14', 'qa5.15', 'qa5.16', 'd73a_1', 'd73a_2', 'd73a_3', 'd73b_1', 'd73b_2', 'd73b_3', 'qa6a_1', 'qa6a_2', 'qa6a_3', 'qa6a_4', 'qa6a_5', 'qa6a_6', 'qa6a_7', 'qa6a_8', 'qa6a_9', 'qa6a_10', 'qa6a_11', 'qa6b_1', 'qa6b_2', 'qa6b_3', 'qa6b_4', 'qa8_6', 'qa10_1', 'qa10_2', 'qa10_3', 'qa10_4', 'qa10_5', 'qa10_6', 'qf1', 'qf2', 'qf3.1', 'qf3.2', 'qf3.3', 'qf3.4', 'qf3.5', 'qf3.6', 'qf3.7', 'qf3.8', 'qf3.9', 'qf3.10', 'qf3.11', 'qf3.12', 'qf3.13', 'qf3.14', 'qf3.15', 'qa11a', 'qa12a', 'qa11b', 'qa12b', 'qa13_1', 'qa13_2', 'qa13_3', 'qa13_4', 'qa13_5', 'qa14_1', 'qa14_2', 'qa14_3', 'qa14_4', 'qa16_1', 'qa16_2', 'qa16_3', 'qa16_4', 'qa16_5', 'qa16_6', 'qa16_7', 'qa16_8', 'qa16_9', 'qa16r', 'qa17a', 'qa17b', 'qa18a_1', 'qa18a_2', 'qa18a_3', 'qa18a_4', 'qa18a_5', 'qa18a_6', 'qa18b_1', 'qa18b_2', 'qa18b_3', 'qa19', 'qb1_1', 'qb2.1', 'qb2.2', 'qb2.3', 'qb2.4', 'qb2.5', 'qb2.6', 'qb2.7', 'qb2.8', 'qb2.9', 'qb2.10', 'qb2.11', 'qb2.12', 'qb2.13', 'qb2.14', 'qb3_1', 'qb3_2', 'qb4', 'qb5_1', 'qb5_2', 'qb5_3', 'qb5_4', 'qc2a_1', 'qc2a_2', 'qc2a_3', 'qc2a_4', 'qc2a_5', 'qc2b_1', 'qc2b_2', 'qd1a_1', 'qd1a_2', 'qd1a_3', 'qd1a_4', 'qd1b_1', 'qd1b_2', 'qd1b_3', 'qd1b_4', 'qd2_1', 'qd2_2', 'qd2_3', 'qd3', 'qd4b.1', 'qd4b.2', 'qd4b.3', 'qd4b.4', 'qd4b.5', 'qd4b.6', 'qd4b.7', 'qd4b.8', 'qd4b.9', 'qd4b.10', 'qd4b.11', 'qd5.1', 'qd5.2', 'qd5.3', 'qd5.4', 'qd5.5', 'qd5.6', 'qd5.7', 'qd5.8', 'qd5.9', 'qd5.10', 'qd5.11', 'qd5.12', 'qd5.13', 'qd5.14', 'qd5.15', 'qd5.16', 'qd5.17', 'qd6.1', 'qd6.2', 'qd6.3', 'qd6.4', 'qd6.5', 'qd6.6', 'qd6.7', 'qd6.8', 'qd6.9', 'qd6.10', 'qd6.11', 'qd6.12', 'qd6.13', 'qd6.14', 'qd7.1', 'qd7.2', 'qd7.3', 'qd7.4', 'qd7.5', 'qd7.6', 'qd7.7', 'qd7.8', 'qd7.9', 'qd7.10', 'qd7.11', 'qd7.12', 'qd7.13', 'qd7.14', 'qd8', 'qd9_1', 'qd9_4', 'qd9_5', 'qd9_6', 'qd10a', 'qd10ar', 'qd10b', 'qd10br', 'qd11_1', 'qd11_2', 'qd11_3', 'qd11_4', 'qd11_5', 'qd11_6', 'qd11_7', 'qd11_8', 'qd12_1', 'qd12_2', 'qe1_1', 'qe1_2', 'qe1_3', 'qe1_4', 'qe1_5', 'qe1_6', 'qe1_7', 'qe1_8', 'qe2_1', 'qe2_2', 'qe2_3', 'qe2_4', 'qg1', 'qg1_orig', 'qg1b', 'qg2', 'qg3', 'qg4a', 'qg4b.1', 'qg4b.2', 'qg4b.3', 'qg4b.4', 'qg4b.5', 'qg4b.6', 'qg4b.7', 'qg4b.8', 'qg4b.9', 'qg4t.1', 'qg4t.2', 'qg4t.3', 'qg4t.4', 'qg4t.5', 'qg4t.6', 'qg4t.7', 'qg4t.8', 'qg4t.9', 'qg5', 'qg6.1', 'qg6.2', 'qg6.3', 'qg6.4', 'qg6.5', 'qg6.6', 'qg6.7', 'qg6.8', 'qg6.9', 'qg6.10', 'qg6.11', 'qg6.12', 'qg6.13', 'qg6.14', 'qg6.15', 'qg6.16', 'qg6.17', 'qg7a', 'qg7b.1', 'qg7b.2', 'qg7b.3', 'qg7b.4', 'qg7b.5', 'qg7b.6', 'qg7b.7', 'qg7b.8', 'qg7b.9', 'qg7b.10', 'qg7b.11', 'qg7b.12', 'qg7b.13', 'qg7b.14', 'qg7b.15', 'qg7b.16', 'qg7t.1', 'qg7t.2', 'qg7t.3', 'qg7t.4', 'qg7t.5', 'qg7t.6', 'qg7t.7', 'qg7t.8', 'qg7t.9', 'qg7t.10', 'qg7t.11', 'qg7t.12', 'qg7t.13', 'qg7t.14', 'qg7t.15', 'qg7t.16', 'qg8', 'qg9.1', 'qg9.2', 'qg9.3', 'qg9.4', 'qg9.5', 'qg9.6', 'qg9.7', 'qg9.8', 'qg9.9', 'qg9.10', 'qg9.11', 'qg9.12', 'qg9.13', 'qg9.14', 'qg9.15', 'qg9.16', 'qg9.17', 'qg10', 'qg11_1', 'qg11_2', 'qg11_3', 'qg11_4', 'qg11_5', 'qg11_6', 'qg11_7', 'qg11_8', 'qg11_9', 'qg12', 'qg13_1', 'qg13_2', 'qg13_3', 'qg13_4', 'qg13_5', 'qg13_5v', 'qg14_1', 'qg14_2', 'qg14_1v', 'qg14_2v', 'qg15', 'qg16', 'qh1', 'qh2.1', 'qh2.2', 'qh2.3', 'qh2.4', 'qh2.5', 'qh2.6', 'qh2.7', 'qh2.8', 'qh2.9', 'qh2.10', 'qh2.11', 'qh2.12', 'qh2.13', 'qh2.14', 'qh2.15', 'qh2.16', 'qh3', 'qh4', 'qh5_1', 'qh5_2', 'qh5_3', 'qh5_4', 'qh5_5', 'qh5_6', 'qh5_7', 'qh6', 'd1', 'd1r1', 'd1r2', 'd15b', 'd15b_r', 'd25', 'd40b', 'd40b_r', 'd40c', 'd40c_r', 'd40abc', 'd40abc_r', 'd40_d11', 'p3', 'p3r', 'p6', 'p7', 'p13', 'p6be', 'p6at', 'p6bg', 'p6cy', 'p6cz', 'p6dk', 'p6ee', 'p6de', 'p6gr', 'p6es', 'p6fi', 'p6fr', 'p6gb', 'p6hu', 'p6ie', 'p6it', 'p6lt', 'p6lu', 'p6lv', 'p6mt', 'p6nl', 'p6pl', 'p6pt', 'p6ro', 'p6se', 'p6si', 'p6sk', 'p6hr', 'p6al', 'p6tr', 'p6cytcc', 'p6mk', 'p6me', 'p6rs', 'p7be', 'p7be_r', 'p7at', 'p7at_r', 'p7bg', 'p7cy', 'p7cz', 'p7dk', 'p7ee', 'p7de', 'p7gr', 'p7gr_r', 'p7es', 'p7es_r1', 'p7es_r2', 'p7fi', 'p7fr', 'p7fr_r', 'p7gb', 'p7gb_r', 'p7hu', 'p7hu_r', 'p7ie', 'p7it', 'p7it_r1', 'p7it_r2', 'p7lt', 'p7lu', 'p7lv', 'p7nl', 'p7nl_r', 'p7pl', 'p7pl_r', 'p7pt', 'p7ro', 'p7ro_r', 'p7se', 'p7se_r', 'p7si', 'p7si_r', 'p7sk', 'p7hr', 'p7hr_r', 'p7al', 'p7tr', 'p7tr_r', 'p7cytcc', 'p7mk', 'p7me', 'p7rs', 'p13be', 'p13ee', 'p13es', 'p13fi', 'p13lu', 'p13lv', 'p13mt', 'p13tr', 'p13mk', 'w31', 'w35', 'w36', 'w37', 'w38', 'w39', 'w40', 'w41', 'w43', 'w44', 'w52', 'w53', 'w54', 'w59', 'w60', 'w61', 'w62', 'w63', 'w64', 'w65', 'w66', 'w67', 'w69', 'w70', 'w74', 'w78', 'w79', 'wexmen', 'w101', 'w105', 'w106', 'w107', 'w108', 'w109', 'w110', 'w111', 'w113', 'w114', 'w122', 'w123', 'w124', 'w129', 'w130', 'w131', 'w132', 'w133', 'w134', 'w135', 'w136', 'w137', 'w139', 'w140', 'w144', 'w148', 'w149', 'wexmen2']\n"
          ]
        }
      ]
    },
    {
      "cell_type": "code",
      "source": [
        "%cd gdrive/My Drive/Machine Learning Project - Voting Propensity"
      ],
      "metadata": {
        "colab": {
          "base_uri": "https://localhost:8080/"
        },
        "id": "WPRlgJGpupPK",
        "outputId": "4c4ae0bf-6224-49f5-ba52-06a8dab3e019"
      },
      "execution_count": null,
      "outputs": [
        {
          "output_type": "stream",
          "name": "stdout",
          "text": [
            "/content/gdrive/My Drive/Machine Learning Project - Voting Propensity\n"
          ]
        }
      ]
    },
    {
      "cell_type": "code",
      "source": [
        "! git pull"
      ],
      "metadata": {
        "colab": {
          "base_uri": "https://localhost:8080/"
        },
        "id": "pJp2u-i4vAue",
        "outputId": "1dd10ff7-dcca-45e6-b9b7-74d93047cdd3"
      },
      "execution_count": 29,
      "outputs": [
        {
          "output_type": "stream",
          "name": "stdout",
          "text": [
            "remote: Enumerating objects: 5, done.\u001b[K\n",
            "remote: Counting objects:  20% (1/5)\u001b[K\rremote: Counting objects:  40% (2/5)\u001b[K\rremote: Counting objects:  60% (3/5)\u001b[K\rremote: Counting objects:  80% (4/5)\u001b[K\rremote: Counting objects: 100% (5/5)\u001b[K\rremote: Counting objects: 100% (5/5), done.\u001b[K\n",
            "remote: Compressing objects:  33% (1/3)\u001b[K\rremote: Compressing objects:  66% (2/3)\u001b[K\rremote: Compressing objects: 100% (3/3)\u001b[K\rremote: Compressing objects: 100% (3/3), done.\u001b[K\n",
            "remote: Total 3 (delta 2), reused 0 (delta 0), pack-reused 0\u001b[K\n",
            "Unpacking objects:  33% (1/3)   \rUnpacking objects:  66% (2/3)   \rUnpacking objects: 100% (3/3)   \rUnpacking objects: 100% (3/3), done.\n",
            "From https://github.com/OskarKrafft/Machine-Learning-Project\n",
            "   44be49e..a1f7807  main       -> origin/main\n",
            "Updating bdc015d..a1f7807\n",
            "error: Your local changes to the following files would be overwritten by merge:\n",
            "\tData_Cleaning.ipynb\n",
            "Please commit your changes or stash them before you merge.\n",
            "Aborting\n"
          ]
        }
      ]
    }
  ]
}