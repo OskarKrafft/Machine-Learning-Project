{
  "cells": [
    {
      "cell_type": "markdown",
      "metadata": {
        "colab_type": "text",
        "id": "view-in-github"
      },
      "source": [
        "<a href=\"https://colab.research.google.com/github/OskarKrafft/Machine-Learning-Project/blob/main/Data_Cleaning.ipynb\" target=\"_parent\"><img src=\"https://colab.research.google.com/assets/colab-badge.svg\" alt=\"Open In Colab\"/></a>"
      ]
    },
    {
      "cell_type": "markdown",
      "metadata": {
        "id": "ryP6k8_W26RB"
      },
      "source": [
        "## Import libraries"
      ]
    },
    {
      "cell_type": "code",
      "execution_count": null,
      "metadata": {
        "colab": {
          "base_uri": "https://localhost:8080/"
        },
        "id": "u3I_xDFllhNa",
        "outputId": "dae9793d-7d59-4ad6-f12a-a08d969d46fc"
      },
      "outputs": [],
      "source": [
        "# Install packages and import them"
      ]
    },
    {
      "cell_type": "code",
      "execution_count": null,
      "metadata": {},
      "outputs": [],
      "source": [
        "import pandas as pd\n",
        "import pyreadstat"
      ]
    },
    {
      "cell_type": "markdown",
      "metadata": {
        "id": "gX2D0Rar3Cu5"
      },
      "source": [
        "## Set up WD"
      ]
    },
    {
      "cell_type": "code",
      "execution_count": null,
      "metadata": {
        "colab": {
          "base_uri": "https://localhost:8080/"
        },
        "id": "XSGZ2inBmJYW",
        "outputId": "39d6c687-ffb3-4671-b800-6e6ea1af0e26"
      },
      "outputs": [],
      "source": [
        "# Mount GDrive to facilitate data import\n",
        "from google.colab import drive\n",
        "drive.mount('/content/drive')"
      ]
    },
    {
      "cell_type": "code",
      "execution_count": null,
      "metadata": {
        "colab": {
          "base_uri": "https://localhost:8080/"
        },
        "id": "r9mEYXKbwlmn",
        "outputId": "57959700-1361-48c3-f2ce-0b6ab50d5632"
      },
      "outputs": [],
      "source": [
        "# Change working directory to project folder\n",
        "%cd /content/drive/MyDrive/Colab Notebooks/Machine-Learning-Project"
      ]
    },
    {
      "cell_type": "code",
      "execution_count": null,
      "metadata": {
        "id": "q7UJnqzQwp5X"
      },
      "outputs": [],
      "source": [
        "# If Github repo is not yet cloned in Drive, use following code (just do once!):\n",
        "\n",
        "# ! git clone https://github.com/OskarKrafft/Machine-Learning-Project.git"
      ]
    },
    {
      "cell_type": "markdown",
      "metadata": {
        "id": "C4PtuazC3Jf6"
      },
      "source": [
        "## Import data"
      ]
    },
    {
      "cell_type": "code",
      "execution_count": null,
      "metadata": {
        "colab": {
          "base_uri": "https://localhost:8080/",
          "height": 823
        },
        "id": "ScV1o5ogmLlw",
        "outputId": "979d4682-7b2e-4eb7-e9cf-5ee26a87bee8"
      },
      "outputs": [],
      "source": [
        "eppes, meta = pyreadstat.read_sav('data/raw/1.0-EPPES.sav')\n",
        "pd.set_option('display.max_columns', None)\n",
        "eppes"
      ]
    },
    {
      "cell_type": "markdown",
      "metadata": {
        "id": "nwv6J1MP3OaI"
      },
      "source": [
        "# Data Cleaning"
      ]
    },
    {
      "cell_type": "markdown",
      "metadata": {
        "id": "zZhmzG44G3cG"
      },
      "source": [
        "## Drop non-voters"
      ]
    },
    {
      "cell_type": "code",
      "execution_count": null,
      "metadata": {
        "colab": {
          "base_uri": "https://localhost:8080/",
          "height": 823
        },
        "id": "nOGZN4bz07-5",
        "outputId": "d7c97f14-dee0-43a5-f2f7-4fe27c4f404e"
      },
      "outputs": [],
      "source": [
        "# Drop observation of people that were not eligible to vote\n",
        "\n",
        "eppes = eppes[eppes.qg1.isna() == False]\n",
        "eppes"
      ]
    },
    {
      "cell_type": "code",
      "execution_count": null,
      "metadata": {
        "colab": {
          "base_uri": "https://localhost:8080/"
        },
        "id": "UmxIWaLC0fdE",
        "outputId": "97a6edc7-324b-4a50-da25-e458f181094a"
      },
      "outputs": [],
      "source": [
        "# Check for NAs in vote variable qg1\n",
        "\n",
        "eppes['qg1'].isna().sum()"
      ]
    },
    {
      "cell_type": "code",
      "execution_count": null,
      "metadata": {
        "colab": {
          "base_uri": "https://localhost:8080/"
        },
        "id": "P4XksPqrdNr-",
        "outputId": "31f23e92-0e7d-4b48-a3b4-f657d0884e7b"
      },
      "outputs": [],
      "source": [
        "# Create frequency table of qg1\n",
        "\n",
        "eppes[\"qg1\"].value_counts()"
      ]
    },
    {
      "cell_type": "markdown",
      "metadata": {
        "id": "pY9bagmWHINP"
      },
      "source": [
        "## Drop problematic, non-complete or uninteresting columns"
      ]
    },
    {
      "cell_type": "code",
      "execution_count": null,
      "metadata": {
        "colab": {
          "base_uri": "https://localhost:8080/"
        },
        "id": "bkoElWfwxQwi",
        "outputId": "5dcee579-fd97-49c9-e16d-e4f20f803729"
      },
      "outputs": [],
      "source": [
        "# Import Excel sheet containing column indeces to be dropped\n",
        "\n",
        "columns_analysis = pd.read_excel(r'Drop_Columns.xlsx')\n",
        "columns_analysis = columns_analysis.drop(columns_analysis.columns[[0]], axis = 1)\n",
        "print(columns_analysis)"
      ]
    },
    {
      "cell_type": "code",
      "execution_count": null,
      "metadata": {
        "colab": {
          "base_uri": "https://localhost:8080/"
        },
        "id": "H0fjOZnxxlKC",
        "outputId": "f8aa1650-961c-4d9d-f8cc-6e00c125ff81"
      },
      "outputs": [],
      "source": [
        "# Create list of indeces of columns to be dropped\n",
        "\n",
        "indeces_to_drop = []\n",
        "\n",
        "for i in range(872):\n",
        "  if columns_analysis.iloc[i, 2] == False:\n",
        "    indeces_to_drop.append(i)\n",
        "\n",
        "print(indeces_to_drop)"
      ]
    },
    {
      "cell_type": "code",
      "execution_count": null,
      "metadata": {
        "colab": {
          "base_uri": "https://localhost:8080/",
          "height": 823
        },
        "id": "fMZjdhl6yUUC",
        "outputId": "26394b04-af21-40a2-9038-65abbaaa52aa"
      },
      "outputs": [],
      "source": [
        "# Drop columns by indeces_to_drop\n",
        "\n",
        "eppes = eppes.drop(eppes.columns[indeces_to_drop], axis = 1)\n",
        "eppes"
      ]
    },
    {
      "cell_type": "markdown",
      "metadata": {
        "id": "rTSnGNWL2172"
      },
      "source": [
        "## Deal with NAs"
      ]
    },
    {
      "cell_type": "code",
      "execution_count": null,
      "metadata": {
        "colab": {
          "base_uri": "https://localhost:8080/"
        },
        "id": "WLzi6SXj3uB3",
        "outputId": "748b8cde-4cc5-4967-a334-f41246455896"
      },
      "outputs": [],
      "source": [
        "# Check for NAs in columns\n",
        "with pd.option_context('display.max_rows', None, 'display.max_columns', None):\n",
        "  print(eppes.isna().sum())"
      ]
    },
    {
      "cell_type": "markdown",
      "metadata": {
        "id": "HCUkaViTGLcE"
      },
      "source": [
        "Result: qc2a_1 and qc2a_2, d1, d25, d40b contain NAs"
      ]
    },
    {
      "cell_type": "markdown",
      "metadata": {
        "id": "R0rrgMiz4L_Z"
      },
      "source": [
        "Next Steps\n",
        "\n",
        "1. **qc2a_1** and **qc2a_2**: \n",
        "\n",
        "For each of the following statements, please tell me whether you totally agree, tend to agree, tend to disagree or totally disagree.\n",
        "\n",
        "qc2a_1: Measures to reduce the public deficit and debt in (OUR COUNTRY) cannot be delayed\n",
        "\n",
        "qc2a_2: Measures to reduce the public deficit and debt in (OUR COUNTRY) are not a priority for now\n",
        "\n",
        "For these two questions, the dataset was split into two groups (former columns index 12) and only group 1 was asked qc2a_1, only group 2 was asked qc2a_2\n",
        "\n",
        "-> Drop qc2a_1 and qc2a_2 columns\n",
        "\n",
        "2. **d1**: \n",
        "\n",
        "In political matters people talk of \"the left\" and \"the right\". How would you place your views on this scale?\n",
        "\n",
        "Important Question\n",
        "\n",
        "-> Change values of rows with d1 == NA to d1 == 12 (DK)\n",
        "\n",
        "3. **d25**:\n",
        "\n",
        "Would you say you live in a...? Rural area or village, small or middle sized town, etc.\n",
        "\n",
        "-> Change values of rows with d25 == NA to d25 == 4 (DK)\n",
        "\n",
        "4. **d40b**:\n",
        "\n",
        "Could you tell me how many children less than 10 years old live in your household?\n",
        "\n",
        "-> replace values with 0"
      ]
    },
    {
      "cell_type": "code",
      "execution_count": null,
      "metadata": {
        "id": "iyyhPQ8x6n5v"
      },
      "outputs": [],
      "source": [
        "# Drop qc2a_1 and qc2a_2\n",
        "\n",
        "eppes = eppes.drop(['qc2a_1', 'qc2a_2'], axis=1)\n",
        "\n",
        "# Replace values of rows with d1 == NA with d1 == 12\n",
        "\n",
        "eppes.loc[eppes['d1'].isna(), 'd1'] = 12\n",
        "\n",
        "# Replace values of rows with d25 == NA with d25 == 4\n",
        "\n",
        "eppes.loc[eppes['d25'].isna(), 'd25'] = 4\n",
        "\n",
        "# Replace values of rows with d40b == NA with d40b == 0\n",
        "\n",
        "eppes.loc[eppes['d40b'].isna(), 'd40b'] = 0\n",
        "\n",
        "\n",
        "## warum nicht die NAs bei d40b direkt droppen? sind im endeffekt ja auch nur 2 observations."
      ]
    },
    {
      "cell_type": "code",
      "execution_count": null,
      "metadata": {
        "colab": {
          "base_uri": "https://localhost:8080/"
        },
        "id": "m7JXVrcyBk29",
        "outputId": "b880811b-f48f-443a-f628-8b49363882ba"
      },
      "outputs": [],
      "source": [
        "# Check for NAs in eppes\n",
        "eppes.isna().sum().sum()"
      ]
    },
    {
      "cell_type": "markdown",
      "metadata": {
        "id": "adZpGkgzJ1Z-"
      },
      "source": [
        "## Delete rows with NAs in ordinal variables"
      ]
    },
    {
      "cell_type": "code",
      "execution_count": null,
      "metadata": {
        "colab": {
          "base_uri": "https://localhost:8080/",
          "height": 361
        },
        "id": "FhUtlHeVA3XM",
        "outputId": "bc5be849-6f5c-4657-f0d4-a88573f73efb"
      },
      "outputs": [],
      "source": [
        "eppes.describe()"
      ]
    },
    {
      "cell_type": "markdown",
      "metadata": {
        "id": "HmZq4iAEE8Am"
      },
      "source": [
        "d1, d7 and d11 have values of 97/98?"
      ]
    },
    {
      "cell_type": "code",
      "execution_count": null,
      "metadata": {
        "colab": {
          "base_uri": "https://localhost:8080/"
        },
        "id": "wdAfBQ2jFIUV",
        "outputId": "00457f46-f486-4fa6-a937-f240d34b67d1"
      },
      "outputs": [],
      "source": [
        "eppes[\"d1\"].value_counts()"
      ]
    },
    {
      "cell_type": "code",
      "execution_count": null,
      "metadata": {
        "colab": {
          "base_uri": "https://localhost:8080/"
        },
        "id": "LZn9JXEtFLav",
        "outputId": "8cd63007-e9e8-473c-ad22-cd5bac7f82fd"
      },
      "outputs": [],
      "source": [
        "eppes[\"d7\"].value_counts()"
      ]
    },
    {
      "cell_type": "code",
      "execution_count": null,
      "metadata": {
        "colab": {
          "base_uri": "https://localhost:8080/"
        },
        "id": "o2_0gSSEFUYl",
        "outputId": "845d5a74-8952-446d-d34d-8cafe6bab125"
      },
      "outputs": [],
      "source": [
        "eppes[\"d11\"].value_counts()"
      ]
    },
    {
      "cell_type": "markdown",
      "metadata": {
        "id": "7qV_eMPWHi0Y"
      },
      "source": [
        "Explanation: \n",
        "\n",
        "- d1 and d7: probably DKs\n",
        "- d11: true age, no changes necessary\n",
        "- for most variables: Highest number stands for DK\n"
      ]
    },
    {
      "cell_type": "code",
      "execution_count": null,
      "metadata": {
        "colab": {
          "base_uri": "https://localhost:8080/"
        },
        "id": "q2aOgVHg2lDN",
        "outputId": "798a64b9-27bb-4b13-e52c-c891045bd380"
      },
      "outputs": [],
      "source": [
        "for i in range(86):\n",
        "  print(eppes[col_names_ordinal[i]].value_counts())"
      ]
    },
    {
      "cell_type": "code",
      "execution_count": null,
      "metadata": {
        "colab": {
          "base_uri": "https://localhost:8080/"
        },
        "id": "0xg1b4DOYEIo",
        "outputId": "ece42ac0-7d48-4651-cb6b-004ec03e3041"
      },
      "outputs": [],
      "source": [
        "columns_analysis[\"encoding\"].value_counts()"
      ]
    },
    {
      "cell_type": "code",
      "execution_count": null,
      "metadata": {
        "colab": {
          "base_uri": "https://localhost:8080/"
        },
        "id": "Y4UxVbEm1DXv",
        "outputId": "95ecd8d7-e615-42e1-f85a-9bd5c1de95a5"
      },
      "outputs": [],
      "source": [
        "# Create list of names of ordinal columns \n",
        "\n",
        "col_names_ordinal = []\n",
        "\n",
        "for i in range(872):\n",
        "  if columns_analysis.iloc[i, 3] == 'ordinal':\n",
        "    col_names_ordinal.append(columns_analysis.iloc[i, 1])\n",
        "\n",
        "# Delete qa1a_1 and qa1a_2 see above\n",
        "col_names_ordinal.remove('qc2a_1')\n",
        "col_names_ordinal.remove('qc2a_2')\n",
        "\n",
        "print(col_names_ordinal)"
      ]
    },
    {
      "cell_type": "code",
      "execution_count": null,
      "metadata": {
        "id": "DGAN_kp6uMd8"
      },
      "outputs": [],
      "source": [
        "# Drop DKs for ordinal variables\n",
        "\n",
        "for i in range(86):\n",
        "  eppes = eppes[eppes[col_names_ordinal[i]] != max(eppes[col_names_ordinal[i]])]\n"
      ]
    },
    {
      "cell_type": "code",
      "execution_count": null,
      "metadata": {
        "colab": {
          "base_uri": "https://localhost:8080/"
        },
        "id": "vHdCsvZOyrSy",
        "outputId": "187e6a0d-78a9-44be-f6b6-4e1ba5d86321"
      },
      "outputs": [],
      "source": [
        "for i in range(86):\n",
        "  print(eppes[col_names_ordinal[i]].value_counts())"
      ]
    },
    {
      "cell_type": "code",
      "execution_count": null,
      "metadata": {
        "colab": {
          "base_uri": "https://localhost:8080/",
          "height": 361
        },
        "id": "iM1t3z_qxSff",
        "outputId": "74302b96-f38e-4015-9400-10954a638fd5"
      },
      "outputs": [],
      "source": [
        "eppes.describe()"
      ]
    },
    {
      "cell_type": "code",
      "execution_count": null,
      "metadata": {
        "colab": {
          "base_uri": "https://localhost:8080/"
        },
        "id": "f2E8Mu5P2FRc",
        "outputId": "4bbc7786-107c-426d-c110-253fe0ae1b89"
      },
      "outputs": [],
      "source": [
        "# Data Exploration\n",
        "\n",
        "with pd.option_context('display.max_rows', None, 'display.max_columns', None):\n",
        "    print(eppes.dtypes)"
      ]
    },
    {
      "cell_type": "code",
      "execution_count": null,
      "metadata": {
        "id": "puP1epkjX5Sx"
      },
      "outputs": [],
      "source": []
    },
    {
      "cell_type": "markdown",
      "metadata": {
        "id": "tIAulYkCXwfl"
      },
      "source": [
        "## Change Value type from float to object for categoricals"
      ]
    },
    {
      "cell_type": "code",
      "execution_count": null,
      "metadata": {
        "colab": {
          "base_uri": "https://localhost:8080/"
        },
        "id": "Viajva-I2l7Q",
        "outputId": "82fd6b74-176e-4509-dfbd-b67e0c937ebb"
      },
      "outputs": [],
      "source": [
        "eppes.dtypes.value_counts()"
      ]
    },
    {
      "cell_type": "code",
      "execution_count": null,
      "metadata": {},
      "outputs": [],
      "source": [
        "# Create list of names of categorical columns \n",
        "\n",
        "col_names_categorical = []\n",
        "\n",
        "for i in range(872):\n",
        "  if columns_analysis.iloc[i, 3] == 'categorical':\n",
        "    col_names_categorical.append(columns_analysis.iloc[i, 1])"
      ]
    },
    {
      "cell_type": "code",
      "execution_count": null,
      "metadata": {},
      "outputs": [],
      "source": [
        "# Change datatype of categorical variables to object\n",
        "\n",
        "eppes_clean = eppes\n",
        "\n",
        "eppes_clean[col_names_categorical] = eppes_clean[col_names_categorical].astype('object')\n",
        "\n",
        "eppes_clean.dtypes.value_counts()"
      ]
    }
  ],
  "metadata": {
    "accelerator": "GPU",
    "colab": {
      "collapsed_sections": [],
      "include_colab_link": true,
      "provenance": []
    },
    "kernelspec": {
      "display_name": "Python 3.10.5 ('Machine-Learning-Project-K3kAtfCK')",
      "language": "python",
      "name": "python3"
    },
    "language_info": {
      "codemirror_mode": {
        "name": "ipython",
        "version": 3
      },
      "file_extension": ".py",
      "mimetype": "text/x-python",
      "name": "python",
      "nbconvert_exporter": "python",
      "pygments_lexer": "ipython3",
      "version": "3.10.5"
    },
    "vscode": {
      "interpreter": {
        "hash": "d776d6ed3af7d3b49847a0099a298aa8d78d20c8f42c0601505d3117fd4dfc67"
      }
    }
  },
  "nbformat": 4,
  "nbformat_minor": 0
}
