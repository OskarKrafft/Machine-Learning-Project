{
  "nbformat": 4,
  "nbformat_minor": 0,
  "metadata": {
    "colab": {
      "provenance": [],
      "authorship_tag": "ABX9TyNDWT3YLeabwrtdvFe+7jLO",
      "include_colab_link": true
    },
    "kernelspec": {
      "name": "python3",
      "display_name": "Python 3"
    },
    "language_info": {
      "name": "python"
    }
  },
  "cells": [
    {
      "cell_type": "markdown",
      "metadata": {
        "id": "view-in-github",
        "colab_type": "text"
      },
      "source": [
        "<a href=\"https://colab.research.google.com/github/OskarKrafft/Machine-Learning-Project/blob/main/02_Data_Exploration_Visualisation.ipynb\" target=\"_parent\"><img src=\"https://colab.research.google.com/assets/colab-badge.svg\" alt=\"Open In Colab\"/></a>"
      ]
    },
    {
      "cell_type": "markdown",
      "source": [
        "#Set up WD"
      ],
      "metadata": {
        "id": "QqRsEHS_i-Aw"
      }
    },
    {
      "cell_type": "code",
      "execution_count": 2,
      "metadata": {
        "colab": {
          "base_uri": "https://localhost:8080/"
        },
        "id": "Qhtq_BtxilWa",
        "outputId": "9ce36904-309a-412b-ccf1-1b8a95d5a10c"
      },
      "outputs": [
        {
          "output_type": "stream",
          "name": "stdout",
          "text": [
            "Mounted at /content/drive\n"
          ]
        }
      ],
      "source": [
        "# Mount GDrive to facilitate data import\n",
        "from google.colab import drive\n",
        "drive.mount('/content/drive')"
      ]
    },
    {
      "cell_type": "code",
      "source": [
        "# Change working directory to project folder\n",
        "%cd /content/drive/MyDrive/Colab Notebooks/Machine-Learning-Project"
      ],
      "metadata": {
        "colab": {
          "base_uri": "https://localhost:8080/"
        },
        "id": "zXfcXfhrjRam",
        "outputId": "36d9706c-d3c6-400f-9f42-11820a4c5865"
      },
      "execution_count": 3,
      "outputs": [
        {
          "output_type": "stream",
          "name": "stdout",
          "text": [
            "/content/drive/MyDrive/Colab Notebooks/Machine-Learning-Project\n"
          ]
        }
      ]
    },
    {
      "cell_type": "markdown",
      "source": [
        "# Import data and set categoricals"
      ],
      "metadata": {
        "id": "Cvyf8FizjcDW"
      }
    },
    {
      "cell_type": "code",
      "source": [
        "# Importing the data\n",
        "\n",
        "import pandas as pd\n",
        "eppes_cleaned = pd.read_csv('eppes_cleaned.csv')\n",
        "eppes_cleaned = eppes_cleaned.drop(eppes_cleaned.columns[0], axis = 1)\n",
        "eppes_cleaned"
      ],
      "metadata": {
        "colab": {
          "base_uri": "https://localhost:8080/",
          "height": 419
        },
        "id": "APZ8NXiCjatS",
        "outputId": "8f230a4c-ecb7-47af-ba88-b9b4a81abfc1"
      },
      "execution_count": 4,
      "outputs": [
        {
          "output_type": "execute_result",
          "data": {
            "text/plain": [
              "       q1.1  q1.2  q1.3  q1.4  q1.5  q1.6  q1.7  q1.8  q1.9  q1.10  ...  d43a  \\\n",
              "0       1.0   0.0   0.0   0.0   0.0   0.0   0.0   0.0   0.0    0.0  ...   2.0   \n",
              "1       0.0   0.0   0.0   1.0   0.0   0.0   0.0   0.0   0.0    0.0  ...   2.0   \n",
              "2       1.0   0.0   0.0   0.0   0.0   0.0   0.0   0.0   0.0    0.0  ...   2.0   \n",
              "3       0.0   0.0   0.0   0.0   0.0   0.0   0.0   0.0   0.0    0.0  ...   1.0   \n",
              "4       0.0   0.0   0.0   0.0   0.0   0.0   0.0   1.0   0.0    0.0  ...   2.0   \n",
              "...     ...   ...   ...   ...   ...   ...   ...   ...   ...    ...  ...   ...   \n",
              "27459   0.0   0.0   0.0   0.0   0.0   0.0   0.0   0.0   0.0    0.0  ...   2.0   \n",
              "27460   0.0   0.0   0.0   0.0   0.0   0.0   0.0   0.0   0.0    0.0  ...   2.0   \n",
              "27461   0.0   0.0   0.0   0.0   0.0   0.0   0.0   0.0   0.0    0.0  ...   1.0   \n",
              "27462   0.0   0.0   0.0   0.0   0.0   0.0   0.0   0.0   0.0    0.0  ...   2.0   \n",
              "27463   0.0   0.0   0.0   0.0   0.0   0.0   0.0   0.0   0.0    0.0  ...   2.0   \n",
              "\n",
              "       d43b  d46.8  d60  d62_1  d62_2  d63  d72_1  d72_2  d77  \n",
              "0       1.0    1.0  1.0    3.0    6.0  1.0    3.0    3.0  2.0  \n",
              "1       1.0    1.0  3.0    2.0    6.0  3.0    2.0    2.0  3.0  \n",
              "2       2.0    1.0  1.0    1.0    5.0  2.0    2.0    2.0  1.0  \n",
              "3       1.0    1.0  2.0    1.0    1.0  3.0    2.0    2.0  1.0  \n",
              "4       1.0    1.0  1.0    1.0    5.0  2.0    2.0    2.0  3.0  \n",
              "...     ...    ...  ...    ...    ...  ...    ...    ...  ...  \n",
              "27459   1.0    1.0  2.0    1.0    1.0  3.0    2.0    2.0  2.0  \n",
              "27460   1.0    1.0  2.0    1.0    1.0  3.0    2.0    2.0  2.0  \n",
              "27461   1.0    0.0  3.0    6.0    6.0  3.0    4.0    2.0  2.0  \n",
              "27462   1.0    1.0  2.0    6.0    6.0  4.0    2.0    2.0  2.0  \n",
              "27463   1.0    1.0  2.0    1.0    1.0  3.0    5.0    2.0  3.0  \n",
              "\n",
              "[27464 rows x 311 columns]"
            ],
            "text/html": [
              "\n",
              "  <div id=\"df-40a6b1fb-a7ca-498d-996a-f5939977042c\">\n",
              "    <div class=\"colab-df-container\">\n",
              "      <div>\n",
              "<style scoped>\n",
              "    .dataframe tbody tr th:only-of-type {\n",
              "        vertical-align: middle;\n",
              "    }\n",
              "\n",
              "    .dataframe tbody tr th {\n",
              "        vertical-align: top;\n",
              "    }\n",
              "\n",
              "    .dataframe thead th {\n",
              "        text-align: right;\n",
              "    }\n",
              "</style>\n",
              "<table border=\"1\" class=\"dataframe\">\n",
              "  <thead>\n",
              "    <tr style=\"text-align: right;\">\n",
              "      <th></th>\n",
              "      <th>q1.1</th>\n",
              "      <th>q1.2</th>\n",
              "      <th>q1.3</th>\n",
              "      <th>q1.4</th>\n",
              "      <th>q1.5</th>\n",
              "      <th>q1.6</th>\n",
              "      <th>q1.7</th>\n",
              "      <th>q1.8</th>\n",
              "      <th>q1.9</th>\n",
              "      <th>q1.10</th>\n",
              "      <th>...</th>\n",
              "      <th>d43a</th>\n",
              "      <th>d43b</th>\n",
              "      <th>d46.8</th>\n",
              "      <th>d60</th>\n",
              "      <th>d62_1</th>\n",
              "      <th>d62_2</th>\n",
              "      <th>d63</th>\n",
              "      <th>d72_1</th>\n",
              "      <th>d72_2</th>\n",
              "      <th>d77</th>\n",
              "    </tr>\n",
              "  </thead>\n",
              "  <tbody>\n",
              "    <tr>\n",
              "      <th>0</th>\n",
              "      <td>1.0</td>\n",
              "      <td>0.0</td>\n",
              "      <td>0.0</td>\n",
              "      <td>0.0</td>\n",
              "      <td>0.0</td>\n",
              "      <td>0.0</td>\n",
              "      <td>0.0</td>\n",
              "      <td>0.0</td>\n",
              "      <td>0.0</td>\n",
              "      <td>0.0</td>\n",
              "      <td>...</td>\n",
              "      <td>2.0</td>\n",
              "      <td>1.0</td>\n",
              "      <td>1.0</td>\n",
              "      <td>1.0</td>\n",
              "      <td>3.0</td>\n",
              "      <td>6.0</td>\n",
              "      <td>1.0</td>\n",
              "      <td>3.0</td>\n",
              "      <td>3.0</td>\n",
              "      <td>2.0</td>\n",
              "    </tr>\n",
              "    <tr>\n",
              "      <th>1</th>\n",
              "      <td>0.0</td>\n",
              "      <td>0.0</td>\n",
              "      <td>0.0</td>\n",
              "      <td>1.0</td>\n",
              "      <td>0.0</td>\n",
              "      <td>0.0</td>\n",
              "      <td>0.0</td>\n",
              "      <td>0.0</td>\n",
              "      <td>0.0</td>\n",
              "      <td>0.0</td>\n",
              "      <td>...</td>\n",
              "      <td>2.0</td>\n",
              "      <td>1.0</td>\n",
              "      <td>1.0</td>\n",
              "      <td>3.0</td>\n",
              "      <td>2.0</td>\n",
              "      <td>6.0</td>\n",
              "      <td>3.0</td>\n",
              "      <td>2.0</td>\n",
              "      <td>2.0</td>\n",
              "      <td>3.0</td>\n",
              "    </tr>\n",
              "    <tr>\n",
              "      <th>2</th>\n",
              "      <td>1.0</td>\n",
              "      <td>0.0</td>\n",
              "      <td>0.0</td>\n",
              "      <td>0.0</td>\n",
              "      <td>0.0</td>\n",
              "      <td>0.0</td>\n",
              "      <td>0.0</td>\n",
              "      <td>0.0</td>\n",
              "      <td>0.0</td>\n",
              "      <td>0.0</td>\n",
              "      <td>...</td>\n",
              "      <td>2.0</td>\n",
              "      <td>2.0</td>\n",
              "      <td>1.0</td>\n",
              "      <td>1.0</td>\n",
              "      <td>1.0</td>\n",
              "      <td>5.0</td>\n",
              "      <td>2.0</td>\n",
              "      <td>2.0</td>\n",
              "      <td>2.0</td>\n",
              "      <td>1.0</td>\n",
              "    </tr>\n",
              "    <tr>\n",
              "      <th>3</th>\n",
              "      <td>0.0</td>\n",
              "      <td>0.0</td>\n",
              "      <td>0.0</td>\n",
              "      <td>0.0</td>\n",
              "      <td>0.0</td>\n",
              "      <td>0.0</td>\n",
              "      <td>0.0</td>\n",
              "      <td>0.0</td>\n",
              "      <td>0.0</td>\n",
              "      <td>0.0</td>\n",
              "      <td>...</td>\n",
              "      <td>1.0</td>\n",
              "      <td>1.0</td>\n",
              "      <td>1.0</td>\n",
              "      <td>2.0</td>\n",
              "      <td>1.0</td>\n",
              "      <td>1.0</td>\n",
              "      <td>3.0</td>\n",
              "      <td>2.0</td>\n",
              "      <td>2.0</td>\n",
              "      <td>1.0</td>\n",
              "    </tr>\n",
              "    <tr>\n",
              "      <th>4</th>\n",
              "      <td>0.0</td>\n",
              "      <td>0.0</td>\n",
              "      <td>0.0</td>\n",
              "      <td>0.0</td>\n",
              "      <td>0.0</td>\n",
              "      <td>0.0</td>\n",
              "      <td>0.0</td>\n",
              "      <td>1.0</td>\n",
              "      <td>0.0</td>\n",
              "      <td>0.0</td>\n",
              "      <td>...</td>\n",
              "      <td>2.0</td>\n",
              "      <td>1.0</td>\n",
              "      <td>1.0</td>\n",
              "      <td>1.0</td>\n",
              "      <td>1.0</td>\n",
              "      <td>5.0</td>\n",
              "      <td>2.0</td>\n",
              "      <td>2.0</td>\n",
              "      <td>2.0</td>\n",
              "      <td>3.0</td>\n",
              "    </tr>\n",
              "    <tr>\n",
              "      <th>...</th>\n",
              "      <td>...</td>\n",
              "      <td>...</td>\n",
              "      <td>...</td>\n",
              "      <td>...</td>\n",
              "      <td>...</td>\n",
              "      <td>...</td>\n",
              "      <td>...</td>\n",
              "      <td>...</td>\n",
              "      <td>...</td>\n",
              "      <td>...</td>\n",
              "      <td>...</td>\n",
              "      <td>...</td>\n",
              "      <td>...</td>\n",
              "      <td>...</td>\n",
              "      <td>...</td>\n",
              "      <td>...</td>\n",
              "      <td>...</td>\n",
              "      <td>...</td>\n",
              "      <td>...</td>\n",
              "      <td>...</td>\n",
              "      <td>...</td>\n",
              "    </tr>\n",
              "    <tr>\n",
              "      <th>27459</th>\n",
              "      <td>0.0</td>\n",
              "      <td>0.0</td>\n",
              "      <td>0.0</td>\n",
              "      <td>0.0</td>\n",
              "      <td>0.0</td>\n",
              "      <td>0.0</td>\n",
              "      <td>0.0</td>\n",
              "      <td>0.0</td>\n",
              "      <td>0.0</td>\n",
              "      <td>0.0</td>\n",
              "      <td>...</td>\n",
              "      <td>2.0</td>\n",
              "      <td>1.0</td>\n",
              "      <td>1.0</td>\n",
              "      <td>2.0</td>\n",
              "      <td>1.0</td>\n",
              "      <td>1.0</td>\n",
              "      <td>3.0</td>\n",
              "      <td>2.0</td>\n",
              "      <td>2.0</td>\n",
              "      <td>2.0</td>\n",
              "    </tr>\n",
              "    <tr>\n",
              "      <th>27460</th>\n",
              "      <td>0.0</td>\n",
              "      <td>0.0</td>\n",
              "      <td>0.0</td>\n",
              "      <td>0.0</td>\n",
              "      <td>0.0</td>\n",
              "      <td>0.0</td>\n",
              "      <td>0.0</td>\n",
              "      <td>0.0</td>\n",
              "      <td>0.0</td>\n",
              "      <td>0.0</td>\n",
              "      <td>...</td>\n",
              "      <td>2.0</td>\n",
              "      <td>1.0</td>\n",
              "      <td>1.0</td>\n",
              "      <td>2.0</td>\n",
              "      <td>1.0</td>\n",
              "      <td>1.0</td>\n",
              "      <td>3.0</td>\n",
              "      <td>2.0</td>\n",
              "      <td>2.0</td>\n",
              "      <td>2.0</td>\n",
              "    </tr>\n",
              "    <tr>\n",
              "      <th>27461</th>\n",
              "      <td>0.0</td>\n",
              "      <td>0.0</td>\n",
              "      <td>0.0</td>\n",
              "      <td>0.0</td>\n",
              "      <td>0.0</td>\n",
              "      <td>0.0</td>\n",
              "      <td>0.0</td>\n",
              "      <td>0.0</td>\n",
              "      <td>0.0</td>\n",
              "      <td>0.0</td>\n",
              "      <td>...</td>\n",
              "      <td>1.0</td>\n",
              "      <td>1.0</td>\n",
              "      <td>0.0</td>\n",
              "      <td>3.0</td>\n",
              "      <td>6.0</td>\n",
              "      <td>6.0</td>\n",
              "      <td>3.0</td>\n",
              "      <td>4.0</td>\n",
              "      <td>2.0</td>\n",
              "      <td>2.0</td>\n",
              "    </tr>\n",
              "    <tr>\n",
              "      <th>27462</th>\n",
              "      <td>0.0</td>\n",
              "      <td>0.0</td>\n",
              "      <td>0.0</td>\n",
              "      <td>0.0</td>\n",
              "      <td>0.0</td>\n",
              "      <td>0.0</td>\n",
              "      <td>0.0</td>\n",
              "      <td>0.0</td>\n",
              "      <td>0.0</td>\n",
              "      <td>0.0</td>\n",
              "      <td>...</td>\n",
              "      <td>2.0</td>\n",
              "      <td>1.0</td>\n",
              "      <td>1.0</td>\n",
              "      <td>2.0</td>\n",
              "      <td>6.0</td>\n",
              "      <td>6.0</td>\n",
              "      <td>4.0</td>\n",
              "      <td>2.0</td>\n",
              "      <td>2.0</td>\n",
              "      <td>2.0</td>\n",
              "    </tr>\n",
              "    <tr>\n",
              "      <th>27463</th>\n",
              "      <td>0.0</td>\n",
              "      <td>0.0</td>\n",
              "      <td>0.0</td>\n",
              "      <td>0.0</td>\n",
              "      <td>0.0</td>\n",
              "      <td>0.0</td>\n",
              "      <td>0.0</td>\n",
              "      <td>0.0</td>\n",
              "      <td>0.0</td>\n",
              "      <td>0.0</td>\n",
              "      <td>...</td>\n",
              "      <td>2.0</td>\n",
              "      <td>1.0</td>\n",
              "      <td>1.0</td>\n",
              "      <td>2.0</td>\n",
              "      <td>1.0</td>\n",
              "      <td>1.0</td>\n",
              "      <td>3.0</td>\n",
              "      <td>5.0</td>\n",
              "      <td>2.0</td>\n",
              "      <td>3.0</td>\n",
              "    </tr>\n",
              "  </tbody>\n",
              "</table>\n",
              "<p>27464 rows × 311 columns</p>\n",
              "</div>\n",
              "      <button class=\"colab-df-convert\" onclick=\"convertToInteractive('df-40a6b1fb-a7ca-498d-996a-f5939977042c')\"\n",
              "              title=\"Convert this dataframe to an interactive table.\"\n",
              "              style=\"display:none;\">\n",
              "        \n",
              "  <svg xmlns=\"http://www.w3.org/2000/svg\" height=\"24px\"viewBox=\"0 0 24 24\"\n",
              "       width=\"24px\">\n",
              "    <path d=\"M0 0h24v24H0V0z\" fill=\"none\"/>\n",
              "    <path d=\"M18.56 5.44l.94 2.06.94-2.06 2.06-.94-2.06-.94-.94-2.06-.94 2.06-2.06.94zm-11 1L8.5 8.5l.94-2.06 2.06-.94-2.06-.94L8.5 2.5l-.94 2.06-2.06.94zm10 10l.94 2.06.94-2.06 2.06-.94-2.06-.94-.94-2.06-.94 2.06-2.06.94z\"/><path d=\"M17.41 7.96l-1.37-1.37c-.4-.4-.92-.59-1.43-.59-.52 0-1.04.2-1.43.59L10.3 9.45l-7.72 7.72c-.78.78-.78 2.05 0 2.83L4 21.41c.39.39.9.59 1.41.59.51 0 1.02-.2 1.41-.59l7.78-7.78 2.81-2.81c.8-.78.8-2.07 0-2.86zM5.41 20L4 18.59l7.72-7.72 1.47 1.35L5.41 20z\"/>\n",
              "  </svg>\n",
              "      </button>\n",
              "      \n",
              "  <style>\n",
              "    .colab-df-container {\n",
              "      display:flex;\n",
              "      flex-wrap:wrap;\n",
              "      gap: 12px;\n",
              "    }\n",
              "\n",
              "    .colab-df-convert {\n",
              "      background-color: #E8F0FE;\n",
              "      border: none;\n",
              "      border-radius: 50%;\n",
              "      cursor: pointer;\n",
              "      display: none;\n",
              "      fill: #1967D2;\n",
              "      height: 32px;\n",
              "      padding: 0 0 0 0;\n",
              "      width: 32px;\n",
              "    }\n",
              "\n",
              "    .colab-df-convert:hover {\n",
              "      background-color: #E2EBFA;\n",
              "      box-shadow: 0px 1px 2px rgba(60, 64, 67, 0.3), 0px 1px 3px 1px rgba(60, 64, 67, 0.15);\n",
              "      fill: #174EA6;\n",
              "    }\n",
              "\n",
              "    [theme=dark] .colab-df-convert {\n",
              "      background-color: #3B4455;\n",
              "      fill: #D2E3FC;\n",
              "    }\n",
              "\n",
              "    [theme=dark] .colab-df-convert:hover {\n",
              "      background-color: #434B5C;\n",
              "      box-shadow: 0px 1px 3px 1px rgba(0, 0, 0, 0.15);\n",
              "      filter: drop-shadow(0px 1px 2px rgba(0, 0, 0, 0.3));\n",
              "      fill: #FFFFFF;\n",
              "    }\n",
              "  </style>\n",
              "\n",
              "      <script>\n",
              "        const buttonEl =\n",
              "          document.querySelector('#df-40a6b1fb-a7ca-498d-996a-f5939977042c button.colab-df-convert');\n",
              "        buttonEl.style.display =\n",
              "          google.colab.kernel.accessAllowed ? 'block' : 'none';\n",
              "\n",
              "        async function convertToInteractive(key) {\n",
              "          const element = document.querySelector('#df-40a6b1fb-a7ca-498d-996a-f5939977042c');\n",
              "          const dataTable =\n",
              "            await google.colab.kernel.invokeFunction('convertToInteractive',\n",
              "                                                     [key], {});\n",
              "          if (!dataTable) return;\n",
              "\n",
              "          const docLinkHtml = 'Like what you see? Visit the ' +\n",
              "            '<a target=\"_blank\" href=https://colab.research.google.com/notebooks/data_table.ipynb>data table notebook</a>'\n",
              "            + ' to learn more about interactive tables.';\n",
              "          element.innerHTML = '';\n",
              "          dataTable['output_type'] = 'display_data';\n",
              "          await google.colab.output.renderOutput(dataTable, element);\n",
              "          const docLink = document.createElement('div');\n",
              "          docLink.innerHTML = docLinkHtml;\n",
              "          element.appendChild(docLink);\n",
              "        }\n",
              "      </script>\n",
              "    </div>\n",
              "  </div>\n",
              "  "
            ]
          },
          "metadata": {},
          "execution_count": 4
        }
      ]
    },
    {
      "cell_type": "code",
      "source": [
        "eppes_cleaned.dtypes.value_counts()"
      ],
      "metadata": {
        "colab": {
          "base_uri": "https://localhost:8080/"
        },
        "id": "UFkDOs8aj76K",
        "outputId": "2500c2b9-cecd-473f-f413-111ee68f17bb"
      },
      "execution_count": 5,
      "outputs": [
        {
          "output_type": "execute_result",
          "data": {
            "text/plain": [
              "float64    311\n",
              "dtype: int64"
            ]
          },
          "metadata": {},
          "execution_count": 5
        }
      ]
    },
    {
      "cell_type": "code",
      "source": [
        "# Import Excel sheet containing column indeces to be dropped\n",
        "\n",
        "columns_analysis = pd.read_excel(r'Drop_Columns_categorical.xlsx')\n",
        "columns_analysis = columns_analysis.drop(columns_analysis.columns[[0]], axis = 1)"
      ],
      "metadata": {
        "id": "5l2jI6Z9j9mv"
      },
      "execution_count": 6,
      "outputs": []
    },
    {
      "cell_type": "code",
      "source": [
        "# Create list of names of categorical columns \n",
        "\n",
        "col_names_categorical = []\n",
        "\n",
        "for i in range(872):\n",
        "  if columns_analysis.iloc[i, 3] == 'categorical':\n",
        "    col_names_categorical.append(columns_analysis.iloc[i, 1])"
      ],
      "metadata": {
        "id": "CN9yZvjSj_Ou"
      },
      "execution_count": 7,
      "outputs": []
    },
    {
      "cell_type": "code",
      "source": [
        "# Change datatype of categorical variables to object\n",
        "\n",
        "eppes_cleaned[col_names_categorical] = eppes_cleaned[col_names_categorical].astype('object')\n",
        "\n",
        "eppes_cleaned.dtypes.value_counts()"
      ],
      "metadata": {
        "colab": {
          "base_uri": "https://localhost:8080/"
        },
        "id": "PG0viUSAkBhw",
        "outputId": "9caaf750-1d85-48e6-de46-e6038646fcdf"
      },
      "execution_count": 8,
      "outputs": [
        {
          "output_type": "execute_result",
          "data": {
            "text/plain": [
              "object     167\n",
              "float64    144\n",
              "dtype: int64"
            ]
          },
          "metadata": {},
          "execution_count": 8
        }
      ]
    },
    {
      "cell_type": "markdown",
      "source": [
        "# Data Exploration and Visualisation"
      ],
      "metadata": {
        "id": "1kGvHxH2kJwC"
      }
    },
    {
      "cell_type": "code",
      "source": [
        "import seaborn as sns\n",
        "from matplotlib import rcParams"
      ],
      "metadata": {
        "id": "yr81DZ-KkhIY"
      },
      "execution_count": 9,
      "outputs": []
    },
    {
      "cell_type": "markdown",
      "source": [
        "## Simple count statistics"
      ],
      "metadata": {
        "id": "6WrMDHT3vLl0"
      }
    },
    {
      "cell_type": "code",
      "source": [
        "# voting behavior percentages\n",
        "eppes_cleaned[\"qg1\"].value_counts(normalize = True)"
      ],
      "metadata": {
        "id": "ATUNtqUcLUBZ",
        "outputId": "25125728-1c98-4c32-f92c-1e2f37acfe02",
        "colab": {
          "base_uri": "https://localhost:8080/"
        }
      },
      "execution_count": 10,
      "outputs": [
        {
          "output_type": "execute_result",
          "data": {
            "text/plain": [
              "1.0    0.546461\n",
              "2.0    0.453539\n",
              "Name: qg1, dtype: float64"
            ]
          },
          "metadata": {},
          "execution_count": 10
        }
      ]
    },
    {
      "cell_type": "code",
      "source": [
        "# voting behavior total count with percentages\n",
        "\n",
        "rcParams['figure.figsize'] = 5,3.5\n",
        "\n",
        "countplot = sns.countplot(data = eppes_cleaned, x = \"qg1\", order=eppes_cleaned[\"qg1\"].value_counts(ascending=False).index, palette='PuBuGn_r')\n",
        "countplot.set(xlabel='', ylabel='count')\n",
        "countplot.set(xticklabels=[\"voted\", \"did not vote\"])\n",
        "countplot.set(title='Voting behavior count (total = 27464)')\n",
        "countplot.set(ylim=(0, 17000))\n",
        "\n",
        "percentage = [54.6, 45.3]\n",
        "\n",
        "patches = countplot.patches\n",
        "for i in range(len(patches)):\n",
        "   x = patches[i].get_x() + patches[i].get_width()/2\n",
        "   y = patches[i].get_height()+300\n",
        "   countplot.annotate('{:.1f}%'.format(percentage[i]), (x, y), ha='center')"
      ],
      "metadata": {
        "colab": {
          "base_uri": "https://localhost:8080/",
          "height": 254
        },
        "id": "AHa_FFAnnb0t",
        "outputId": "05ea7b72-2d0d-4515-e598-39db923b3dfd"
      },
      "execution_count": 22,
      "outputs": [
        {
          "output_type": "display_data",
          "data": {
            "text/plain": [
              "<Figure size 360x252 with 1 Axes>"
            ],
            "image/png": "[encoded data removed]"
          },
          "metadata": {
            "needs_background": "light"
          }
        }
      ]
    },
    {
      "cell_type": "code",
      "source": [
        "# class affiliation percentages\n",
        "\n",
        "eppes_cleaned[\"d63\"].value_counts(normalize = True)"
      ],
      "metadata": {
        "id": "xy0mLAArIMlV",
        "outputId": "cde566bd-a21a-498c-9989-67874177d250",
        "colab": {
          "base_uri": "https://localhost:8080/"
        }
      },
      "execution_count": null,
      "outputs": [
        {
          "output_type": "execute_result",
          "data": {
            "text/plain": [
              "3.0    0.472692\n",
              "1.0    0.264419\n",
              "2.0    0.148194\n",
              "4.0    0.068126\n",
              "9.0    0.022284\n",
              "7.0    0.009758\n",
              "5.0    0.006918\n",
              "8.0    0.005680\n",
              "6.0    0.001930\n",
              "Name: d63, dtype: float64"
            ]
          },
          "metadata": {},
          "execution_count": 118
        }
      ]
    },
    {
      "cell_type": "code",
      "source": [
        "# class affiliation totals with percentages\n",
        "\n",
        "from matplotlib import rcParams\n",
        "\n",
        "# figure size in inches\n",
        "rcParams['figure.figsize'] = 10, 5\n",
        "\n",
        "countplot = sns.countplot(data = eppes_cleaned, x = \"d63\", palette='PuBuGn_r')\n",
        "countplot.set(xlabel='', ylabel='count')\n",
        "countplot.set(xticklabels=[\"working\", \"lower middle\", \"middle\", \"upper middle\", \"higher\", \"other\", \"none\", \"refusal\", \"DK\"])\n",
        "countplot.set(title='Class affiliation (total = 27464)')\n",
        "countplot.set(ylim=(0, 14500))\n",
        "\n",
        "percentage = [26.4, 14.8, 47.3, 6.8, 0.7, 0.2, 1.0, 0.6, 2.2]\n",
        "patches = countplot.patches\n",
        "for i in range(len(patches)):\n",
        "   x = patches[i].get_x() + patches[i].get_width()/2\n",
        "   y = patches[i].get_height()+100\n",
        "   countplot.annotate('{:.1f}%'.format(percentage[i]), (x, y), ha='center')"
      ],
      "metadata": {
        "id": "xGOTz2savKhS",
        "outputId": "80d50f1b-2696-4f49-db7a-66bfe6d58a89",
        "colab": {
          "base_uri": "https://localhost:8080/",
          "height": 336
        }
      },
      "execution_count": 29,
      "outputs": [
        {
          "output_type": "display_data",
          "data": {
            "text/plain": [
              "<Figure size 720x360 with 1 Axes>"
            ],
            "image/png": "[encoded data removed]"
          },
          "metadata": {
            "needs_background": "light"
          }
        }
      ]
    },
    {
      "cell_type": "code",
      "source": [
        "# gender percentages (man = 1, woman = 2)\n",
        "\n",
        "eppes_cleaned[\"d10\"].value_counts(normalize = True)"
      ],
      "metadata": {
        "id": "ALTD6XZuMQdu",
        "outputId": "390a7db0-865d-405d-ef07-8ac14c7ecca4",
        "colab": {
          "base_uri": "https://localhost:8080/"
        }
      },
      "execution_count": null,
      "outputs": [
        {
          "output_type": "execute_result",
          "data": {
            "text/plain": [
              "2.0    0.54231\n",
              "1.0    0.45769\n",
              "Name: d10, dtype: float64"
            ]
          },
          "metadata": {},
          "execution_count": 122
        }
      ]
    },
    {
      "cell_type": "code",
      "source": [
        "# gender total\n",
        "rcParams['figure.figsize'] = 5, 3.5\n",
        "\n",
        "countplot = sns.countplot(data = eppes_cleaned, x = \"d10\", order=[1.0, 2.0], palette='PuBuGn_r')\n",
        "countplot.set(xlabel='', ylabel='count')\n",
        "countplot.set(xticklabels=[\"man\", \"woman\"])\n",
        "countplot.set(title='Gender (total = 27464)')\n",
        "countplot.set(ylim=(0, 17000))\n",
        "\n",
        "percentage = [45.8, 54.2]\n",
        "\n",
        "patches = countplot.patches\n",
        "for i in range(len(patches)):\n",
        "   x = patches[i].get_x() + patches[i].get_width()/2\n",
        "   y = patches[i].get_height()+300\n",
        "   countplot.annotate('{:.1f}%'.format(percentage[i]), (x, y), ha='center')"
      ],
      "metadata": {
        "id": "jMe3lagbv8YQ",
        "outputId": "d1fe0472-2a1d-4d36-b445-2dd5beb34d28",
        "colab": {
          "base_uri": "https://localhost:8080/",
          "height": 254
        }
      },
      "execution_count": 34,
      "outputs": [
        {
          "output_type": "display_data",
          "data": {
            "text/plain": [
              "<Figure size 360x252 with 1 Axes>"
            ],
            "image/png": "[encoded data removed]"
          },
          "metadata": {
            "needs_background": "light"
          }
        }
      ]
    },
    {
      "cell_type": "markdown",
      "source": [
        "## Voting Behavior distributions"
      ],
      "metadata": {
        "id": "UA6OdMwtM1Vk"
      }
    },
    {
      "cell_type": "markdown",
      "source": [
        "### Age"
      ],
      "metadata": {
        "id": "sW_EMVHzggk5"
      }
    },
    {
      "cell_type": "code",
      "source": [
        "# voting behavior and age\n",
        "rcParams['figure.figsize'] = 5, 3.5\n",
        "\n",
        "catplot = sns.catplot(data=eppes_cleaned, x=\"qg1\", y=\"d11\", kind=\"box\", palette='PuBuGn_r')\n",
        "catplot.set(xlabel='voting behavior', ylabel='age')\n",
        "catplot.set(xticklabels=[\"voted\", \"did not vote\"])\n",
        "catplot.set(title='Voting behavior by age')"
      ],
      "metadata": {
        "colab": {
          "base_uri": "https://localhost:8080/",
          "height": 402
        },
        "id": "sZDzxcoelOFa",
        "outputId": "cd9a67e0-3e0e-412b-feb1-75674b4d63ab"
      },
      "execution_count": 40,
      "outputs": [
        {
          "output_type": "execute_result",
          "data": {
            "text/plain": [
              "<seaborn.axisgrid.FacetGrid at 0x7f57aefe1150>"
            ]
          },
          "metadata": {},
          "execution_count": 40
        },
        {
          "output_type": "display_data",
          "data": {
            "text/plain": [
              "<Figure size 360x360 with 1 Axes>"
            ],
            "image/png": "[encoded data removed]"
          },
          "metadata": {
            "needs_background": "light"
          }
        }
      ]
    },
    {
      "cell_type": "markdown",
      "source": [
        "### Gender"
      ],
      "metadata": {
        "id": "EODZPBcggi9K"
      }
    },
    {
      "cell_type": "code",
      "source": [
        "# voting behavior by gender total\n",
        "\n",
        "rcParams['figure.figsize'] = 5, 5\n",
        "\n",
        "countplot = sns.countplot(data = eppes_cleaned, x = \"qg1\", hue = \"d10\", order=eppes_cleaned[\"qg1\"].value_counts(ascending=False).index, palette='PuBuGn_r')\n",
        "countplot.set(xlabel='', ylabel='count')\n",
        "countplot.set(xticklabels=[\"voted\", \"did not vote\"])\n",
        "countplot.set(title='Voting behavior by gender')\n",
        "countplot.set(ylim=(0, 10000))\n",
        "\n",
        "countplot.legend(title='gender', loc='upper right', labels=['man', 'woman'])\n",
        "\n",
        "percentage = [46.9, 44.4, 53.1, 55.6]\n",
        "\n",
        "patches = countplot.patches\n",
        "for i in range(len(patches)):\n",
        "   x = patches[i].get_x() + patches[i].get_width()/2\n",
        "   y = patches[i].get_height()+100\n",
        "   countplot.annotate('{:.1f}%'.format(percentage[i]), (x, y), ha='center')"
      ],
      "metadata": {
        "id": "Uw7-bka7NNV_",
        "outputId": "1f74060e-4a82-4746-d078-f01a02823761",
        "colab": {
          "base_uri": "https://localhost:8080/",
          "height": 336
        }
      },
      "execution_count": 43,
      "outputs": [
        {
          "output_type": "display_data",
          "data": {
            "text/plain": [
              "<Figure size 360x360 with 1 Axes>"
            ],
            "image/png": "[encoded data removed]"
          },
          "metadata": {
            "needs_background": "light"
          }
        }
      ]
    },
    {
      "cell_type": "code",
      "source": [
        "vote_by_gender = eppes_cleaned[\"d10\"].groupby(eppes_cleaned[\"qg1\"]).value_counts(normalize=True).rename('percent').reset_index()\n",
        "vote_by_gender[\"percent\"] = vote_by_gender[\"percent\"].mul(100)\n",
        "\n",
        "vote_by_gender.loc[(vote_by_gender['d10'] == 1), 'd10'] = 'man'\n",
        "vote_by_gender.loc[(vote_by_gender['d10'] == 2), 'd10'] = 'woman'\n",
        "vote_by_gender = vote_by_gender.sort_values(by=['qg1', 'd10'], ascending = True)\n",
        "print(vote_by_gender)"
      ],
      "metadata": {
        "id": "WXic9hfhUD2N",
        "outputId": "15a2b212-41cb-4902-bf6b-fc518611bf57",
        "colab": {
          "base_uri": "https://localhost:8080/"
        }
      },
      "execution_count": 163,
      "outputs": [
        {
          "output_type": "stream",
          "name": "stdout",
          "text": [
            "   qg1    d10    percent\n",
            "1  1.0    man  46.914979\n",
            "0  1.0  woman  53.085021\n",
            "3  2.0    man  44.388247\n",
            "2  2.0  woman  55.611753\n"
          ]
        }
      ]
    },
    {
      "cell_type": "code",
      "source": [
        "# voting behavior by gender percent\n",
        "\n",
        "rcParams['figure.figsize'] = 5, 5\n",
        "\n",
        "barplot = sns.barplot(data = vote_by_gender, x = \"qg1\", y = \"percent\", hue = \"d10\", palette='PuBuGn_r')\n",
        "barplot.set(xlabel='')\n",
        "barplot.set(xticklabels=[\"voted\", \"did not vote\"])\n",
        "barplot.set(title='Voting behavior by gender (percent)')\n",
        "barplot.set(ylim=(0, 100))\n",
        "\n",
        "barplot.legend(title='gender')\n",
        "\n",
        "percentage = [46.9, 44.4, 53.1, 55.6]\n",
        "\n",
        "patches = barplot.patches\n",
        "for i in range(len(patches)):\n",
        "   x = patches[i].get_x() + patches[i].get_width()/2\n",
        "   y = patches[i].get_height()+1\n",
        "   barplot.annotate('{:.1f}%'.format(percentage[i]), (x, y), ha='center')"
      ],
      "metadata": {
        "id": "LTJaZWj7cuAz",
        "outputId": "222e38db-c9c5-4b25-f8c3-57ea9da3987d",
        "colab": {
          "base_uri": "https://localhost:8080/",
          "height": 336
        }
      },
      "execution_count": 168,
      "outputs": [
        {
          "output_type": "display_data",
          "data": {
            "text/plain": [
              "<Figure size 360x360 with 1 Axes>"
            ],
            "image/png": "[encoded data removed]"
          },
          "metadata": {
            "needs_background": "light"
          }
        }
      ]
    },
    {
      "cell_type": "markdown",
      "source": [
        "###EU Discussion"
      ],
      "metadata": {
        "id": "l5o2i2DDglMr"
      }
    },
    {
      "cell_type": "code",
      "source": [
        "vote_by_eudisc = eppes_cleaned[\"d71a_2\"].groupby(eppes_cleaned[\"qg1\"]).value_counts(normalize=True).rename('percent').reset_index()\n",
        "vote_by_eudisc[\"percent\"] = vote_by_eudisc[\"percent\"].mul(100)\n",
        "\n",
        "vote_by_eudisc = vote_by_eudisc.sort_values(by=['qg1', 'd71a_2'], ascending = True)\n",
        "\n",
        "vote_by_eudisc.loc[(vote_by_eudisc['d71a_2'] == 1), 'd71a_2'] = 'frequently'\n",
        "vote_by_eudisc.loc[(vote_by_eudisc['d71a_2'] == 2), 'd71a_2'] = 'occasionally'\n",
        "vote_by_eudisc.loc[(vote_by_eudisc['d71a_2'] == 3), 'd71a_2'] = 'never'\n",
        "vote_by_eudisc.loc[(vote_by_eudisc['d71a_2'] == 4), 'd71a_2'] = 'DK'\n",
        "\n",
        "print(vote_by_eudisc)"
      ],
      "metadata": {
        "id": "ceK493wqg6Sc",
        "outputId": "c51cbb50-399a-4eb6-dc99-3136df47b586",
        "colab": {
          "base_uri": "https://localhost:8080/"
        }
      },
      "execution_count": 171,
      "outputs": [
        {
          "output_type": "stream",
          "name": "stdout",
          "text": [
            "   qg1        d71a_2    percent\n",
            "2  1.0    frequently  19.376333\n",
            "0  1.0  occasionally  59.061834\n",
            "1  1.0         never  21.175373\n",
            "3  1.0            DK   0.386461\n",
            "6  2.0    frequently   9.144188\n",
            "4  2.0  occasionally  49.108863\n",
            "5  2.0         never  40.976236\n",
            "7  2.0            DK   0.770713\n"
          ]
        }
      ]
    },
    {
      "cell_type": "code",
      "source": [
        "# voting behavior: \"When you get together with friends or relatives, would you say you discuss frequently, occasionally or never about European political matters?\"\"\n",
        "\n",
        "rcParams['figure.figsize'] = 8.05,5\n",
        "\n",
        "countplot = sns.countplot(data = eppes_cleaned, x = \"qg1\", hue = \"d71a_2\", order=eppes_cleaned[\"qg1\"].value_counts(ascending=False).index, palette='PuBuGn_r')\n",
        "countplot.set(xlabel='', ylabel='count')\n",
        "countplot.set(xticklabels=[\"voted\", \"did not vote\"])\n",
        "countplot.set(title='Voting behavior by interest in EU proxy (total = 27464)')\n",
        "countplot.set(ylim=(0, 12000))\n",
        "\n",
        "countplot.legend(title='Frequency of political EU discussion', loc='upper right', labels=['frequently', 'occasionally', 'never', 'DK'])\n",
        "\n",
        "percentage = [19.4, 9.1, 59.1, 49.1, 21.2, 40.1, 0.4, 0.8]\n",
        "\n",
        "patches = countplot.patches\n",
        "for i in range(len(patches)):\n",
        "   x = patches[i].get_x() + patches[i].get_width()/2\n",
        "   y = patches[i].get_height()+100\n",
        "   countplot.annotate('{:.1f}%'.format(percentage[i]), (x, y), ha='center')"
      ],
      "metadata": {
        "id": "DP5gTx4fQsWZ",
        "outputId": "5ea5a3a3-4dd0-40d5-a977-c9f184ba560c",
        "colab": {
          "base_uri": "https://localhost:8080/",
          "height": 336
        }
      },
      "execution_count": 45,
      "outputs": [
        {
          "output_type": "display_data",
          "data": {
            "text/plain": [
              "<Figure size 579.6x360 with 1 Axes>"
            ],
            "image/png": "[encoded data removed]"
          },
          "metadata": {
            "needs_background": "light"
          }
        }
      ]
    },
    {
      "cell_type": "code",
      "source": [
        "# voting behavior EU discussion pecentages\n",
        "\n",
        "rcParams['figure.figsize'] = 8.05,5\n",
        "\n",
        "barplot = sns.barplot(data = vote_by_eudisc, x = \"qg1\", y = \"percent\", hue = \"d71a_2\", palette='PuBuGn_r')\n",
        "barplot.set(xlabel='')\n",
        "barplot.set(xticklabels=[\"voted\", \"did not vote\"])\n",
        "barplot.set(title='Voting behavior by interest in EU proxy (percent)')\n",
        "barplot.set(ylim=(0, 100))\n",
        "\n",
        "barplot.legend(title='Frequency of political EU discussion')\n",
        "\n",
        "percentage = [19.4, 9.1, 59.1, 49.1, 21.2, 40.1, 0.4, 0.8]\n",
        "\n",
        "patches = barplot.patches\n",
        "for i in range(len(patches)):\n",
        "   x = patches[i].get_x() + patches[i].get_width()/2\n",
        "   y = patches[i].get_height()+1\n",
        "   barplot.annotate('{:.1f}%'.format(percentage[i]), (x, y), ha='center')"
      ],
      "metadata": {
        "id": "AGfIWz6vgyp8",
        "outputId": "6b765193-2642-4b7b-e82e-a3b3a3c5d7ae",
        "colab": {
          "base_uri": "https://localhost:8080/",
          "height": 336
        }
      },
      "execution_count": 174,
      "outputs": [
        {
          "output_type": "display_data",
          "data": {
            "text/plain": [
              "<Figure size 579.6x360 with 1 Axes>"
            ],
            "image/png": "[encoded data removed]"
          },
          "metadata": {
            "needs_background": "light"
          }
        }
      ]
    }
  ]
}